{
 "cells": [
  {
   "cell_type": "code",
   "execution_count": 3,
   "metadata": {
    "extensions": {
     "jupyter_dashboards": {
      "version": 1,
      "views": {
       "grid_default": {
        "col": 0,
        "height": 4,
        "hidden": false,
        "row": 0,
        "width": 4
       },
       "report_default": {
        "hidden": false
       }
      }
     }
    },
    "slideshow": {
     "slide_type": "skip"
    }
   },
   "outputs": [],
   "source": [
    "%reload_ext cypher\n",
    "%config CypherMagic.uri='http://localhost:7474/db/data'"
   ]
  },
  {
   "cell_type": "code",
   "execution_count": 4,
   "metadata": {},
   "outputs": [
    {
     "name": "stdout",
     "output_type": "stream",
     "text": [
      "20 rows affected.\n"
     ]
    },
    {
     "data": {
      "text/html": [
       "<table>\n",
       "    <thead>\n",
       "        <tr>\n",
       "            <th>Artifact</th>\n",
       "            <th>Type</th>\n",
       "            <th>DeclaredMethods</th>\n",
       "        </tr>\n",
       "    </thead>\n",
       "    <tbody>\n",
       "        <tr>\n",
       "            <td>/org.scala-lang-scala-reflect-2.11.12.jar</td>\n",
       "            <td>scala.reflect.internal.SymbolTable</td>\n",
       "            <td>2632</td>\n",
       "        </tr>\n",
       "        <tr>\n",
       "            <td>/org.scala-lang-scala-reflect-2.11.12.jar</td>\n",
       "            <td>scala.reflect.internal.Definitions$DefinitionsClass</td>\n",
       "            <td>1554</td>\n",
       "        </tr>\n",
       "        <tr>\n",
       "            <td>/org.jruby-jruby-core-9.2.17.0.jar</td>\n",
       "            <td>org.jruby.Ruby</td>\n",
       "            <td>1342</td>\n",
       "        </tr>\n",
       "        <tr>\n",
       "            <td>/org.jruby-jruby-core-9.2.17.0.jar</td>\n",
       "            <td>org.jruby.RubyString</td>\n",
       "            <td>1274</td>\n",
       "        </tr>\n",
       "        <tr>\n",
       "            <td>/org.scala-lang-scala-reflect-2.11.12.jar</td>\n",
       "            <td>scala.reflect.internal.Symbols$Symbol</td>\n",
       "            <td>1226</td>\n",
       "        </tr>\n",
       "        <tr>\n",
       "            <td>/org.scala-lang-scala-reflect-2.11.12.jar</td>\n",
       "            <td>scala.reflect.internal.StdNames$TermNames</td>\n",
       "            <td>968</td>\n",
       "        </tr>\n",
       "        <tr>\n",
       "            <td>/org.neo4j-neo4j-io-3.5.28-tests.jar</td>\n",
       "            <td>org.neo4j.io.pagecache.PageCacheTest</td>\n",
       "            <td>954</td>\n",
       "        </tr>\n",
       "        <tr>\n",
       "            <td>/org.neo4j.driver-neo4j-java-driver-4.2.0.jar</td>\n",
       "            <td>org.neo4j.driver.internal.shaded.reactor.core.publisher.Flux</td>\n",
       "            <td>930</td>\n",
       "        </tr>\n",
       "        <tr>\n",
       "            <td>/org.jruby-jruby-core-9.2.17.0.jar</td>\n",
       "            <td>org.jruby.RubyModule</td>\n",
       "            <td>906</td>\n",
       "        </tr>\n",
       "        <tr>\n",
       "            <td>/META-INF/jruby.home/lib/ruby/stdlib/org/bouncycastle/bctls-jdk15on/1.65/bctls-jdk15on-1.65.jar</td>\n",
       "            <td>org.bouncycastle.tls.TlsUtils</td>\n",
       "            <td>884</td>\n",
       "        </tr>\n",
       "        <tr>\n",
       "            <td>/org.jruby-jruby-core-9.2.17.0.jar</td>\n",
       "            <td>org.jruby.RubyArray</td>\n",
       "            <td>840</td>\n",
       "        </tr>\n",
       "        <tr>\n",
       "            <td>/org.eclipse.collections-eclipse-collections-9.2.0.jar</td>\n",
       "            <td>org.eclipse.collections.impl.map.sorted.mutable.UnmodifiableTreeMap</td>\n",
       "            <td>724</td>\n",
       "        </tr>\n",
       "        <tr>\n",
       "            <td>/org.neo4j.driver-neo4j-java-driver-4.2.0.jar</td>\n",
       "            <td>org.neo4j.driver.internal.shaded.io.netty.buffer.CompositeByteBuf</td>\n",
       "            <td>684</td>\n",
       "        </tr>\n",
       "        <tr>\n",
       "            <td>/io.netty-netty-all-4.1.48.Final.jar</td>\n",
       "            <td>io.netty.buffer.CompositeByteBuf</td>\n",
       "            <td>682</td>\n",
       "        </tr>\n",
       "        <tr>\n",
       "            <td>/org.eclipse.collections-eclipse-collections-9.2.0.jar</td>\n",
       "            <td>org.eclipse.collections.impl.list.mutable.FastList</td>\n",
       "            <td>680</td>\n",
       "        </tr>\n",
       "        <tr>\n",
       "            <td>/org.apache.commons-commons-lang3-3.8.1.jar</td>\n",
       "            <td>org.apache.commons.lang3.ArrayUtils</td>\n",
       "            <td>642</td>\n",
       "        </tr>\n",
       "        <tr>\n",
       "            <td>/org.eclipse.collections-eclipse-collections-9.2.0.jar</td>\n",
       "            <td>org.eclipse.collections.impl.set.sorted.mutable.TreeSortedSet</td>\n",
       "            <td>632</td>\n",
       "        </tr>\n",
       "        <tr>\n",
       "            <td>/org.scala-lang-scala-library-2.11.12.jar</td>\n",
       "            <td>scala.collection.mutable.IndexedSeqLike$$anon$1</td>\n",
       "            <td>626</td>\n",
       "        </tr>\n",
       "        <tr>\n",
       "            <td>/org.scala-lang-scala-reflect-2.11.12.jar</td>\n",
       "            <td>scala.reflect.internal.Definitions$definitions$</td>\n",
       "            <td>624</td>\n",
       "        </tr>\n",
       "        <tr>\n",
       "            <td>/org.scala-lang-scala-reflect-2.11.12.jar</td>\n",
       "            <td>scala.reflect.runtime.JavaUniverse</td>\n",
       "            <td>618</td>\n",
       "        </tr>\n",
       "    </tbody>\n",
       "</table>"
      ],
      "text/plain": [
       "[['/org.scala-lang-scala-reflect-2.11.12.jar',\n",
       "  'scala.reflect.internal.SymbolTable',\n",
       "  2632],\n",
       " ['/org.scala-lang-scala-reflect-2.11.12.jar',\n",
       "  'scala.reflect.internal.Definitions$DefinitionsClass',\n",
       "  1554],\n",
       " ['/org.jruby-jruby-core-9.2.17.0.jar', 'org.jruby.Ruby', 1342],\n",
       " ['/org.jruby-jruby-core-9.2.17.0.jar', 'org.jruby.RubyString', 1274],\n",
       " ['/org.scala-lang-scala-reflect-2.11.12.jar',\n",
       "  'scala.reflect.internal.Symbols$Symbol',\n",
       "  1226],\n",
       " ['/org.scala-lang-scala-reflect-2.11.12.jar',\n",
       "  'scala.reflect.internal.StdNames$TermNames',\n",
       "  968],\n",
       " ['/org.neo4j-neo4j-io-3.5.28-tests.jar',\n",
       "  'org.neo4j.io.pagecache.PageCacheTest',\n",
       "  954],\n",
       " ['/org.neo4j.driver-neo4j-java-driver-4.2.0.jar',\n",
       "  'org.neo4j.driver.internal.shaded.reactor.core.publisher.Flux',\n",
       "  930],\n",
       " ['/org.jruby-jruby-core-9.2.17.0.jar', 'org.jruby.RubyModule', 906],\n",
       " ['/META-INF/jruby.home/lib/ruby/stdlib/org/bouncycastle/bctls-jdk15on/1.65/bctls-jdk15on-1.65.jar',\n",
       "  'org.bouncycastle.tls.TlsUtils',\n",
       "  884],\n",
       " ['/org.jruby-jruby-core-9.2.17.0.jar', 'org.jruby.RubyArray', 840],\n",
       " ['/org.eclipse.collections-eclipse-collections-9.2.0.jar',\n",
       "  'org.eclipse.collections.impl.map.sorted.mutable.UnmodifiableTreeMap',\n",
       "  724],\n",
       " ['/org.neo4j.driver-neo4j-java-driver-4.2.0.jar',\n",
       "  'org.neo4j.driver.internal.shaded.io.netty.buffer.CompositeByteBuf',\n",
       "  684],\n",
       " ['/io.netty-netty-all-4.1.48.Final.jar',\n",
       "  'io.netty.buffer.CompositeByteBuf',\n",
       "  682],\n",
       " ['/org.eclipse.collections-eclipse-collections-9.2.0.jar',\n",
       "  'org.eclipse.collections.impl.list.mutable.FastList',\n",
       "  680],\n",
       " ['/org.apache.commons-commons-lang3-3.8.1.jar',\n",
       "  'org.apache.commons.lang3.ArrayUtils',\n",
       "  642],\n",
       " ['/org.eclipse.collections-eclipse-collections-9.2.0.jar',\n",
       "  'org.eclipse.collections.impl.set.sorted.mutable.TreeSortedSet',\n",
       "  632],\n",
       " ['/org.scala-lang-scala-library-2.11.12.jar',\n",
       "  'scala.collection.mutable.IndexedSeqLike$$anon$1',\n",
       "  626],\n",
       " ['/org.scala-lang-scala-reflect-2.11.12.jar',\n",
       "  'scala.reflect.internal.Definitions$definitions$',\n",
       "  624],\n",
       " ['/org.scala-lang-scala-reflect-2.11.12.jar',\n",
       "  'scala.reflect.runtime.JavaUniverse',\n",
       "  618]]"
      ]
     },
     "execution_count": 4,
     "metadata": {},
     "output_type": "execute_result"
    }
   ],
   "source": [
    "%%cypher \n",
    "MATCH (a:Artifact)-[:CONTAINS]->(t:Type)-[:DECLARES]->(m:Method)\n",
    "RETURN a.fileName as Artifact, t.fqn AS Type, count(t) AS DeclaredMethods\n",
    "ORDER BY DeclaredMethods DESC\n",
    "LIMIT 20"
   ]
  },
  {
   "cell_type": "markdown",
   "metadata": {
    "extensions": {
     "jupyter_dashboards": {
      "version": 1,
      "views": {
       "grid_default": {
        "col": 4,
        "height": 4,
        "hidden": false,
        "row": 0,
        "width": 4
       },
       "report_default": {
        "hidden": false
       }
      }
     }
    },
    "slideshow": {
     "slide_type": "slide"
    }
   },
   "source": [
    "# Software-Analyse hinsichtlich eines möglichen CVE-Checks"
   ]
  },
  {
   "cell_type": "markdown",
   "metadata": {
    "extensions": {
     "jupyter_dashboards": {
      "version": 1,
      "views": {
       "grid_default": {
        "col": 8,
        "height": 4,
        "hidden": false,
        "row": 0,
        "width": 4
       },
       "report_default": {
        "hidden": false
       }
      }
     }
    },
    "slideshow": {
     "slide_type": "subslide"
    }
   },
   "source": [
    "## Fragestellung"
   ]
  },
  {
   "cell_type": "markdown",
   "metadata": {
    "slideshow": {
     "slide_type": "subslide"
    }
   },
   "source": [
    "### <center>Was möchte ich über die zu analysierende Software, Prozesse, Verwendung, Organisation etc. wissen?</center>\n",
    "\n",
    "- **Starte mit einer relevanten Frage!** \n",
    "- **Reales Problem?** \n",
    "- **Für wen relevant?** \n",
    "- **Was ändern die Analyseergebnisse?** \n",
    "\n"
   ]
  },
  {
   "cell_type": "markdown",
   "metadata": {
    "slideshow": {
     "slide_type": "subslide"
    }
   },
   "source": [
    "## Datenquelle"
   ]
  },
  {
   "cell_type": "markdown",
   "metadata": {
    "slideshow": {
     "slide_type": "subslide"
    }
   },
   "source": [
    "### <center>Welche Daten können womöglich unsere Frage beantworten? Welche Informationen brauchen wir?</center>\n",
    "\n",
    "- Welche Daten kann ich organisieren?\n",
    "- Welche Informationen kann ich aus diesen Daten ziehen?\n",
    "- Welche Daten fehlen möglicherweise?\n",
    "- Benötige ich zusätzliche Datensammlungen über den Umfang heraus?\n",
    "\n",
    "**Die Datenwahl von Anfang an ist äußerst wichtig um spätere *falsche* Schlußfolgerungen zu vermeiden! Falls du Daten von einem System extrahieren musst, dann clarify wie die Daten exportiert hast!**"
   ]
  },
  {
   "cell_type": "markdown",
   "metadata": {
    "slideshow": {
     "slide_type": "subslide"
    }
   },
   "source": [
    "## Annahmen"
   ]
  },
  {
   "cell_type": "markdown",
   "metadata": {
    "slideshow": {
     "slide_type": "subslide"
    }
   },
   "source": [
    "### <center>Welche Annahmen wollen wir machen um die Antwort auf unsere Frage zu vereinfachen?</center>\n",
    "\n",
    "Nicht alle Daten aus dem existierenden System sind gute Kandidaten für eine Softwareanalyse. Darüberhinaus können wir nicht annehmen, dass wir Daten habe, die unsere Frage genaustens beantworten kann.\n",
    "\n",
    "- Welche Approcimationen aufgrund der Daten **können** wir machen?\n",
    "- Was siehst du in den Daten?\n",
    "- Dokumentiere deine Simplification bzgl. der Datenpunkte!\n"
   ]
  },
  {
   "cell_type": "markdown",
   "metadata": {
    "slideshow": {
     "slide_type": "subslide"
    }
   },
   "source": [
    "## Validierung"
   ]
  },
  {
   "cell_type": "markdown",
   "metadata": {
    "slideshow": {
     "slide_type": "slide"
    }
   },
   "source": [
    "### <center>Welche Ergebnisse erwarten wir von der Analyse?</center>\n",
    "### <center>Wie werden diese Ergebnisse verständlich reviewed und präsentiert?</center>\n",
    "\n",
    "Der Schlüssel um einen wirklichen Unterschied zu bevor mit Softwareanalyse zu erzielen ist es, die Analyse verständlich und comprehensively für die Leute zu präsentieren, die als Entscheidungsträger fungieren oder Geld dafür ausgeben --> Stakeholder!\n",
    "\n",
    "- Wie können die Resultate für Stakeholder aufbereitet werden?\n",
    "- Wenn wir eine Antwort auf unsere zentrale Frage haben --> Wohin wollen wir arbeiten um zu den grundlegenden Problem zu kommen?"
   ]
  },
  {
   "cell_type": "markdown",
   "metadata": {
    "slideshow": {
     "slide_type": "subslide"
    }
   },
   "source": [
    "## Implementierung"
   ]
  },
  {
   "cell_type": "markdown",
   "metadata": {
    "slideshow": {
     "slide_type": "subslide"
    }
   },
   "source": [
    "### <center>Wie können wir die Analyse schrittweise verständlich implementieren?</center>\n",
    "\n",
    "Denk vorher über den Code nach! Was willst du implementieren? Was kannst du vereinfachen? Zu kompliziert und niemand versteht ihn. --> Leute werden an den Resultaten zweifeln.\n",
    "\n",
    "- Zeichne zuerst mögliche grobe Implementierungsvarianten ab\n",
    "- Welche Tools willst du verwenden?\n",
    "\n",
    "Verlier dich nicht im Analysecode!"
   ]
  },
  {
   "cell_type": "markdown",
   "metadata": {
    "slideshow": {
     "slide_type": "subslide"
    }
   },
   "source": [
    "## Ergebnisse"
   ]
  },
  {
   "cell_type": "markdown",
   "metadata": {
    "slideshow": {
     "slide_type": "subslide"
    }
   },
   "source": [
    "### <center>Was sind die hauptsächlichen Insight resultierend der Analyse?</center>\n",
    "\n",
    "- Liste Key Point aus der Analyse auf!\n",
    "- Was sind die aktionswürdigen Insights, die du gefunden hast?\n",
    "- - Selbst wenn es keine gibt --> dokumentiere!\n",
    "- - Hat die Analyse nicht wie gedacht funktioniert? \n",
    "- - Sind deine Ergebnisse nicht gut belegbar, Beweise zu schwach?\n",
    "\n",
    "Dokumentiere alles, denn Erfahrung ist Erfahrung!"
   ]
  },
  {
   "cell_type": "markdown",
   "metadata": {
    "slideshow": {
     "slide_type": "subslide"
    }
   },
   "source": [
    "## Nächste Schritte"
   ]
  },
  {
   "cell_type": "markdown",
   "metadata": {
    "slideshow": {
     "slide_type": "subslide"
    }
   },
   "source": [
    "### <center>Welche Folgeaktionen können wir aus den Ergebnissen ziehen?</center>\n",
    "### <center>Wer oder was muss als nächstes addressiert werden?</center>\n",
    "\n",
    "Software-Analyse ist nicht komplett, wenn die nächsten Schritte fehlen, welche die Situation verbessern soll!\n",
    "\n",
    "- Welche Entscheidungen können die Ergebnisse supporten oder zu einem ad absurdum führen?\n",
    "- Welche Experimente können anhand der Ergebnisse/Fakten jetzt ausgeführt werden?\n",
    "- Schreibe eine To-Do-Liste oder Ideen für eine weiterführende Analyse um die bestehenden neuen Insights tiefer zu ergründen!"
   ]
  },
  {
   "cell_type": "markdown",
   "metadata": {
    "slideshow": {
     "slide_type": "subslide"
    }
   },
   "source": [
    "## Quellen\n",
    "\n",
    "- Software Analytics Canvas von Markus Harrer (https://www.feststelltaste.de/software-analytics-canvas/)"
   ]
  }
 ],
 "metadata": {
  "celltoolbar": "Slideshow",
  "extensions": {
   "jupyter_dashboards": {
    "activeView": "grid_default",
    "version": 1,
    "views": {
     "grid_default": {
      "cellMargin": 10,
      "defaultCellHeight": 20,
      "maxColumns": 12,
      "name": "grid",
      "type": "grid"
     },
     "report_default": {
      "name": "report",
      "type": "report"
     }
    }
   }
  },
  "kernelspec": {
   "display_name": "Python 3",
   "language": "python",
   "name": "python3"
  },
  "language_info": {
   "codemirror_mode": {
    "name": "ipython",
    "version": 3
   },
   "file_extension": ".py",
   "mimetype": "text/x-python",
   "name": "python",
   "nbconvert_exporter": "python",
   "pygments_lexer": "ipython3",
   "version": "3.7.8"
  }
 },
 "nbformat": 4,
 "nbformat_minor": 4
}
