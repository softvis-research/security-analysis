{
 "cells": [
  {
   "cell_type": "markdown",
   "metadata": {
    "extensions": {
     "jupyter_dashboards": {
      "version": 1,
      "views": {
       "grid_default": {
        "col": 4,
        "height": 4,
        "hidden": false,
        "row": 0,
        "width": 4
       },
       "report_default": {
        "hidden": false
       }
      }
     }
    },
    "slideshow": {
     "slide_type": "slide"
    }
   },
   "source": [
    "# Schwachstellenanalyse hinsichtlich bekannter CVE's"
   ]
  },
  {
   "cell_type": "markdown",
   "metadata": {
    "extensions": {
     "jupyter_dashboards": {
      "version": 1,
      "views": {
       "grid_default": {
        "col": 8,
        "height": 4,
        "hidden": false,
        "row": 0,
        "width": 4
       },
       "report_default": {
        "hidden": false
       }
      }
     }
    },
    "slideshow": {
     "slide_type": "slide"
    }
   },
   "source": [
    "## Fragestellung\n",
    "\n",
    "Treten in dem vorliegendem Java-Projekt mögliche Sicherheitslücken aufgrund von gemeldeten CVE auf? Wie kritisch werden jene Schwachstellen eingeschätzt?\n",
    "* relevant für Dienstleister/Entwickler und Kunden/Anwender zugleich um Angriffe von Dritten über die Ausnutzung von Schwachstellen zu unterbinden (z.B. Sniffer-Attacks, Denial-of-Service, Buffer-Overflow)\n",
    "* Ergebnisse sollen weiterführende Analysemöglichkeiten und Risikobewertuntgen ermöglichen"
   ]
  },
  {
   "cell_type": "markdown",
   "metadata": {
    "slideshow": {
     "slide_type": "slide"
    }
   },
   "source": [
    "## Datenquelle\n",
    "* Java-Strukturen eines Git-Projekts, welches aufgrund der Anpassung der pom.xml durch jQAssistant gescannt und in einer Neo4j-Instanz gespeichert wurde\n",
    "* Daten zu CVE's über Dateiimport und Request an cveapi (letzteres nur über einen übersichtlichen Datensatz möglich, da die Firewall des API-Servers den Request zum Schutz vor Denial-of-Service-Attacken sperrt)"
   ]
  },
  {
   "cell_type": "markdown",
   "metadata": {
    "slideshow": {
     "slide_type": "subslide"
    }
   },
   "source": [
    "### konkrete Quellen\n",
    "* Projektgrundlage: Petclinic &rarr; verwendete Frameworks (Artefakte) & zugehörige Versionen\n",
    "* CVE-Dateiimport: historische CVE's von 2021 als JSON-Datei (Stand: 23.08.2021) &rarr; Download älterer Dateien unter https://nvd.nist.gov/vuln/data-feeds möglich\n",
    "* cve-api: Import der 20 aktuellsten CVE's\n",
    "\n",
    "### mögliche Schwachstellen\n",
    "* Artefakte/Frameworks ohne Versionsnummer, Versionsnummer mit unbrauchbaren Präfix/Suffix\n",
    "* Artefakte/Frameworks, welche nicht über jQAssistant erfasst werden konnten\n",
    "* genaues Matching zwischen verwendete Version und schwachstellenrelevante Version"
   ]
  },
  {
   "cell_type": "markdown",
   "metadata": {
    "slideshow": {
     "slide_type": "slide"
    }
   },
   "source": [
    "## Annahmen\n",
    "* Die relevanten Artefakte konnten von jQAssistant gescannt und als Artefakte mit den entsprechenden Labels \"name\" und \"version\" gespeichert werden. \n",
    "* Relevante Daten wie betroffene Konfigurationen, Versionen und Schweregrad der Schwachstellen können über die JSON-Strukturierung der CVE's abgerufen werden.\n",
    "* Die Artefakte können mit den Informationen der CVE's abgeglichen werden. "
   ]
  },
  {
   "cell_type": "markdown",
   "metadata": {
    "slideshow": {
     "slide_type": "slide"
    }
   },
   "source": [
    "## Validierung\n",
    "\n",
    "### Datenaufbereitung\n",
    "* Tabellenansicht bzgl. aller relevanten (im Projekt möglichen) Schwachstellen\n",
    "* Graphische Übersicht über betroffene Artefakte und Anzahl der zugehörigen CVE's\n",
    "* Graphische Übersicht über Impact Score der auftretenden CVE's\n",
    "* Graphische Übersicht über Exploitability Score der auftretenden CVE's"
   ]
  },
  {
   "cell_type": "markdown",
   "metadata": {
    "slideshow": {
     "slide_type": "subslide"
    }
   },
   "source": [
    "### Aktionen\n",
    "* Review bzgl. der auftretenden Schwachstellen und dessen Schweregrade\n",
    "* Validierung & Evaluierung der Schwachstellen durch Domainexperten\n",
    "* Planung der nächsten Schritte/Meilensteine durch Projekt"
   ]
  },
  {
   "cell_type": "markdown",
   "metadata": {
    "slideshow": {
     "slide_type": "slide"
    }
   },
   "source": [
    "## Implementierung\n",
    "* Identifikation der relevanten Artefakte über Node Label \"Artifact\" und über die Property-Nodes des Nodes der pom.xml mit der Relationship [:HAS_PROPERTY] &rarr; Extraktion des Namens & der Version\n",
    "* Extraktion der CVE aus der JSON-Datei & über cveapi &rarr; Auflösung von Verschachtelungen und Kürzung der Spaltenanzahl\n",
    "* Abgleich der identifizierten Artefakte aus dem Projekt mit den betroffenden Konfiguration aus den CVE"
   ]
  },
  {
   "cell_type": "code",
   "execution_count": 1,
   "metadata": {
    "slideshow": {
     "slide_type": "skip"
    }
   },
   "outputs": [],
   "source": [
    "#Import of all used libraries\n",
    "import py2neo\n",
    "import pandas as pd\n",
    "import numpy as np\n",
    "\n",
    "import json\n",
    "from pandas.io.json import json_normalize\n",
    "import openpyxl\n",
    "\n",
    "import urllib3\n",
    "from urllib3 import request\n",
    "import json\n",
    "import certifi\n",
    "\n",
    "from IPython.display import display, HTML\n",
    "import pygal"
   ]
  },
  {
   "cell_type": "code",
   "execution_count": 2,
   "metadata": {
    "slideshow": {
     "slide_type": "skip"
    }
   },
   "outputs": [],
   "source": [
    "base_html = \"\"\"\n",
    "<!DOCTYPE html>\n",
    "<html>\n",
    "  <head>\n",
    "  <script type=\"text/javascript\" src=\"http://kozea.github.com/pygal.js/javascripts/svg.jquery.js\"></script>\n",
    "  <script type=\"text/javascript\" src=\"https://kozea.github.io/pygal.js/2.0.x/pygal-tooltips.min.js\"\"></script>\n",
    "  </head>\n",
    "  <body>\n",
    "    <figure>\n",
    "      {rendered_chart}\n",
    "    </figure>\n",
    "  </body>\n",
    "</html>\n",
    "\"\"\""
   ]
  },
  {
   "cell_type": "code",
   "execution_count": 3,
   "metadata": {
    "slideshow": {
     "slide_type": "skip"
    }
   },
   "outputs": [],
   "source": [
    "#Verbindung zu neo4j und Speicherung des Graphen in der Variable 'Graph'\n",
    "\n",
    "graph = py2neo.Graph(host='localhost', user='neo4j', password='neo4j')"
   ]
  },
  {
   "cell_type": "code",
   "execution_count": 4,
   "metadata": {
    "slideshow": {
     "slide_type": "subslide"
    }
   },
   "outputs": [],
   "source": [
    "#Query um alle Artefakte bzgl. Frameworks zu erhalten\n",
    "#Bereininung von Duplikaten, Testfiles und unnötigen Präfixes \n",
    "\n",
    "query = \"\"\"\n",
    "MATCH (artifact:Artifact) WHERE NOT artifact.name contains 'petclinic' AND NOT artifact.type = 'test-jar'\n",
    "WITH DISTINCT artifact \n",
    "Return artifact.name as Artefakt, artifact.version as Version\n",
    "\"\"\"\n",
    "df_usedArtifacts = pd.DataFrame(graph.run(query), columns=['Artefakt', 'Version'])\n",
    "df_usedArtifacts['Version'] = df_usedArtifacts['Version'].str.replace('[.-]?[a-zA-Z]+[-]?\\w+([.-]?\\d*)*$','',regex=True)"
   ]
  },
  {
   "cell_type": "code",
   "execution_count": 5,
   "metadata": {
    "slideshow": {
     "slide_type": "subslide"
    }
   },
   "outputs": [
    {
     "data": {
      "text/html": [
       "<div>\n",
       "<style scoped>\n",
       "    .dataframe tbody tr th:only-of-type {\n",
       "        vertical-align: middle;\n",
       "    }\n",
       "\n",
       "    .dataframe tbody tr th {\n",
       "        vertical-align: top;\n",
       "    }\n",
       "\n",
       "    .dataframe thead th {\n",
       "        text-align: right;\n",
       "    }\n",
       "</style>\n",
       "<table border=\"1\" class=\"dataframe\">\n",
       "  <thead>\n",
       "    <tr style=\"text-align: right;\">\n",
       "      <th></th>\n",
       "      <th>Artefakt</th>\n",
       "      <th>Version</th>\n",
       "    </tr>\n",
       "  </thead>\n",
       "  <tbody>\n",
       "    <tr>\n",
       "      <th>0</th>\n",
       "      <td>xmlunit2</td>\n",
       "      <td>2.6.2</td>\n",
       "    </tr>\n",
       "    <tr>\n",
       "      <th>1</th>\n",
       "      <td>xmlunit-matchers</td>\n",
       "      <td>2.6.2</td>\n",
       "    </tr>\n",
       "    <tr>\n",
       "      <th>2</th>\n",
       "      <td>xmlunit-legacy</td>\n",
       "      <td>2.6.2</td>\n",
       "    </tr>\n",
       "    <tr>\n",
       "      <th>3</th>\n",
       "      <td>xmlunit-core</td>\n",
       "      <td>2.6.2</td>\n",
       "    </tr>\n",
       "    <tr>\n",
       "      <th>4</th>\n",
       "      <td>xml-path</td>\n",
       "      <td>3.1.1</td>\n",
       "    </tr>\n",
       "    <tr>\n",
       "      <th>...</th>\n",
       "      <td>...</td>\n",
       "      <td>...</td>\n",
       "    </tr>\n",
       "    <tr>\n",
       "      <th>982</th>\n",
       "      <td>activemq</td>\n",
       "      <td>5.15.7</td>\n",
       "    </tr>\n",
       "    <tr>\n",
       "      <th>983</th>\n",
       "      <td>accessors-smart</td>\n",
       "      <td>1.2</td>\n",
       "    </tr>\n",
       "    <tr>\n",
       "      <th>984</th>\n",
       "      <td>LatencyUtils</td>\n",
       "      <td>2.0.3</td>\n",
       "    </tr>\n",
       "    <tr>\n",
       "      <th>985</th>\n",
       "      <td>HikariCP</td>\n",
       "      <td>3.2.0</td>\n",
       "    </tr>\n",
       "    <tr>\n",
       "      <th>986</th>\n",
       "      <td>HdrHistogram</td>\n",
       "      <td>2.1.9</td>\n",
       "    </tr>\n",
       "  </tbody>\n",
       "</table>\n",
       "<p>987 rows × 2 columns</p>\n",
       "</div>"
      ],
      "text/plain": [
       "             Artefakt Version\n",
       "0            xmlunit2   2.6.2\n",
       "1    xmlunit-matchers   2.6.2\n",
       "2      xmlunit-legacy   2.6.2\n",
       "3        xmlunit-core   2.6.2\n",
       "4            xml-path   3.1.1\n",
       "..                ...     ...\n",
       "982          activemq  5.15.7\n",
       "983   accessors-smart     1.2\n",
       "984      LatencyUtils   2.0.3\n",
       "985          HikariCP   3.2.0\n",
       "986      HdrHistogram   2.1.9\n",
       "\n",
       "[987 rows x 2 columns]"
      ]
     },
     "execution_count": 5,
     "metadata": {},
     "output_type": "execute_result"
    }
   ],
   "source": [
    "#Query zu allen Frameworks, die als Property an der pom.xml gespeichert sind\n",
    "#Joining beider Dataframes, Duplikaterntfernung\n",
    "\n",
    "query2 = \"\"\"\n",
    "Match (p:Pom)-[:HAS_PROPERTY]->(pr:Property) \n",
    "Return pr.name as Artefakt, pr.value as Version\n",
    "\"\"\"\n",
    "df_PomProperties = pd.DataFrame(graph.run(query2), columns=['Artefakt', 'Version'])\n",
    "df_PomProperties['Artefakt'] = df_PomProperties['Artefakt'].str.replace('.?[vV]ersion','',regex=True)\n",
    "\n",
    "df_usedItems = pd.merge(left=df_PomProperties, right=df_usedArtifacts, how='outer', left_on='Artefakt', right_on='Artefakt')\n",
    "for i in df_usedItems.index:\n",
    "    version_y = df_usedItems['Version_y'][i]\n",
    "    version_x = df_usedItems['Version_x'][i]\n",
    "    if pd.isnull(version_x) and (version_y is not None):\n",
    "        df_usedItems.loc[i, 'Version_x'] = version_y\n",
    "\n",
    "df_usedItems = df_usedItems.sort_values(by=['Artefakt','Version_x'], ascending=False, na_position='last')\n",
    "df_usedItems = df_usedItems.drop_duplicates(subset='Artefakt', keep=\"first\")\n",
    "df_usedItems = df_usedItems.reset_index()\n",
    "df_usedItems = df_usedItems.drop(['index'], axis=1)\n",
    "\n",
    "df_usedItems = df_usedItems.drop(['Version_y'], axis=1)\n",
    "df_usedItems.columns =['Artefakt', 'Version']\n",
    "df_usedItems"
   ]
  },
  {
   "cell_type": "markdown",
   "metadata": {
    "slideshow": {
     "slide_type": "slide"
    }
   },
   "source": [
    "## Datenimport über cveapi oder entsprechender JSON\n",
    "Beide Möglichkeiten besitzen eine ähnliche Datenstrukturierung. Der Request über cveapi erweitert die Strukturierung nur um wenige weitere Key-Value-Paare, weshalb das DataFrame zusätzlicher Anpassung benötigt."
   ]
  },
  {
   "cell_type": "code",
   "execution_count": 6,
   "metadata": {
    "slideshow": {
     "slide_type": "subslide"
    }
   },
   "outputs": [],
   "source": [
    "# Laden der statischen CVE-Daten über JSON-Datei\n",
    "# Download über https://nvd.nist.gov/vuln/data-feeds\n",
    "\n",
    "api = 'false'\n",
    "\n",
    "with open('CVE/nvdcve-1.1-2021.json', encoding='utf-8') as staticData:\n",
    "    jsonData = json.load(staticData)\n",
    "df_raw = pd.json_normalize(jsonData, record_path =['CVE_Items'])\n"
   ]
  },
  {
   "cell_type": "code",
   "execution_count": null,
   "metadata": {
    "slideshow": {
     "slide_type": "subslide"
    }
   },
   "outputs": [],
   "source": [
    "# Datenimport über cveapi \n",
    "# Import aller CVE's wird nicht empfohlen, da dies von der Firewall des Servers\n",
    "# zur Prävention von Denial-of-service-Attacken verhindert wird\n",
    "\n",
    "api = 'true'\n",
    "\n",
    "http = urllib3.PoolManager(\n",
    "    cert_reqs=\"CERT_REQUIRED\",\n",
    "    ca_certs=certifi.where()\n",
    ")\n",
    "\n",
    "#Request einer spezifischen CVE\n",
    "#url ='https://services.nvd.nist.gov/rest/json/cves/1.0?CVE-2020-24616'\n",
    "\n",
    "#Request der 20 aktuellsten CVE\n",
    "url ='https://services.nvd.nist.gov/rest/json/cves/1.0?startIndex=20' \n",
    "\n",
    "#Request der CVE ab einem definierten Startzeitpunkt\n",
    "#url ='https://services.nvd.nist.gov/rest/json/cves/1.0?modStartDate=2021-01-0101T00:00:00:000 UTC-05:00\n",
    "\n",
    "\n",
    "r = http.request('GET', url)\n",
    "r.status\n",
    "\n",
    "# JSON-Daten werden ausgewertet & in ein Dictionary gespeichert\n",
    "jsonData = json.loads(r.data.decode('utf-8'))\n",
    "df_nested_list = pd.json_normalize(jsonData)\n",
    "df_raw = df_nested_list.loc[:,df_nested_list.columns.isin(['result.CVE_Items'])]\n",
    "json_struct = json.loads(df_raw.to_json(orient=\"records\")) \n",
    "df_raw = pd.json_normalize(json_struct,record_path =['result.CVE_Items'])"
   ]
  },
  {
   "cell_type": "markdown",
   "metadata": {
    "slideshow": {
     "slide_type": "slide"
    }
   },
   "source": [
    "## Datenaufbereitung über DataFrames"
   ]
  },
  {
   "cell_type": "code",
   "execution_count": 7,
   "metadata": {
    "slideshow": {
     "slide_type": "subslide"
    }
   },
   "outputs": [],
   "source": [
    "#Aufbereitung der Daten zu einer Tabelle mit ID, Beschreibung & Schweregrad der Sicherheitslücke\n",
    "\n",
    "#DataFrame wird auf 6 Spalten gekürzt & Spalten werden umbenannt (Lesbarkeit)\n",
    "vulnerableList= df_raw.columns.isin(['cve.CVE_data_meta.ID', 'impact.baseMetricV3.cvssV3.confidentialityImpact', 'impact.baseMetricV3.cvssV3.integrityImpact', 'impact.baseMetricV3.cvssV3.availabilityImpact', 'impact.baseMetricV3.cvssV3.baseScore', 'impact.baseMetricV3.exploitabilityScore', 'impact.baseMetricV3.impactScore'])\n",
    "df_basic = df_raw.loc[:,vulnerableList]\n",
    "df_basic.columns =['CVE-ID', 'Confidentially Impact', 'Integrity Impact', 'Availability Impact','Base Score', 'Exploitability Score', 'Impact Score']\n",
    "\n",
    "\n",
    "#Neues DF mit den CVE-Beschreibungen, da \"cve.description.description_data\" ein Dictionary enthält\n",
    "df_raw2 = df_raw.loc[:,df_raw.columns.isin(['cve.CVE_data_meta.ID', 'cve.description.description_data'])]\n",
    "\n",
    "#Reload & Manipulation des DataFrames um an die entsprechende Beschreibung zu gelangen\n",
    "json_struct = json.loads(df_raw2.to_json(orient=\"records\")) \n",
    "df_desc = pd.json_normalize(json_struct,record_path =['cve.description.description_data'], meta=['cve.CVE_data_meta.ID'])\n",
    "df_desc = df_desc.loc[:,df_desc.columns.isin(['value', 'cve.CVE_data_meta.ID'])]\n",
    "df_desc.columns =['CVE-Beschreibung', 'CVE-ID']\n",
    "\n",
    "#DF-Join von df_basic & df_desc\n",
    "basicList = pd.merge(left=df_basic, right=df_desc, left_on='CVE-ID', right_on='CVE-ID')\n",
    "basicList = basicList[['CVE-ID', 'CVE-Beschreibung', 'Confidentially Impact', 'Integrity Impact', 'Availability Impact','Base Score', 'Impact Score', 'Exploitability Score']]"
   ]
  },
  {
   "cell_type": "code",
   "execution_count": 8,
   "metadata": {
    "slideshow": {
     "slide_type": "subslide"
    }
   },
   "outputs": [],
   "source": [
    "#Neues DF mit den Konfigurationsbeschreibungen, da \"configurations.nodes\" ein Dictionary enthält\n",
    "newList= df_raw.columns.isin(['cve.CVE_data_meta.ID', 'configurations.nodes'])\n",
    "df_raw3 = df_raw.loc[:,newList]\n",
    "\n",
    "#Reload & Manipulation des DataFrames um an die entsprechende fehlerhafte Konfiguration zu gelangen\n",
    "json_struct = json.loads(df_raw3.to_json(orient=\"records\")) \n",
    "df_conf = pd.json_normalize(json_struct,record_path =['configurations.nodes'], meta=['cve.CVE_data_meta.ID'])\n",
    "json_struct = json.loads(df_conf.to_json(orient=\"records\")) \n",
    "df_conf2 = pd.json_normalize(json_struct,record_path =['cpe_match'], meta=['operator', 'cve.CVE_data_meta.ID'])\n",
    "\n",
    "#Kürzung & Umbenennung der Spalten\n",
    "if api == 'false':\n",
    "    df_conf2 = df_conf2.loc[:,df_conf2.columns.isin(['cpe23Uri', 'versionEndIncluding', 'versionEndExcluding', 'versionStartIncluding', 'versionStartExcluding', 'operator', 'cve.CVE_data_meta.ID'])]\n",
    "    df_conf2.columns =['cpe23URI', 'Last version (excl)', 'First version (incl)', 'Last version (incl)', 'First version (excl)', 'Connector/Relation', 'CVE-ID']\n",
    "    df_conf2 = df_conf2[['CVE-ID', 'Connector/Relation', 'cpe23URI','First version (excl)', 'First version (incl)', 'Last version (excl)', 'Last version (incl)']]\n",
    "elif api == 'true':\n",
    "    df_conf2 = df_conf2.rename(columns={\"cve.CVE_data_meta.ID\": \"CVE-ID\", \"cpe23Uri\": \"cpe23URI\", \"operator\": \"Connector/Relation\"})\n",
    "    df_conf2 = df_conf2.drop(columns=['cpe_name'])\n",
    " "
   ]
  },
  {
   "cell_type": "code",
   "execution_count": 9,
   "metadata": {
    "slideshow": {
     "slide_type": "subslide"
    }
   },
   "outputs": [],
   "source": [
    "#DataFrame bzgl. Konfigurationen mit Schwachstellen mit den verwendeten Artefakten scannen\n",
    "list1 = []\n",
    "list2 = []\n",
    "df_result = df_conf2[0:0]\n",
    "df_result.insert(len(df_result.columns), \"verwendetes Artefakt\", [])\n",
    "df_result.insert(len(df_result.columns), \"verwendete Version\", [])\n",
    "\n",
    "for j in df_usedItems.index:\n",
    "    version = df_usedItems['Version'][j]\n",
    "    artefakt = df_usedItems['Artefakt'][j]\n",
    "    \n",
    "    df_search = df_conf2.loc[df_conf2['cpe23URI'].str.contains(':'+artefakt + ':', case=False)]\n",
    "    if df_search is not None:\n",
    "        lengthDF = df_search.shape[0]\n",
    "        for i in range(lengthDF):\n",
    "            list1.append(artefakt)\n",
    "            list2.append(version)\n",
    "        df_search.insert(len(df_search.columns), \"verwendetes Artefakt\", list1)\n",
    "        df_search.insert(len(df_search.columns), \"verwendete Version\", list2)\n",
    "        list1.clear()\n",
    "        list2.clear()\n",
    "    df_result = df_result.append(df_search, ignore_index=True)"
   ]
  },
  {
   "cell_type": "markdown",
   "metadata": {
    "slideshow": {
     "slide_type": "slide"
    }
   },
   "source": [
    "### Auflistung der Schwachstellen\n",
    "Die folgende Tabelle stellt alle möglichen Schwachstellen bzgl. der verwendeten Artefakte in dem gescannten Projekt dar. Es werden neben der CVE-ID & dem Artefakt + Versionsnummer auch eine Beschreibung und die jeweiligen Scores zur Einschätzung der Relevanz und des Schweregrades aufgelistet.\n",
    "Die Liste wird als Excel abgespeichert."
   ]
  },
  {
   "cell_type": "code",
   "execution_count": 10,
   "metadata": {
    "slideshow": {
     "slide_type": "subslide"
    }
   },
   "outputs": [
    {
     "data": {
      "text/html": [
       "<div>\n",
       "<style scoped>\n",
       "    .dataframe tbody tr th:only-of-type {\n",
       "        vertical-align: middle;\n",
       "    }\n",
       "\n",
       "    .dataframe tbody tr th {\n",
       "        vertical-align: top;\n",
       "    }\n",
       "\n",
       "    .dataframe thead th {\n",
       "        text-align: right;\n",
       "    }\n",
       "</style>\n",
       "<table border=\"1\" class=\"dataframe\">\n",
       "  <thead>\n",
       "    <tr style=\"text-align: right;\">\n",
       "      <th></th>\n",
       "      <th>CVE-ID</th>\n",
       "      <th>CVE-Beschreibung</th>\n",
       "      <th>Confidentially Impact</th>\n",
       "      <th>Integrity Impact</th>\n",
       "      <th>Availability Impact</th>\n",
       "      <th>Base Score</th>\n",
       "      <th>Impact Score</th>\n",
       "      <th>Exploitability Score</th>\n",
       "      <th>verwendetes Artefakt</th>\n",
       "      <th>verwendete Version</th>\n",
       "    </tr>\n",
       "  </thead>\n",
       "  <tbody>\n",
       "    <tr>\n",
       "      <th>0</th>\n",
       "      <td>CVE-2021-1998</td>\n",
       "      <td>Vulnerability in the MySQL Server product of O...</td>\n",
       "      <td>NONE</td>\n",
       "      <td>LOW</td>\n",
       "      <td>LOW</td>\n",
       "      <td>3.8</td>\n",
       "      <td>2.5</td>\n",
       "      <td>1.2</td>\n",
       "      <td>mysql</td>\n",
       "      <td>8.0.13</td>\n",
       "    </tr>\n",
       "    <tr>\n",
       "      <th>1</th>\n",
       "      <td>CVE-2021-2001</td>\n",
       "      <td>Vulnerability in the MySQL Server product of O...</td>\n",
       "      <td>NONE</td>\n",
       "      <td>NONE</td>\n",
       "      <td>HIGH</td>\n",
       "      <td>4.9</td>\n",
       "      <td>3.6</td>\n",
       "      <td>1.2</td>\n",
       "      <td>mysql</td>\n",
       "      <td>8.0.13</td>\n",
       "    </tr>\n",
       "    <tr>\n",
       "      <th>2</th>\n",
       "      <td>CVE-2021-2002</td>\n",
       "      <td>Vulnerability in the MySQL Server product of O...</td>\n",
       "      <td>NONE</td>\n",
       "      <td>NONE</td>\n",
       "      <td>HIGH</td>\n",
       "      <td>4.9</td>\n",
       "      <td>3.6</td>\n",
       "      <td>1.2</td>\n",
       "      <td>mysql</td>\n",
       "      <td>8.0.13</td>\n",
       "    </tr>\n",
       "    <tr>\n",
       "      <th>3</th>\n",
       "      <td>CVE-2021-2006</td>\n",
       "      <td>Vulnerability in the MySQL Client product of O...</td>\n",
       "      <td>NONE</td>\n",
       "      <td>NONE</td>\n",
       "      <td>HIGH</td>\n",
       "      <td>5.3</td>\n",
       "      <td>3.6</td>\n",
       "      <td>1.6</td>\n",
       "      <td>mysql</td>\n",
       "      <td>8.0.13</td>\n",
       "    </tr>\n",
       "    <tr>\n",
       "      <th>4</th>\n",
       "      <td>CVE-2021-2007</td>\n",
       "      <td>Vulnerability in the MySQL Client product of O...</td>\n",
       "      <td>LOW</td>\n",
       "      <td>NONE</td>\n",
       "      <td>NONE</td>\n",
       "      <td>3.7</td>\n",
       "      <td>1.4</td>\n",
       "      <td>2.2</td>\n",
       "      <td>mysql</td>\n",
       "      <td>8.0.13</td>\n",
       "    </tr>\n",
       "    <tr>\n",
       "      <th>...</th>\n",
       "      <td>...</td>\n",
       "      <td>...</td>\n",
       "      <td>...</td>\n",
       "      <td>...</td>\n",
       "      <td>...</td>\n",
       "      <td>...</td>\n",
       "      <td>...</td>\n",
       "      <td>...</td>\n",
       "      <td>...</td>\n",
       "      <td>...</td>\n",
       "    </tr>\n",
       "    <tr>\n",
       "      <th>125</th>\n",
       "      <td>CVE-2021-3393</td>\n",
       "      <td>An information leak was discovered in postgres...</td>\n",
       "      <td>LOW</td>\n",
       "      <td>NONE</td>\n",
       "      <td>NONE</td>\n",
       "      <td>4.3</td>\n",
       "      <td>1.4</td>\n",
       "      <td>2.8</td>\n",
       "      <td>postgresql</td>\n",
       "      <td>42.2.5</td>\n",
       "    </tr>\n",
       "    <tr>\n",
       "      <th>126</th>\n",
       "      <td>CVE-2021-34428</td>\n",
       "      <td>For Eclipse Jetty versions &lt;= 9.4.40, &lt;= 10.0....</td>\n",
       "      <td>LOW</td>\n",
       "      <td>LOW</td>\n",
       "      <td>NONE</td>\n",
       "      <td>3.5</td>\n",
       "      <td>2.5</td>\n",
       "      <td>0.9</td>\n",
       "      <td>jetty</td>\n",
       "      <td>9.4.12.v20180830</td>\n",
       "    </tr>\n",
       "    <tr>\n",
       "      <th>127</th>\n",
       "      <td>CVE-2021-34429</td>\n",
       "      <td>For Eclipse Jetty versions 9.4.37-9.4.42, 10.0...</td>\n",
       "      <td>LOW</td>\n",
       "      <td>NONE</td>\n",
       "      <td>NONE</td>\n",
       "      <td>5.3</td>\n",
       "      <td>1.4</td>\n",
       "      <td>3.9</td>\n",
       "      <td>jetty</td>\n",
       "      <td>9.4.12.v20180830</td>\n",
       "    </tr>\n",
       "    <tr>\n",
       "      <th>128</th>\n",
       "      <td>CVE-2021-34629</td>\n",
       "      <td>The SendGrid WordPress plugin is vulnerable to...</td>\n",
       "      <td>LOW</td>\n",
       "      <td>NONE</td>\n",
       "      <td>NONE</td>\n",
       "      <td>4.3</td>\n",
       "      <td>1.4</td>\n",
       "      <td>2.8</td>\n",
       "      <td>sendgrid</td>\n",
       "      <td>4.3.0</td>\n",
       "    </tr>\n",
       "    <tr>\n",
       "      <th>129</th>\n",
       "      <td>CVE-2021-38140</td>\n",
       "      <td>The set_user extension module before 2.0.1 for...</td>\n",
       "      <td>HIGH</td>\n",
       "      <td>HIGH</td>\n",
       "      <td>HIGH</td>\n",
       "      <td>9.8</td>\n",
       "      <td>5.9</td>\n",
       "      <td>3.9</td>\n",
       "      <td>postgresql</td>\n",
       "      <td>42.2.5</td>\n",
       "    </tr>\n",
       "  </tbody>\n",
       "</table>\n",
       "<p>130 rows × 10 columns</p>\n",
       "</div>"
      ],
      "text/plain": [
       "             CVE-ID                                   CVE-Beschreibung  \\\n",
       "0     CVE-2021-1998  Vulnerability in the MySQL Server product of O...   \n",
       "1     CVE-2021-2001  Vulnerability in the MySQL Server product of O...   \n",
       "2     CVE-2021-2002  Vulnerability in the MySQL Server product of O...   \n",
       "3     CVE-2021-2006  Vulnerability in the MySQL Client product of O...   \n",
       "4     CVE-2021-2007  Vulnerability in the MySQL Client product of O...   \n",
       "..              ...                                                ...   \n",
       "125   CVE-2021-3393  An information leak was discovered in postgres...   \n",
       "126  CVE-2021-34428  For Eclipse Jetty versions <= 9.4.40, <= 10.0....   \n",
       "127  CVE-2021-34429  For Eclipse Jetty versions 9.4.37-9.4.42, 10.0...   \n",
       "128  CVE-2021-34629  The SendGrid WordPress plugin is vulnerable to...   \n",
       "129  CVE-2021-38140  The set_user extension module before 2.0.1 for...   \n",
       "\n",
       "    Confidentially Impact Integrity Impact Availability Impact  Base Score  \\\n",
       "0                    NONE              LOW                 LOW         3.8   \n",
       "1                    NONE             NONE                HIGH         4.9   \n",
       "2                    NONE             NONE                HIGH         4.9   \n",
       "3                    NONE             NONE                HIGH         5.3   \n",
       "4                     LOW             NONE                NONE         3.7   \n",
       "..                    ...              ...                 ...         ...   \n",
       "125                   LOW             NONE                NONE         4.3   \n",
       "126                   LOW              LOW                NONE         3.5   \n",
       "127                   LOW             NONE                NONE         5.3   \n",
       "128                   LOW             NONE                NONE         4.3   \n",
       "129                  HIGH             HIGH                HIGH         9.8   \n",
       "\n",
       "     Impact Score  Exploitability Score verwendetes Artefakt  \\\n",
       "0             2.5                   1.2                mysql   \n",
       "1             3.6                   1.2                mysql   \n",
       "2             3.6                   1.2                mysql   \n",
       "3             3.6                   1.6                mysql   \n",
       "4             1.4                   2.2                mysql   \n",
       "..            ...                   ...                  ...   \n",
       "125           1.4                   2.8           postgresql   \n",
       "126           2.5                   0.9                jetty   \n",
       "127           1.4                   3.9                jetty   \n",
       "128           1.4                   2.8             sendgrid   \n",
       "129           5.9                   3.9           postgresql   \n",
       "\n",
       "    verwendete Version  \n",
       "0               8.0.13  \n",
       "1               8.0.13  \n",
       "2               8.0.13  \n",
       "3               8.0.13  \n",
       "4               8.0.13  \n",
       "..                 ...  \n",
       "125             42.2.5  \n",
       "126   9.4.12.v20180830  \n",
       "127   9.4.12.v20180830  \n",
       "128              4.3.0  \n",
       "129             42.2.5  \n",
       "\n",
       "[130 rows x 10 columns]"
      ]
     },
     "execution_count": 10,
     "metadata": {},
     "output_type": "execute_result"
    }
   ],
   "source": [
    "#Neues DataFrame mit kompakten Daten (ohne Versionenvergleich)\n",
    "df_compact = df_result[0:0]\n",
    "df_compact = df_result.drop_duplicates(subset='CVE-ID', keep=\"first\")\n",
    "df_compact = df_compact.loc[:,df_compact.columns.isin(['CVE-ID', 'verwendetes Artefakt', 'verwendete Version'])]\n",
    "df_compact = pd.merge(left=basicList, right=df_compact, left_on='CVE-ID', right_on='CVE-ID')\n",
    "df_compact.to_excel(\"result_analysis.xlsx\")\n",
    "df_compact"
   ]
  },
  {
   "cell_type": "markdown",
   "metadata": {},
   "source": [
    "#### Legende\n",
    "*Base Score* <br>\n",
    "= Repräsentation des natürlichen Charakters und des Schweregrads einer Schwachstelle (konstant über einen längeren Zeitraum, über verschiedene Umgebungen hinweg) <br>\n",
    "&rarr; beinhaltet den Impact Score & den Exploitability Score\n",
    "\n",
    "*Exploitability Score* <br>\n",
    "= Reflektion der angreifbaren Komponente &rarr; beinhaltet unteranderem die Situation und den Kontext, der den Angriff ermöglichen kann\n",
    "\n",
    "*Impact Score* <br>\n",
    "= Schweregrad der direkten Konsequenzen eines erfolgreichen Exploits auf den betroffenen \"Gegenstand\" (Softwaresystem, Umgebung, Daten, ...) und der direkte & vorhersehbare Effekt der ausgenutzten Schwachstelle \n",
    "\n",
    "\n",
    "**Mögliche Ausprägungen**<br>\n",
    "*None*: 0 <br>\n",
    "*Low*: 0.1 - 3.9<br>\n",
    "*Medium*: 4.0 - 6.9<br>\n",
    "*High*: 7.0 - 8.9<br>\n",
    "*Severe*: 9.0 - 10.0"
   ]
  },
  {
   "cell_type": "markdown",
   "metadata": {
    "slideshow": {
     "slide_type": "slide"
    }
   },
   "source": [
    "### Visualisierung\n",
    "Im folgenden Abschnitt wird mithilfe einiger Charts der Zusammenhang zwischen CVE, betroffenes Artefakt, Auftrittshäufigkeit und Schweregrade dargestellt."
   ]
  },
  {
   "cell_type": "code",
   "execution_count": 11,
   "metadata": {
    "slideshow": {
     "slide_type": "subslide"
    }
   },
   "outputs": [
    {
     "data": {
      "text/html": [
       "<div>\n",
       "<style scoped>\n",
       "    .dataframe tbody tr th:only-of-type {\n",
       "        vertical-align: middle;\n",
       "    }\n",
       "\n",
       "    .dataframe tbody tr th {\n",
       "        vertical-align: top;\n",
       "    }\n",
       "\n",
       "    .dataframe thead th {\n",
       "        text-align: right;\n",
       "    }\n",
       "</style>\n",
       "<table border=\"1\" class=\"dataframe\">\n",
       "  <thead>\n",
       "    <tr style=\"text-align: right;\">\n",
       "      <th></th>\n",
       "      <th>Anzahl auftretender CVE</th>\n",
       "      <th>Artefakt</th>\n",
       "    </tr>\n",
       "  </thead>\n",
       "  <tbody>\n",
       "    <tr>\n",
       "      <th>0</th>\n",
       "      <td>84</td>\n",
       "      <td>mysql</td>\n",
       "    </tr>\n",
       "    <tr>\n",
       "      <th>1</th>\n",
       "      <td>9</td>\n",
       "      <td>elasticsearch</td>\n",
       "    </tr>\n",
       "    <tr>\n",
       "      <th>2</th>\n",
       "      <td>8</td>\n",
       "      <td>mongodb</td>\n",
       "    </tr>\n",
       "    <tr>\n",
       "      <th>3</th>\n",
       "      <td>6</td>\n",
       "      <td>tomcat</td>\n",
       "    </tr>\n",
       "    <tr>\n",
       "      <th>4</th>\n",
       "      <td>6</td>\n",
       "      <td>jetty</td>\n",
       "    </tr>\n",
       "    <tr>\n",
       "      <th>5</th>\n",
       "      <td>5</td>\n",
       "      <td>postgresql</td>\n",
       "    </tr>\n",
       "    <tr>\n",
       "      <th>6</th>\n",
       "      <td>3</td>\n",
       "      <td>netty</td>\n",
       "    </tr>\n",
       "    <tr>\n",
       "      <th>7</th>\n",
       "      <td>3</td>\n",
       "      <td>solr</td>\n",
       "    </tr>\n",
       "    <tr>\n",
       "      <th>8</th>\n",
       "      <td>1</td>\n",
       "      <td>jackson-databind</td>\n",
       "    </tr>\n",
       "    <tr>\n",
       "      <th>9</th>\n",
       "      <td>1</td>\n",
       "      <td>undertow</td>\n",
       "    </tr>\n",
       "    <tr>\n",
       "      <th>10</th>\n",
       "      <td>1</td>\n",
       "      <td>activemq</td>\n",
       "    </tr>\n",
       "    <tr>\n",
       "      <th>11</th>\n",
       "      <td>1</td>\n",
       "      <td>java</td>\n",
       "    </tr>\n",
       "    <tr>\n",
       "      <th>12</th>\n",
       "      <td>1</td>\n",
       "      <td>jersey</td>\n",
       "    </tr>\n",
       "    <tr>\n",
       "      <th>13</th>\n",
       "      <td>1</td>\n",
       "      <td>sendgrid</td>\n",
       "    </tr>\n",
       "  </tbody>\n",
       "</table>\n",
       "</div>"
      ],
      "text/plain": [
       "    Anzahl auftretender CVE          Artefakt\n",
       "0                        84             mysql\n",
       "1                         9     elasticsearch\n",
       "2                         8           mongodb\n",
       "3                         6            tomcat\n",
       "4                         6             jetty\n",
       "5                         5        postgresql\n",
       "6                         3             netty\n",
       "7                         3              solr\n",
       "8                         1  jackson-databind\n",
       "9                         1          undertow\n",
       "10                        1          activemq\n",
       "11                        1              java\n",
       "12                        1            jersey\n",
       "13                        1          sendgrid"
      ]
     },
     "execution_count": 11,
     "metadata": {},
     "output_type": "execute_result"
    }
   ],
   "source": [
    "df_count = df_compact['verwendetes Artefakt'].value_counts().to_frame()\n",
    "df_count['Artefakt'] = df_count.index\n",
    "df_count.columns =['Anzahl auftretender CVE', 'Artefakt']\n",
    "df_count.columns.name = None\n",
    "df_count = df_count.reset_index()\n",
    "df_count = df_count.loc[:,df_count.columns.isin(['Anzahl auftretender CVE', 'Artefakt'])]\n",
    "df_count"
   ]
  },
  {
   "cell_type": "code",
   "execution_count": 12,
   "metadata": {
    "slideshow": {
     "slide_type": "subslide"
    }
   },
   "outputs": [
    {
     "data": {
      "text/html": [
       "\n",
       "<!DOCTYPE html>\n",
       "<html>\n",
       "  <head>\n",
       "  <script type=\"text/javascript\" src=\"http://kozea.github.com/pygal.js/javascripts/svg.jquery.js\"></script>\n",
       "  <script type=\"text/javascript\" src=\"https://kozea.github.io/pygal.js/2.0.x/pygal-tooltips.min.js\"\"></script>\n",
       "  </head>\n",
       "  <body>\n",
       "    <figure>\n",
       "      <?xml version='1.0' encoding='utf-8'?>\n",
       "<svg xmlns:xlink=\"http://www.w3.org/1999/xlink\" class=\"pygal-chart\" id=\"chart-c6d4c1bc-4284-4f49-81b1-474b226cf19b\" viewBox=\"0 0 800 600\" xmlns=\"http://www.w3.org/2000/svg\"><!--Generated with pygal 2.4.0 (etree) ©Kozea 2012-2016 on 2021-08-30--><!--http://pygal.org--><!--http://github.com/Kozea/pygal--><defs><style type=\"text/css\">#chart-c6d4c1bc-4284-4f49-81b1-474b226cf19b{-webkit-user-select:none;-webkit-font-smoothing:antialiased;font-family:Consolas,\"Liberation Mono\",Menlo,Courier,monospace}#chart-c6d4c1bc-4284-4f49-81b1-474b226cf19b .title{font-family:Consolas,\"Liberation Mono\",Menlo,Courier,monospace;font-size:16px}#chart-c6d4c1bc-4284-4f49-81b1-474b226cf19b .legends .legend text{font-family:Consolas,\"Liberation Mono\",Menlo,Courier,monospace;font-size:14px}#chart-c6d4c1bc-4284-4f49-81b1-474b226cf19b .axis text{font-family:Consolas,\"Liberation Mono\",Menlo,Courier,monospace;font-size:10px}#chart-c6d4c1bc-4284-4f49-81b1-474b226cf19b .axis text.major{font-family:Consolas,\"Liberation Mono\",Menlo,Courier,monospace;font-size:10px}#chart-c6d4c1bc-4284-4f49-81b1-474b226cf19b .text-overlay text.value{font-family:Consolas,\"Liberation Mono\",Menlo,Courier,monospace;font-size:16px}#chart-c6d4c1bc-4284-4f49-81b1-474b226cf19b .text-overlay text.label{font-family:Consolas,\"Liberation Mono\",Menlo,Courier,monospace;font-size:10px}#chart-c6d4c1bc-4284-4f49-81b1-474b226cf19b .tooltip{font-family:Consolas,\"Liberation Mono\",Menlo,Courier,monospace;font-size:14px}#chart-c6d4c1bc-4284-4f49-81b1-474b226cf19b text.no_data{font-family:Consolas,\"Liberation Mono\",Menlo,Courier,monospace;font-size:64px}\n",
       "#chart-c6d4c1bc-4284-4f49-81b1-474b226cf19b{background-color:rgba(249,249,249,1)}#chart-c6d4c1bc-4284-4f49-81b1-474b226cf19b path,#chart-c6d4c1bc-4284-4f49-81b1-474b226cf19b line,#chart-c6d4c1bc-4284-4f49-81b1-474b226cf19b rect,#chart-c6d4c1bc-4284-4f49-81b1-474b226cf19b circle{-webkit-transition:150ms;-moz-transition:150ms;transition:150ms}#chart-c6d4c1bc-4284-4f49-81b1-474b226cf19b .graph &gt; .background{fill:rgba(249,249,249,1)}#chart-c6d4c1bc-4284-4f49-81b1-474b226cf19b .plot &gt; .background{fill:rgba(255,255,255,1)}#chart-c6d4c1bc-4284-4f49-81b1-474b226cf19b .graph{fill:rgba(0,0,0,.87)}#chart-c6d4c1bc-4284-4f49-81b1-474b226cf19b text.no_data{fill:rgba(0,0,0,1)}#chart-c6d4c1bc-4284-4f49-81b1-474b226cf19b .title{fill:rgba(0,0,0,1)}#chart-c6d4c1bc-4284-4f49-81b1-474b226cf19b .legends .legend text{fill:rgba(0,0,0,.87)}#chart-c6d4c1bc-4284-4f49-81b1-474b226cf19b .legends .legend:hover text{fill:rgba(0,0,0,1)}#chart-c6d4c1bc-4284-4f49-81b1-474b226cf19b .axis .line{stroke:rgba(0,0,0,1)}#chart-c6d4c1bc-4284-4f49-81b1-474b226cf19b .axis .guide.line{stroke:rgba(0,0,0,.54)}#chart-c6d4c1bc-4284-4f49-81b1-474b226cf19b .axis .major.line{stroke:rgba(0,0,0,.87)}#chart-c6d4c1bc-4284-4f49-81b1-474b226cf19b .axis text.major{fill:rgba(0,0,0,1)}#chart-c6d4c1bc-4284-4f49-81b1-474b226cf19b .axis.y .guides:hover .guide.line,#chart-c6d4c1bc-4284-4f49-81b1-474b226cf19b .line-graph .axis.x .guides:hover .guide.line,#chart-c6d4c1bc-4284-4f49-81b1-474b226cf19b .stackedline-graph .axis.x .guides:hover .guide.line,#chart-c6d4c1bc-4284-4f49-81b1-474b226cf19b .xy-graph .axis.x .guides:hover .guide.line{stroke:rgba(0,0,0,1)}#chart-c6d4c1bc-4284-4f49-81b1-474b226cf19b .axis .guides:hover text{fill:rgba(0,0,0,1)}#chart-c6d4c1bc-4284-4f49-81b1-474b226cf19b .reactive{fill-opacity:.7;stroke-opacity:.8}#chart-c6d4c1bc-4284-4f49-81b1-474b226cf19b .ci{stroke:rgba(0,0,0,.87)}#chart-c6d4c1bc-4284-4f49-81b1-474b226cf19b .reactive.active,#chart-c6d4c1bc-4284-4f49-81b1-474b226cf19b .active .reactive{fill-opacity:.8;stroke-opacity:.9;stroke-width:4}#chart-c6d4c1bc-4284-4f49-81b1-474b226cf19b .ci .reactive.active{stroke-width:1.5}#chart-c6d4c1bc-4284-4f49-81b1-474b226cf19b .series text{fill:rgba(0,0,0,1)}#chart-c6d4c1bc-4284-4f49-81b1-474b226cf19b .tooltip rect{fill:rgba(255,255,255,1);stroke:rgba(0,0,0,1);-webkit-transition:opacity 150ms;-moz-transition:opacity 150ms;transition:opacity 150ms}#chart-c6d4c1bc-4284-4f49-81b1-474b226cf19b .tooltip .label{fill:rgba(0,0,0,.87)}#chart-c6d4c1bc-4284-4f49-81b1-474b226cf19b .tooltip .label{fill:rgba(0,0,0,.87)}#chart-c6d4c1bc-4284-4f49-81b1-474b226cf19b .tooltip .legend{font-size:.8em;fill:rgba(0,0,0,.54)}#chart-c6d4c1bc-4284-4f49-81b1-474b226cf19b .tooltip .x_label{font-size:.6em;fill:rgba(0,0,0,1)}#chart-c6d4c1bc-4284-4f49-81b1-474b226cf19b .tooltip .xlink{font-size:.5em;text-decoration:underline}#chart-c6d4c1bc-4284-4f49-81b1-474b226cf19b .tooltip .value{font-size:1.5em}#chart-c6d4c1bc-4284-4f49-81b1-474b226cf19b .bound{font-size:.5em}#chart-c6d4c1bc-4284-4f49-81b1-474b226cf19b .max-value{font-size:.75em;fill:rgba(0,0,0,.54)}#chart-c6d4c1bc-4284-4f49-81b1-474b226cf19b .map-element{fill:rgba(255,255,255,1);stroke:rgba(0,0,0,.54) !important}#chart-c6d4c1bc-4284-4f49-81b1-474b226cf19b .map-element .reactive{fill-opacity:inherit;stroke-opacity:inherit}#chart-c6d4c1bc-4284-4f49-81b1-474b226cf19b .color-0,#chart-c6d4c1bc-4284-4f49-81b1-474b226cf19b .color-0 a:visited{stroke:#F44336;fill:#F44336}#chart-c6d4c1bc-4284-4f49-81b1-474b226cf19b .color-1,#chart-c6d4c1bc-4284-4f49-81b1-474b226cf19b .color-1 a:visited{stroke:#3F51B5;fill:#3F51B5}#chart-c6d4c1bc-4284-4f49-81b1-474b226cf19b .color-2,#chart-c6d4c1bc-4284-4f49-81b1-474b226cf19b .color-2 a:visited{stroke:#009688;fill:#009688}#chart-c6d4c1bc-4284-4f49-81b1-474b226cf19b .color-3,#chart-c6d4c1bc-4284-4f49-81b1-474b226cf19b .color-3 a:visited{stroke:#FFC107;fill:#FFC107}#chart-c6d4c1bc-4284-4f49-81b1-474b226cf19b .color-4,#chart-c6d4c1bc-4284-4f49-81b1-474b226cf19b .color-4 a:visited{stroke:#FF5722;fill:#FF5722}#chart-c6d4c1bc-4284-4f49-81b1-474b226cf19b .color-5,#chart-c6d4c1bc-4284-4f49-81b1-474b226cf19b .color-5 a:visited{stroke:#9C27B0;fill:#9C27B0}#chart-c6d4c1bc-4284-4f49-81b1-474b226cf19b .color-6,#chart-c6d4c1bc-4284-4f49-81b1-474b226cf19b .color-6 a:visited{stroke:#03A9F4;fill:#03A9F4}#chart-c6d4c1bc-4284-4f49-81b1-474b226cf19b .color-7,#chart-c6d4c1bc-4284-4f49-81b1-474b226cf19b .color-7 a:visited{stroke:#8BC34A;fill:#8BC34A}#chart-c6d4c1bc-4284-4f49-81b1-474b226cf19b .color-8,#chart-c6d4c1bc-4284-4f49-81b1-474b226cf19b .color-8 a:visited{stroke:#FF9800;fill:#FF9800}#chart-c6d4c1bc-4284-4f49-81b1-474b226cf19b .color-9,#chart-c6d4c1bc-4284-4f49-81b1-474b226cf19b .color-9 a:visited{stroke:#E91E63;fill:#E91E63}#chart-c6d4c1bc-4284-4f49-81b1-474b226cf19b .color-10,#chart-c6d4c1bc-4284-4f49-81b1-474b226cf19b .color-10 a:visited{stroke:#2196F3;fill:#2196F3}#chart-c6d4c1bc-4284-4f49-81b1-474b226cf19b .color-11,#chart-c6d4c1bc-4284-4f49-81b1-474b226cf19b .color-11 a:visited{stroke:#4CAF50;fill:#4CAF50}#chart-c6d4c1bc-4284-4f49-81b1-474b226cf19b .color-12,#chart-c6d4c1bc-4284-4f49-81b1-474b226cf19b .color-12 a:visited{stroke:#FFEB3B;fill:#FFEB3B}#chart-c6d4c1bc-4284-4f49-81b1-474b226cf19b .color-13,#chart-c6d4c1bc-4284-4f49-81b1-474b226cf19b .color-13 a:visited{stroke:#673AB7;fill:#673AB7}#chart-c6d4c1bc-4284-4f49-81b1-474b226cf19b .text-overlay .color-0 text{fill:black}#chart-c6d4c1bc-4284-4f49-81b1-474b226cf19b .text-overlay .color-1 text{fill:black}#chart-c6d4c1bc-4284-4f49-81b1-474b226cf19b .text-overlay .color-2 text{fill:black}#chart-c6d4c1bc-4284-4f49-81b1-474b226cf19b .text-overlay .color-3 text{fill:black}#chart-c6d4c1bc-4284-4f49-81b1-474b226cf19b .text-overlay .color-4 text{fill:black}#chart-c6d4c1bc-4284-4f49-81b1-474b226cf19b .text-overlay .color-5 text{fill:black}#chart-c6d4c1bc-4284-4f49-81b1-474b226cf19b .text-overlay .color-6 text{fill:black}#chart-c6d4c1bc-4284-4f49-81b1-474b226cf19b .text-overlay .color-7 text{fill:black}#chart-c6d4c1bc-4284-4f49-81b1-474b226cf19b .text-overlay .color-8 text{fill:black}#chart-c6d4c1bc-4284-4f49-81b1-474b226cf19b .text-overlay .color-9 text{fill:black}#chart-c6d4c1bc-4284-4f49-81b1-474b226cf19b .text-overlay .color-10 text{fill:black}#chart-c6d4c1bc-4284-4f49-81b1-474b226cf19b .text-overlay .color-11 text{fill:black}#chart-c6d4c1bc-4284-4f49-81b1-474b226cf19b .text-overlay .color-12 text{fill:black}#chart-c6d4c1bc-4284-4f49-81b1-474b226cf19b .text-overlay .color-13 text{fill:black}\n",
       "#chart-c6d4c1bc-4284-4f49-81b1-474b226cf19b text.no_data{text-anchor:middle}#chart-c6d4c1bc-4284-4f49-81b1-474b226cf19b .guide.line{fill:none}#chart-c6d4c1bc-4284-4f49-81b1-474b226cf19b .centered{text-anchor:middle}#chart-c6d4c1bc-4284-4f49-81b1-474b226cf19b .title{text-anchor:middle}#chart-c6d4c1bc-4284-4f49-81b1-474b226cf19b .legends .legend text{fill-opacity:1}#chart-c6d4c1bc-4284-4f49-81b1-474b226cf19b .axis.x text{text-anchor:middle}#chart-c6d4c1bc-4284-4f49-81b1-474b226cf19b .axis.x:not(.web) text[transform]{text-anchor:start}#chart-c6d4c1bc-4284-4f49-81b1-474b226cf19b .axis.x:not(.web) text[transform].backwards{text-anchor:end}#chart-c6d4c1bc-4284-4f49-81b1-474b226cf19b .axis.y text{text-anchor:end}#chart-c6d4c1bc-4284-4f49-81b1-474b226cf19b .axis.y text[transform].backwards{text-anchor:start}#chart-c6d4c1bc-4284-4f49-81b1-474b226cf19b .axis.y2 text{text-anchor:start}#chart-c6d4c1bc-4284-4f49-81b1-474b226cf19b .axis.y2 text[transform].backwards{text-anchor:end}#chart-c6d4c1bc-4284-4f49-81b1-474b226cf19b .axis .guide.line{stroke-dasharray:4,4}#chart-c6d4c1bc-4284-4f49-81b1-474b226cf19b .axis .major.guide.line{stroke-dasharray:6,6}#chart-c6d4c1bc-4284-4f49-81b1-474b226cf19b .horizontal .axis.y .guide.line,#chart-c6d4c1bc-4284-4f49-81b1-474b226cf19b .horizontal .axis.y2 .guide.line,#chart-c6d4c1bc-4284-4f49-81b1-474b226cf19b .vertical .axis.x .guide.line{opacity:0}#chart-c6d4c1bc-4284-4f49-81b1-474b226cf19b .horizontal .axis.always_show .guide.line,#chart-c6d4c1bc-4284-4f49-81b1-474b226cf19b .vertical .axis.always_show .guide.line{opacity:1 !important}#chart-c6d4c1bc-4284-4f49-81b1-474b226cf19b .axis.y .guides:hover .guide.line,#chart-c6d4c1bc-4284-4f49-81b1-474b226cf19b .axis.y2 .guides:hover .guide.line,#chart-c6d4c1bc-4284-4f49-81b1-474b226cf19b .axis.x .guides:hover .guide.line{opacity:1}#chart-c6d4c1bc-4284-4f49-81b1-474b226cf19b .axis .guides:hover text{opacity:1}#chart-c6d4c1bc-4284-4f49-81b1-474b226cf19b .nofill{fill:none}#chart-c6d4c1bc-4284-4f49-81b1-474b226cf19b .subtle-fill{fill-opacity:.2}#chart-c6d4c1bc-4284-4f49-81b1-474b226cf19b .dot{stroke-width:1px;fill-opacity:1}#chart-c6d4c1bc-4284-4f49-81b1-474b226cf19b .dot.active{stroke-width:5px}#chart-c6d4c1bc-4284-4f49-81b1-474b226cf19b .dot.negative{fill:transparent}#chart-c6d4c1bc-4284-4f49-81b1-474b226cf19b text,#chart-c6d4c1bc-4284-4f49-81b1-474b226cf19b tspan{stroke:none !important}#chart-c6d4c1bc-4284-4f49-81b1-474b226cf19b .series text.active{opacity:1}#chart-c6d4c1bc-4284-4f49-81b1-474b226cf19b .tooltip rect{fill-opacity:.95;stroke-width:.5}#chart-c6d4c1bc-4284-4f49-81b1-474b226cf19b .tooltip text{fill-opacity:1}#chart-c6d4c1bc-4284-4f49-81b1-474b226cf19b .showable{visibility:hidden}#chart-c6d4c1bc-4284-4f49-81b1-474b226cf19b .showable.shown{visibility:visible}#chart-c6d4c1bc-4284-4f49-81b1-474b226cf19b .gauge-background{fill:rgba(229,229,229,1);stroke:none}#chart-c6d4c1bc-4284-4f49-81b1-474b226cf19b .bg-lines{stroke:rgba(249,249,249,1);stroke-width:2px}</style><script type=\"text/javascript\">window.pygal = window.pygal || {};window.pygal.config = window.pygal.config || {};window.pygal.config['c6d4c1bc-4284-4f49-81b1-474b226cf19b'] = {\"allow_interruptions\": false, \"box_mode\": \"extremes\", \"classes\": [\"pygal-chart\"], \"css\": [\"file://style.css\", \"file://graph.css\"], \"defs\": [], \"disable_xml_declaration\": false, \"dots_size\": 2.5, \"dynamic_print_values\": false, \"explicit_size\": false, \"fill\": false, \"force_uri_protocol\": \"https\", \"formatter\": null, \"half_pie\": false, \"height\": 600, \"include_x_axis\": false, \"inner_radius\": 0, \"interpolate\": null, \"interpolation_parameters\": {}, \"interpolation_precision\": 250, \"inverse_y_axis\": false, \"js\": [\"//kozea.github.io/pygal.js/2.0.x/pygal-tooltips.min.js\"], \"legend_at_bottom\": false, \"legend_at_bottom_columns\": null, \"legend_box_size\": 12, \"logarithmic\": false, \"margin\": 20, \"margin_bottom\": null, \"margin_left\": null, \"margin_right\": null, \"margin_top\": null, \"max_scale\": 16, \"min_scale\": 4, \"missing_value_fill_truncation\": \"x\", \"no_data_text\": \"No data\", \"no_prefix\": false, \"order_min\": null, \"pretty_print\": false, \"print_labels\": false, \"print_values\": false, \"print_values_position\": \"center\", \"print_zeroes\": true, \"range\": null, \"rounded_bars\": null, \"secondary_range\": null, \"show_dots\": true, \"show_legend\": true, \"show_minor_x_labels\": true, \"show_minor_y_labels\": true, \"show_only_major_dots\": false, \"show_x_guides\": false, \"show_x_labels\": true, \"show_y_guides\": true, \"show_y_labels\": true, \"spacing\": 10, \"stack_from_top\": false, \"strict\": false, \"stroke\": true, \"stroke_style\": null, \"style\": {\"background\": \"rgba(249, 249, 249, 1)\", \"ci_colors\": [], \"colors\": [\"#F44336\", \"#3F51B5\", \"#009688\", \"#FFC107\", \"#FF5722\", \"#9C27B0\", \"#03A9F4\", \"#8BC34A\", \"#FF9800\", \"#E91E63\", \"#2196F3\", \"#4CAF50\", \"#FFEB3B\", \"#673AB7\", \"#00BCD4\", \"#CDDC39\", \"#9E9E9E\", \"#607D8B\"], \"font_family\": \"Consolas, \\\"Liberation Mono\\\", Menlo, Courier, monospace\", \"foreground\": \"rgba(0, 0, 0, .87)\", \"foreground_strong\": \"rgba(0, 0, 0, 1)\", \"foreground_subtle\": \"rgba(0, 0, 0, .54)\", \"guide_stroke_dasharray\": \"4,4\", \"label_font_family\": \"Consolas, \\\"Liberation Mono\\\", Menlo, Courier, monospace\", \"label_font_size\": 10, \"legend_font_family\": \"Consolas, \\\"Liberation Mono\\\", Menlo, Courier, monospace\", \"legend_font_size\": 14, \"major_guide_stroke_dasharray\": \"6,6\", \"major_label_font_family\": \"Consolas, \\\"Liberation Mono\\\", Menlo, Courier, monospace\", \"major_label_font_size\": 10, \"no_data_font_family\": \"Consolas, \\\"Liberation Mono\\\", Menlo, Courier, monospace\", \"no_data_font_size\": 64, \"opacity\": \".7\", \"opacity_hover\": \".8\", \"plot_background\": \"rgba(255, 255, 255, 1)\", \"stroke_opacity\": \".8\", \"stroke_opacity_hover\": \".9\", \"title_font_family\": \"Consolas, \\\"Liberation Mono\\\", Menlo, Courier, monospace\", \"title_font_size\": 16, \"tooltip_font_family\": \"Consolas, \\\"Liberation Mono\\\", Menlo, Courier, monospace\", \"tooltip_font_size\": 14, \"transition\": \"150ms\", \"value_background\": \"rgba(229, 229, 229, 1)\", \"value_colors\": [], \"value_font_family\": \"Consolas, \\\"Liberation Mono\\\", Menlo, Courier, monospace\", \"value_font_size\": 16, \"value_label_font_family\": \"Consolas, \\\"Liberation Mono\\\", Menlo, Courier, monospace\", \"value_label_font_size\": 10}, \"title\": \"Anzahl der Artefakte mit Sicherheitsbedenken\", \"tooltip_border_radius\": 0, \"tooltip_fancy_mode\": true, \"truncate_label\": null, \"truncate_legend\": null, \"width\": 800, \"x_label_rotation\": 0, \"x_labels\": null, \"x_labels_major\": null, \"x_labels_major_count\": null, \"x_labels_major_every\": null, \"x_title\": null, \"xrange\": null, \"y_label_rotation\": 0, \"y_labels\": null, \"y_labels_major\": null, \"y_labels_major_count\": null, \"y_labels_major_every\": null, \"y_title\": null, \"zero\": 0, \"legends\": [\"mysql\", \"elasticsearch\", \"mongodb\", \"tomcat\", \"jetty\", \"postgresql\", \"netty\", \"solr\", \"jackson-databind\", \"undertow\", \"activemq\", \"java\", \"jersey\", \"sendgrid\"]}</script><script type=\"text/javascript\" xlink:href=\"https://kozea.github.io/pygal.js/2.0.x/pygal-tooltips.min.js\" /></defs><title>Anzahl der Artefakte mit Sicherheitsbedenken</title><g class=\"graph pie-graph vertical\"><rect class=\"background\" height=\"600\" width=\"800\" x=\"0\" y=\"0\" /><g class=\"plot\" transform=\"translate(168, 46)\"><rect class=\"background\" height=\"534\" width=\"612.0\" x=\"0\" y=\"0\" /><g class=\"series serie-0 color-0\"><g class=\"slices\"><g class=\"slice\"><path class=\"slice reactive tooltip-trigger\" d=\"M306.000000 26.700000 A240.300000 240.300000 0 1 1 115.062984 412.901151 L306.000000 267.000000 A0.000000 0.000000 0 1 0 306.000000 267.000000 z\" /><desc class=\"value\">84</desc><desc class=\"x centered\">413.70569651607883</desc><desc class=\"y centered\">320.24946420374886</desc></g></g></g><g class=\"series serie-1 color-1\"><g class=\"slices\"><g class=\"slice\"><path class=\"slice reactive tooltip-trigger\" d=\"M115.062984 412.901151 A240.300000 240.300000 0 0 1 71.361209 318.852942 L306.000000 267.000000 A0.000000 0.000000 0 0 0 306.000000 267.000000 z\" /><desc class=\"value\">9</desc><desc class=\"x centered\">197.039045543807</desc><desc class=\"y centered\">317.6313430988694</desc></g></g></g><g class=\"series serie-2 color-2\"><g class=\"slices\"><g class=\"slice\"><path class=\"slice reactive tooltip-trigger\" d=\"M71.361209 318.852942 A240.300000 240.300000 0 0 1 69.130023 226.543803 L306.000000 267.000000 A0.000000 0.000000 0 0 0 306.000000 267.000000 z\" /><desc class=\"value\">8</desc><desc class=\"x centered\">185.8850821082648</desc><desc class=\"y centered\">269.9032739901213</desc></g></g></g><g class=\"series serie-3 color-3\"><g class=\"slices\"><g class=\"slice\"><path class=\"slice reactive tooltip-trigger\" d=\"M69.130023 226.543803 A240.300000 240.300000 0 0 1 90.588607 160.501072 L306.000000 267.000000 A0.000000 0.000000 0 0 0 306.000000 267.000000 z\" /><desc class=\"value\">6</desc><desc class=\"x centered\">191.73055956713733</desc><desc class=\"y centered\">229.87160812585</desc></g></g></g><g class=\"series serie-4 color-4\"><g class=\"slices\"><g class=\"slice\"><path class=\"slice reactive tooltip-trigger\" d=\"M90.588607 160.501072 A240.300000 240.300000 0 0 1 130.035839 103.351889 L306.000000 267.000000 A0.000000 0.000000 0 0 0 306.000000 267.000000 z\" /><desc class=\"value\">6</desc><desc class=\"x centered\">207.1184885128772</desc><desc class=\"y centered\">198.74702068025158</desc></g></g></g><g class=\"series serie-5 color-5\"><g class=\"slices\"><g class=\"slice\"><path class=\"slice reactive tooltip-trigger\" d=\"M130.035839 103.351889 A240.300000 240.300000 0 0 1 174.312594 65.996226 L306.000000 267.000000 A0.000000 0.000000 0 0 0 306.000000 267.000000 z\" /><desc class=\"value\">5</desc><desc class=\"x centered\">228.52220813974913</desc><desc class=\"y centered\">175.16746617641627</desc></g></g></g><g class=\"series serie-6 color-6\"><g class=\"slices\"><g class=\"slice\"><path class=\"slice reactive tooltip-trigger\" d=\"M174.312594 65.996226 A240.300000 240.300000 0 0 1 204.737314 49.078091 L306.000000 267.000000 A0.000000 0.000000 0 0 0 306.000000 267.000000 z\" /><desc class=\"value\">3</desc><desc class=\"x centered\">247.60909289890088</desc><desc class=\"y centered\">161.99274087992387</desc></g></g></g><g class=\"series serie-7 color-7\"><g class=\"slices\"><g class=\"slice\"><path class=\"slice reactive tooltip-trigger\" d=\"M204.737314 49.078091 A240.300000 240.300000 0 0 1 237.287253 36.733527 L306.000000 267.000000 A0.000000 0.000000 0 0 0 306.000000 267.000000 z\" /><desc class=\"value\">3</desc><desc class=\"x centered\">263.39422282183943</desc><desc class=\"y centered\">154.65779844134738</desc></g></g></g><g class=\"series serie-8 color-8\"><g class=\"slices\"><g class=\"slice\"><path class=\"slice reactive tooltip-trigger\" d=\"M237.287253 36.733527 A240.300000 240.300000 0 0 1 248.492446 33.682681 L306.000000 267.000000 A0.000000 0.000000 0 0 0 306.000000 267.000000 z\" /><desc class=\"value\">1</desc><desc class=\"x centered\">274.43570850943985</desc><desc class=\"y centered\">151.07020226577225</desc></g></g></g><g class=\"series serie-9 color-9\"><g class=\"slices\"><g class=\"slice\"><path class=\"slice reactive tooltip-trigger\" d=\"M248.492446 33.682681 A240.300000 240.300000 0 0 1 259.831950 31.176759 L306.000000 267.000000 A0.000000 0.000000 0 0 0 306.000000 267.000000 z\" /><desc class=\"value\">1</desc><desc class=\"x centered\">280.0735287583482</desc><desc class=\"y centered\">149.68060437866293</desc></g></g></g><g class=\"series serie-10 color-10\"><g class=\"slices\"><g class=\"slice\"><path class=\"slice reactive tooltip-trigger\" d=\"M259.831950 31.176759 A240.300000 240.300000 0 0 1 271.279281 29.221612 L306.000000 267.000000 A0.000000 0.000000 0 0 0 306.000000 267.000000 z\" /><desc class=\"value\">1</desc><desc class=\"x centered\">285.77190148215345</desc><desc class=\"y centered\">148.5650113760621</desc></g></g></g><g class=\"series serie-11 color-11\"><g class=\"slices\"><g class=\"slice\"><path class=\"slice reactive tooltip-trigger\" d=\"M271.279281 29.221612 A240.300000 240.300000 0 0 1 282.807705 27.821808 L306.000000 267.000000 A0.000000 0.000000 0 0 0 306.000000 267.000000 z\" /><desc class=\"value\">1</desc><desc class=\"x centered\">291.5175178673231</desc><desc class=\"y centered\">147.7260287771188</desc></g></g></g><g class=\"series serie-12 color-12\"><g class=\"slices\"><g class=\"slice\"><path class=\"slice reactive tooltip-trigger\" d=\"M282.807705 27.821808 A240.300000 240.300000 0 0 1 294.390295 26.980616 L306.000000 267.000000 A0.000000 0.000000 0 0 0 306.000000 267.000000 z\" /><desc class=\"value\">1</desc><desc class=\"x centered\">297.2969587605644</desc><desc class=\"y centered\">147.1656160645673</desc></g></g></g><g class=\"series serie-13 color-13\"><g class=\"slices\"><g class=\"slice\"><path class=\"slice reactive tooltip-trigger\" d=\"M294.390295 26.980616 A240.300000 240.300000 0 0 1 306.000000 26.700000 L306.000000 267.000000 A0.000000 0.000000 0 0 0 306.000000 267.000000 z\" /><desc class=\"value\">1</desc><desc class=\"x centered\">303.09672600987886</desc><desc class=\"y centered\">146.88508210826478</desc></g></g></g></g><g class=\"titles\"><text class=\"title plot_title\" x=\"400.0\" y=\"26\">Anzahl der Artefakte mit Sicherheitsbedenken</text></g><g class=\"plot overlay\" transform=\"translate(168, 46)\"><g class=\"series serie-0 color-0\" /><g class=\"series serie-1 color-1\" /><g class=\"series serie-2 color-2\" /><g class=\"series serie-3 color-3\" /><g class=\"series serie-4 color-4\" /><g class=\"series serie-5 color-5\" /><g class=\"series serie-6 color-6\" /><g class=\"series serie-7 color-7\" /><g class=\"series serie-8 color-8\" /><g class=\"series serie-9 color-9\" /><g class=\"series serie-10 color-10\" /><g class=\"series serie-11 color-11\" /><g class=\"series serie-12 color-12\" /><g class=\"series serie-13 color-13\" /></g><g class=\"plot text-overlay\" transform=\"translate(168, 46)\"><g class=\"series serie-0 color-0\" /><g class=\"series serie-1 color-1\" /><g class=\"series serie-2 color-2\" /><g class=\"series serie-3 color-3\" /><g class=\"series serie-4 color-4\" /><g class=\"series serie-5 color-5\" /><g class=\"series serie-6 color-6\" /><g class=\"series serie-7 color-7\" /><g class=\"series serie-8 color-8\" /><g class=\"series serie-9 color-9\" /><g class=\"series serie-10 color-10\" /><g class=\"series serie-11 color-11\" /><g class=\"series serie-12 color-12\" /><g class=\"series serie-13 color-13\" /></g><g class=\"plot tooltip-overlay\" transform=\"translate(168, 46)\"><g class=\"tooltip\" style=\"opacity: 0\" transform=\"translate(0 0)\"><rect class=\"tooltip-box\" height=\"0\" rx=\"0\" ry=\"0\" width=\"0\" /><g class=\"text\" /></g></g><g class=\"legends\" transform=\"translate(10, 56)\"><g class=\"legend reactive activate-serie\" id=\"activate-serie-0\"><rect class=\"color-0 reactive\" height=\"12\" width=\"12\" x=\"0.0\" y=\"1.0\" /><text x=\"17.0\" y=\"11.2\">mysql</text></g><g class=\"legend reactive activate-serie\" id=\"activate-serie-1\"><rect class=\"color-1 reactive\" height=\"12\" width=\"12\" x=\"0.0\" y=\"22.0\" /><text x=\"17.0\" y=\"32.2\">elasticsearch</text></g><g class=\"legend reactive activate-serie\" id=\"activate-serie-2\"><rect class=\"color-2 reactive\" height=\"12\" width=\"12\" x=\"0.0\" y=\"43.0\" /><text x=\"17.0\" y=\"53.2\">mongodb</text></g><g class=\"legend reactive activate-serie\" id=\"activate-serie-3\"><rect class=\"color-3 reactive\" height=\"12\" width=\"12\" x=\"0.0\" y=\"64.0\" /><text x=\"17.0\" y=\"74.2\">tomcat</text></g><g class=\"legend reactive activate-serie\" id=\"activate-serie-4\"><rect class=\"color-4 reactive\" height=\"12\" width=\"12\" x=\"0.0\" y=\"85.0\" /><text x=\"17.0\" y=\"95.2\">jetty</text></g><g class=\"legend reactive activate-serie\" id=\"activate-serie-5\"><rect class=\"color-5 reactive\" height=\"12\" width=\"12\" x=\"0.0\" y=\"106.0\" /><text x=\"17.0\" y=\"116.2\">postgresql</text></g><g class=\"legend reactive activate-serie\" id=\"activate-serie-6\"><rect class=\"color-6 reactive\" height=\"12\" width=\"12\" x=\"0.0\" y=\"127.0\" /><text x=\"17.0\" y=\"137.2\">netty</text></g><g class=\"legend reactive activate-serie\" id=\"activate-serie-7\"><rect class=\"color-7 reactive\" height=\"12\" width=\"12\" x=\"0.0\" y=\"148.0\" /><text x=\"17.0\" y=\"158.2\">solr</text></g><g class=\"legend reactive activate-serie\" id=\"activate-serie-8\"><rect class=\"color-8 reactive\" height=\"12\" width=\"12\" x=\"0.0\" y=\"169.0\" /><text x=\"17.0\" y=\"179.2\">jackson-databi…</text><title>jackson-databind</title></g><g class=\"legend reactive activate-serie\" id=\"activate-serie-9\"><rect class=\"color-9 reactive\" height=\"12\" width=\"12\" x=\"0.0\" y=\"190.0\" /><text x=\"17.0\" y=\"200.2\">undertow</text></g><g class=\"legend reactive activate-serie\" id=\"activate-serie-10\"><rect class=\"color-10 reactive\" height=\"12\" width=\"12\" x=\"0.0\" y=\"211.0\" /><text x=\"17.0\" y=\"221.2\">activemq</text></g><g class=\"legend reactive activate-serie\" id=\"activate-serie-11\"><rect class=\"color-11 reactive\" height=\"12\" width=\"12\" x=\"0.0\" y=\"232.0\" /><text x=\"17.0\" y=\"242.2\">java</text></g><g class=\"legend reactive activate-serie\" id=\"activate-serie-12\"><rect class=\"color-12 reactive\" height=\"12\" width=\"12\" x=\"0.0\" y=\"253.0\" /><text x=\"17.0\" y=\"263.2\">jersey</text></g><g class=\"legend reactive activate-serie\" id=\"activate-serie-13\"><rect class=\"color-13 reactive\" height=\"12\" width=\"12\" x=\"0.0\" y=\"274.0\" /><text x=\"17.0\" y=\"284.2\">sendgrid</text></g></g><g class=\"legends\" transform=\"translate(790, 56)\" /></g></svg>\n",
       "    </figure>\n",
       "  </body>\n",
       "</html>\n"
      ],
      "text/plain": [
       "<IPython.core.display.HTML object>"
      ]
     },
     "metadata": {},
     "output_type": "display_data"
    }
   ],
   "source": [
    "pie_chart = pygal.Pie()\n",
    "pie_chart.title = 'Anzahl der Artefakte mit Sicherheitsbedenken'\n",
    "for i in range(len(df_count)):\n",
    "    artefakt= df_count['Artefakt'][i]\n",
    "    anzahl=df_count['Anzahl auftretender CVE'][i]\n",
    "    pie_chart.add(artefakt, anzahl)\n",
    "display(HTML(base_html.format(rendered_chart=pie_chart.render(is_unicode=True))))"
   ]
  },
  {
   "cell_type": "markdown",
   "metadata": {
    "slideshow": {
     "slide_type": "slide"
    }
   },
   "source": [
    "### Verteilung der hohen Impactbewertungen über die zehn häufigsten Artefakte\n",
    "\n",
    "**Legende** <br>\n",
    "* *Confidentiality Impact* = Einfluss auf die Vertraulichkeit der Informationsgewinnung durch das System (Beinhaltet z.B. begrenzter Informationszugriff, Zugriff nur per Authorisierung)\n",
    "* *Integrity Impact* = Einfluss auf den Wahrheitswert der zu schützenden Informationen durch z.B. unautorisierte & unbemerkte Manipulation durch Angreifer\n",
    "* *Availability Impact* = Einfluss auf die Verfügbarkeit der anzugreifenden Komponente durch einen Exploit\n"
   ]
  },
  {
   "cell_type": "code",
   "execution_count": 13,
   "metadata": {
    "slideshow": {
     "slide_type": "subslide"
    }
   },
   "outputs": [
    {
     "data": {
      "text/html": [
       "\n",
       "<!DOCTYPE html>\n",
       "<html>\n",
       "  <head>\n",
       "  <script type=\"text/javascript\" src=\"http://kozea.github.com/pygal.js/javascripts/svg.jquery.js\"></script>\n",
       "  <script type=\"text/javascript\" src=\"https://kozea.github.io/pygal.js/2.0.x/pygal-tooltips.min.js\"\"></script>\n",
       "  </head>\n",
       "  <body>\n",
       "    <figure>\n",
       "      <?xml version='1.0' encoding='utf-8'?>\n",
       "<svg xmlns:xlink=\"http://www.w3.org/1999/xlink\" class=\"pygal-chart\" id=\"chart-07e63a84-6e5e-46f5-a2c7-146fb5ac94ab\" viewBox=\"0 0 800 600\" xmlns=\"http://www.w3.org/2000/svg\"><!--Generated with pygal 2.4.0 (etree) ©Kozea 2012-2016 on 2021-08-30--><!--http://pygal.org--><!--http://github.com/Kozea/pygal--><defs><style type=\"text/css\">#chart-07e63a84-6e5e-46f5-a2c7-146fb5ac94ab{-webkit-user-select:none;-webkit-font-smoothing:antialiased;font-family:Consolas,\"Liberation Mono\",Menlo,Courier,monospace}#chart-07e63a84-6e5e-46f5-a2c7-146fb5ac94ab .title{font-family:Consolas,\"Liberation Mono\",Menlo,Courier,monospace;font-size:16px}#chart-07e63a84-6e5e-46f5-a2c7-146fb5ac94ab .legends .legend text{font-family:Consolas,\"Liberation Mono\",Menlo,Courier,monospace;font-size:14px}#chart-07e63a84-6e5e-46f5-a2c7-146fb5ac94ab .axis text{font-family:Consolas,\"Liberation Mono\",Menlo,Courier,monospace;font-size:10px}#chart-07e63a84-6e5e-46f5-a2c7-146fb5ac94ab .axis text.major{font-family:Consolas,\"Liberation Mono\",Menlo,Courier,monospace;font-size:10px}#chart-07e63a84-6e5e-46f5-a2c7-146fb5ac94ab .text-overlay text.value{font-family:Consolas,\"Liberation Mono\",Menlo,Courier,monospace;font-size:12px}#chart-07e63a84-6e5e-46f5-a2c7-146fb5ac94ab .text-overlay text.label{font-family:Consolas,\"Liberation Mono\",Menlo,Courier,monospace;font-size:10px}#chart-07e63a84-6e5e-46f5-a2c7-146fb5ac94ab .tooltip{font-family:Consolas,\"Liberation Mono\",Menlo,Courier,monospace;font-size:14px}#chart-07e63a84-6e5e-46f5-a2c7-146fb5ac94ab text.no_data{font-family:Consolas,\"Liberation Mono\",Menlo,Courier,monospace;font-size:64px}\n",
       "#chart-07e63a84-6e5e-46f5-a2c7-146fb5ac94ab{background-color:rgba(249,249,249,1)}#chart-07e63a84-6e5e-46f5-a2c7-146fb5ac94ab path,#chart-07e63a84-6e5e-46f5-a2c7-146fb5ac94ab line,#chart-07e63a84-6e5e-46f5-a2c7-146fb5ac94ab rect,#chart-07e63a84-6e5e-46f5-a2c7-146fb5ac94ab circle{-webkit-transition:150ms;-moz-transition:150ms;transition:150ms}#chart-07e63a84-6e5e-46f5-a2c7-146fb5ac94ab .graph &gt; .background{fill:rgba(249,249,249,1)}#chart-07e63a84-6e5e-46f5-a2c7-146fb5ac94ab .plot &gt; .background{fill:rgba(255,255,255,1)}#chart-07e63a84-6e5e-46f5-a2c7-146fb5ac94ab .graph{fill:rgba(0,0,0,.87)}#chart-07e63a84-6e5e-46f5-a2c7-146fb5ac94ab text.no_data{fill:rgba(0,0,0,1)}#chart-07e63a84-6e5e-46f5-a2c7-146fb5ac94ab .title{fill:rgba(0,0,0,1)}#chart-07e63a84-6e5e-46f5-a2c7-146fb5ac94ab .legends .legend text{fill:rgba(0,0,0,.87)}#chart-07e63a84-6e5e-46f5-a2c7-146fb5ac94ab .legends .legend:hover text{fill:rgba(0,0,0,1)}#chart-07e63a84-6e5e-46f5-a2c7-146fb5ac94ab .axis .line{stroke:rgba(0,0,0,1)}#chart-07e63a84-6e5e-46f5-a2c7-146fb5ac94ab .axis .guide.line{stroke:rgba(0,0,0,.54)}#chart-07e63a84-6e5e-46f5-a2c7-146fb5ac94ab .axis .major.line{stroke:rgba(0,0,0,.87)}#chart-07e63a84-6e5e-46f5-a2c7-146fb5ac94ab .axis text.major{fill:rgba(0,0,0,1)}#chart-07e63a84-6e5e-46f5-a2c7-146fb5ac94ab .axis.y .guides:hover .guide.line,#chart-07e63a84-6e5e-46f5-a2c7-146fb5ac94ab .line-graph .axis.x .guides:hover .guide.line,#chart-07e63a84-6e5e-46f5-a2c7-146fb5ac94ab .stackedline-graph .axis.x .guides:hover .guide.line,#chart-07e63a84-6e5e-46f5-a2c7-146fb5ac94ab .xy-graph .axis.x .guides:hover .guide.line{stroke:rgba(0,0,0,1)}#chart-07e63a84-6e5e-46f5-a2c7-146fb5ac94ab .axis .guides:hover text{fill:rgba(0,0,0,1)}#chart-07e63a84-6e5e-46f5-a2c7-146fb5ac94ab .reactive{fill-opacity:.7;stroke-opacity:.8}#chart-07e63a84-6e5e-46f5-a2c7-146fb5ac94ab .ci{stroke:rgba(0,0,0,.87)}#chart-07e63a84-6e5e-46f5-a2c7-146fb5ac94ab .reactive.active,#chart-07e63a84-6e5e-46f5-a2c7-146fb5ac94ab .active .reactive{fill-opacity:.8;stroke-opacity:.9;stroke-width:4}#chart-07e63a84-6e5e-46f5-a2c7-146fb5ac94ab .ci .reactive.active{stroke-width:1.5}#chart-07e63a84-6e5e-46f5-a2c7-146fb5ac94ab .series text{fill:rgba(0,0,0,1)}#chart-07e63a84-6e5e-46f5-a2c7-146fb5ac94ab .tooltip rect{fill:rgba(255,255,255,1);stroke:rgba(0,0,0,1);-webkit-transition:opacity 150ms;-moz-transition:opacity 150ms;transition:opacity 150ms}#chart-07e63a84-6e5e-46f5-a2c7-146fb5ac94ab .tooltip .label{fill:rgba(0,0,0,.87)}#chart-07e63a84-6e5e-46f5-a2c7-146fb5ac94ab .tooltip .label{fill:rgba(0,0,0,.87)}#chart-07e63a84-6e5e-46f5-a2c7-146fb5ac94ab .tooltip .legend{font-size:.8em;fill:rgba(0,0,0,.54)}#chart-07e63a84-6e5e-46f5-a2c7-146fb5ac94ab .tooltip .x_label{font-size:.6em;fill:rgba(0,0,0,1)}#chart-07e63a84-6e5e-46f5-a2c7-146fb5ac94ab .tooltip .xlink{font-size:.5em;text-decoration:underline}#chart-07e63a84-6e5e-46f5-a2c7-146fb5ac94ab .tooltip .value{font-size:1.5em}#chart-07e63a84-6e5e-46f5-a2c7-146fb5ac94ab .bound{font-size:.5em}#chart-07e63a84-6e5e-46f5-a2c7-146fb5ac94ab .max-value{font-size:.75em;fill:rgba(0,0,0,.54)}#chart-07e63a84-6e5e-46f5-a2c7-146fb5ac94ab .map-element{fill:rgba(255,255,255,1);stroke:rgba(0,0,0,.54) !important}#chart-07e63a84-6e5e-46f5-a2c7-146fb5ac94ab .map-element .reactive{fill-opacity:inherit;stroke-opacity:inherit}#chart-07e63a84-6e5e-46f5-a2c7-146fb5ac94ab .color-0,#chart-07e63a84-6e5e-46f5-a2c7-146fb5ac94ab .color-0 a:visited{stroke:#F44336;fill:#F44336}#chart-07e63a84-6e5e-46f5-a2c7-146fb5ac94ab .color-1,#chart-07e63a84-6e5e-46f5-a2c7-146fb5ac94ab .color-1 a:visited{stroke:#3F51B5;fill:#3F51B5}#chart-07e63a84-6e5e-46f5-a2c7-146fb5ac94ab .color-2,#chart-07e63a84-6e5e-46f5-a2c7-146fb5ac94ab .color-2 a:visited{stroke:#009688;fill:#009688}#chart-07e63a84-6e5e-46f5-a2c7-146fb5ac94ab .text-overlay .color-0 text{fill:black}#chart-07e63a84-6e5e-46f5-a2c7-146fb5ac94ab .text-overlay .color-1 text{fill:black}#chart-07e63a84-6e5e-46f5-a2c7-146fb5ac94ab .text-overlay .color-2 text{fill:black}\n",
       "#chart-07e63a84-6e5e-46f5-a2c7-146fb5ac94ab text.no_data{text-anchor:middle}#chart-07e63a84-6e5e-46f5-a2c7-146fb5ac94ab .guide.line{fill:none}#chart-07e63a84-6e5e-46f5-a2c7-146fb5ac94ab .centered{text-anchor:middle}#chart-07e63a84-6e5e-46f5-a2c7-146fb5ac94ab .title{text-anchor:middle}#chart-07e63a84-6e5e-46f5-a2c7-146fb5ac94ab .legends .legend text{fill-opacity:1}#chart-07e63a84-6e5e-46f5-a2c7-146fb5ac94ab .axis.x text{text-anchor:middle}#chart-07e63a84-6e5e-46f5-a2c7-146fb5ac94ab .axis.x:not(.web) text[transform]{text-anchor:start}#chart-07e63a84-6e5e-46f5-a2c7-146fb5ac94ab .axis.x:not(.web) text[transform].backwards{text-anchor:end}#chart-07e63a84-6e5e-46f5-a2c7-146fb5ac94ab .axis.y text{text-anchor:end}#chart-07e63a84-6e5e-46f5-a2c7-146fb5ac94ab .axis.y text[transform].backwards{text-anchor:start}#chart-07e63a84-6e5e-46f5-a2c7-146fb5ac94ab .axis.y2 text{text-anchor:start}#chart-07e63a84-6e5e-46f5-a2c7-146fb5ac94ab .axis.y2 text[transform].backwards{text-anchor:end}#chart-07e63a84-6e5e-46f5-a2c7-146fb5ac94ab .axis .guide.line{stroke-dasharray:4,4}#chart-07e63a84-6e5e-46f5-a2c7-146fb5ac94ab .axis .major.guide.line{stroke-dasharray:6,6}#chart-07e63a84-6e5e-46f5-a2c7-146fb5ac94ab .horizontal .axis.y .guide.line,#chart-07e63a84-6e5e-46f5-a2c7-146fb5ac94ab .horizontal .axis.y2 .guide.line,#chart-07e63a84-6e5e-46f5-a2c7-146fb5ac94ab .vertical .axis.x .guide.line{opacity:0}#chart-07e63a84-6e5e-46f5-a2c7-146fb5ac94ab .horizontal .axis.always_show .guide.line,#chart-07e63a84-6e5e-46f5-a2c7-146fb5ac94ab .vertical .axis.always_show .guide.line{opacity:1 !important}#chart-07e63a84-6e5e-46f5-a2c7-146fb5ac94ab .axis.y .guides:hover .guide.line,#chart-07e63a84-6e5e-46f5-a2c7-146fb5ac94ab .axis.y2 .guides:hover .guide.line,#chart-07e63a84-6e5e-46f5-a2c7-146fb5ac94ab .axis.x .guides:hover .guide.line{opacity:1}#chart-07e63a84-6e5e-46f5-a2c7-146fb5ac94ab .axis .guides:hover text{opacity:1}#chart-07e63a84-6e5e-46f5-a2c7-146fb5ac94ab .nofill{fill:none}#chart-07e63a84-6e5e-46f5-a2c7-146fb5ac94ab .subtle-fill{fill-opacity:.2}#chart-07e63a84-6e5e-46f5-a2c7-146fb5ac94ab .dot{stroke-width:1px;fill-opacity:1}#chart-07e63a84-6e5e-46f5-a2c7-146fb5ac94ab .dot.active{stroke-width:5px}#chart-07e63a84-6e5e-46f5-a2c7-146fb5ac94ab .dot.negative{fill:transparent}#chart-07e63a84-6e5e-46f5-a2c7-146fb5ac94ab text,#chart-07e63a84-6e5e-46f5-a2c7-146fb5ac94ab tspan{stroke:none !important}#chart-07e63a84-6e5e-46f5-a2c7-146fb5ac94ab .series text.active{opacity:1}#chart-07e63a84-6e5e-46f5-a2c7-146fb5ac94ab .tooltip rect{fill-opacity:.95;stroke-width:.5}#chart-07e63a84-6e5e-46f5-a2c7-146fb5ac94ab .tooltip text{fill-opacity:1}#chart-07e63a84-6e5e-46f5-a2c7-146fb5ac94ab .showable{visibility:hidden}#chart-07e63a84-6e5e-46f5-a2c7-146fb5ac94ab .showable.shown{visibility:visible}#chart-07e63a84-6e5e-46f5-a2c7-146fb5ac94ab .gauge-background{fill:rgba(229,229,229,1);stroke:none}#chart-07e63a84-6e5e-46f5-a2c7-146fb5ac94ab .bg-lines{stroke:rgba(249,249,249,1);stroke-width:2px}</style><script type=\"text/javascript\">window.pygal = window.pygal || {};window.pygal.config = window.pygal.config || {};window.pygal.config['07e63a84-6e5e-46f5-a2c7-146fb5ac94ab'] = {\"allow_interruptions\": false, \"box_mode\": \"extremes\", \"classes\": [\"pygal-chart\"], \"css\": [\"file://style.css\", \"file://graph.css\"], \"defs\": [], \"disable_xml_declaration\": false, \"dots_size\": 2.5, \"dynamic_print_values\": false, \"explicit_size\": false, \"fill\": true, \"force_uri_protocol\": \"https\", \"formatter\": null, \"half_pie\": false, \"height\": 600, \"include_x_axis\": false, \"inner_radius\": 0, \"interpolate\": null, \"interpolation_parameters\": {}, \"interpolation_precision\": 250, \"inverse_y_axis\": false, \"js\": [\"//kozea.github.io/pygal.js/2.0.x/pygal-tooltips.min.js\"], \"legend_at_bottom\": true, \"legend_at_bottom_columns\": null, \"legend_box_size\": 12, \"logarithmic\": false, \"margin\": 20, \"margin_bottom\": null, \"margin_left\": null, \"margin_right\": null, \"margin_top\": null, \"max_scale\": 16, \"min_scale\": 4, \"missing_value_fill_truncation\": \"x\", \"no_data_text\": \"No data\", \"no_prefix\": false, \"order_min\": null, \"pretty_print\": false, \"print_labels\": false, \"print_values\": true, \"print_values_position\": \"center\", \"print_zeroes\": true, \"range\": null, \"rounded_bars\": null, \"secondary_range\": null, \"show_dots\": true, \"show_legend\": true, \"show_minor_x_labels\": true, \"show_minor_y_labels\": true, \"show_only_major_dots\": false, \"show_x_guides\": false, \"show_x_labels\": true, \"show_y_guides\": true, \"show_y_labels\": true, \"spacing\": 10, \"stack_from_top\": false, \"strict\": false, \"stroke\": true, \"stroke_style\": null, \"style\": {\"background\": \"rgba(249, 249, 249, 1)\", \"ci_colors\": [], \"colors\": [\"#F44336\", \"#3F51B5\", \"#009688\", \"#FFC107\", \"#FF5722\", \"#9C27B0\", \"#03A9F4\", \"#8BC34A\", \"#FF9800\", \"#E91E63\", \"#2196F3\", \"#4CAF50\", \"#FFEB3B\", \"#673AB7\", \"#00BCD4\", \"#CDDC39\", \"#9E9E9E\", \"#607D8B\"], \"font_family\": \"Consolas, \\\"Liberation Mono\\\", Menlo, Courier, monospace\", \"foreground\": \"rgba(0, 0, 0, .87)\", \"foreground_strong\": \"rgba(0, 0, 0, 1)\", \"foreground_subtle\": \"rgba(0, 0, 0, .54)\", \"guide_stroke_dasharray\": \"4,4\", \"label_font_family\": \"Consolas, \\\"Liberation Mono\\\", Menlo, Courier, monospace\", \"label_font_size\": 10, \"legend_font_family\": \"Consolas, \\\"Liberation Mono\\\", Menlo, Courier, monospace\", \"legend_font_size\": 14, \"major_guide_stroke_dasharray\": \"6,6\", \"major_label_font_family\": \"Consolas, \\\"Liberation Mono\\\", Menlo, Courier, monospace\", \"major_label_font_size\": 10, \"no_data_font_family\": \"Consolas, \\\"Liberation Mono\\\", Menlo, Courier, monospace\", \"no_data_font_size\": 64, \"opacity\": \".7\", \"opacity_hover\": \".8\", \"plot_background\": \"rgba(255, 255, 255, 1)\", \"stroke_opacity\": \".8\", \"stroke_opacity_hover\": \".9\", \"title_font_family\": \"Consolas, \\\"Liberation Mono\\\", Menlo, Courier, monospace\", \"title_font_size\": 16, \"tooltip_font_family\": \"Consolas, \\\"Liberation Mono\\\", Menlo, Courier, monospace\", \"tooltip_font_size\": 14, \"transition\": \"150ms\", \"value_background\": \"rgba(229, 229, 229, 1)\", \"value_colors\": [], \"value_font_family\": \"Consolas, \\\"Liberation Mono\\\", Menlo, Courier, monospace\", \"value_font_size\": 12, \"value_label_font_family\": \"Consolas, \\\"Liberation Mono\\\", Menlo, Courier, monospace\", \"value_label_font_size\": 10}, \"title\": \"Verteilung der hohen Impacts unter den Top 10\", \"tooltip_border_radius\": 0, \"tooltip_fancy_mode\": true, \"truncate_label\": null, \"truncate_legend\": null, \"width\": 800, \"x_label_rotation\": 0, \"x_labels\": [\"mysql (73)\", \"elasticsearch (4)\", \"mongodb (5)\", \"tomcat (4)\", \"jetty (1)\", \"postgresql (3)\", \"netty (1)\", \"solr (3)\", \"jackson-databind (1)\", \"undertow (0)\"], \"x_labels_major\": null, \"x_labels_major_count\": null, \"x_labels_major_every\": null, \"x_title\": \"betroffene Artefakte\", \"xrange\": null, \"y_label_rotation\": 0, \"y_labels\": null, \"y_labels_major\": null, \"y_labels_major_count\": null, \"y_labels_major_every\": null, \"y_title\": \"Anzahl der Impact-Treffer\", \"zero\": 0, \"legends\": [\"Confidentially Impact\", \"Integrity Impact\", \"Availability Impact\"]}</script><script type=\"text/javascript\" xlink:href=\"https://kozea.github.io/pygal.js/2.0.x/pygal-tooltips.min.js\" /></defs><title>Verteilung der hohen Impacts unter den Top 10</title><g class=\"graph stackedbar-graph vertical\"><rect class=\"background\" height=\"600\" width=\"800\" x=\"0\" y=\"0\" /><g class=\"plot\" transform=\"translate(68, 46)\"><rect class=\"background\" height=\"443.0\" width=\"712.0\" x=\"0\" y=\"0\" /><g class=\"axis y always_show\"><g class=\"guides\"><path class=\"axis major line\" d=\"M0.000000 434.480769 h712.000000\" /><text class=\"major\" x=\"-5\" y=\"437.9807692307692\">0</text><title>0</title></g><g class=\"guides\"><path class=\"guide line\" d=\"M0.000000 379.161089 h712.000000\" /><text class=\"\" x=\"-5\" y=\"382.66108891108894\">10</text><title>10</title></g><g class=\"guides\"><path class=\"guide line\" d=\"M0.000000 323.841409 h712.000000\" /><text class=\"\" x=\"-5\" y=\"327.3414085914086\">20</text><title>20</title></g><g class=\"guides\"><path class=\"guide line\" d=\"M0.000000 268.521728 h712.000000\" /><text class=\"\" x=\"-5\" y=\"272.0217282717283\">30</text><title>30</title></g><g class=\"guides\"><path class=\"guide line\" d=\"M0.000000 213.202048 h712.000000\" /><text class=\"\" x=\"-5\" y=\"216.70204795204796\">40</text><title>40</title></g><g class=\"guides\"><path class=\"major guide line\" d=\"M0.000000 157.882368 h712.000000\" /><text class=\"major\" x=\"-5\" y=\"161.38236763236768\">50</text><title>50</title></g><g class=\"guides\"><path class=\"guide line\" d=\"M0.000000 102.562687 h712.000000\" /><text class=\"\" x=\"-5\" y=\"106.06268731268733\">60</text><title>60</title></g><g class=\"guides\"><path class=\"guide line\" d=\"M0.000000 47.243007 h712.000000\" /><text class=\"\" x=\"-5\" y=\"50.74300699300704\">70</text><title>70</title></g></g><g class=\"axis x\"><path class=\"line\" d=\"M0.000000 0.000000 v443.000000\" /><g class=\"guides\"><path class=\"guide line\" d=\"M47.923077 0.000000 v443.000000\" /><text class=\"\" x=\"47.92307692307693\" y=\"458.0\">mysql (73)</text></g><g class=\"guides\"><path class=\"guide line\" d=\"M116.384615 0.000000 v443.000000\" /><text class=\"\" x=\"116.38461538461537\" y=\"458.0\">elasticsea…</text><title>elasticsearch (4)</title></g><g class=\"guides\"><path class=\"guide line\" d=\"M184.846154 0.000000 v443.000000\" /><text class=\"\" x=\"184.84615384615384\" y=\"458.0\">mongodb (5)</text></g><g class=\"guides\"><path class=\"guide line\" d=\"M253.307692 0.000000 v443.000000\" /><text class=\"\" x=\"253.3076923076923\" y=\"458.0\">tomcat (4)</text></g><g class=\"guides\"><path class=\"guide line\" d=\"M321.769231 0.000000 v443.000000\" /><text class=\"\" x=\"321.7692307692308\" y=\"458.0\">jetty (1)</text></g><g class=\"guides\"><path class=\"guide line\" d=\"M390.230769 0.000000 v443.000000\" /><text class=\"\" x=\"390.2307692307692\" y=\"458.0\">postgresql…</text><title>postgresql (3)</title></g><g class=\"guides\"><path class=\"guide line\" d=\"M458.692308 0.000000 v443.000000\" /><text class=\"\" x=\"458.6923076923077\" y=\"458.0\">netty (1)</text></g><g class=\"guides\"><path class=\"guide line\" d=\"M527.153846 0.000000 v443.000000\" /><text class=\"\" x=\"527.1538461538462\" y=\"458.0\">solr (3)</text></g><g class=\"guides\"><path class=\"guide line\" d=\"M595.615385 0.000000 v443.000000\" /><text class=\"\" x=\"595.6153846153845\" y=\"458.0\">jackson-da…</text><title>jackson-databind (1)</title></g><g class=\"guides\"><path class=\"guide line\" d=\"M664.076923 0.000000 v443.000000\" /><text class=\"\" x=\"664.0769230769231\" y=\"458.0\">undertow (…</text><title>undertow (0)</title></g></g><g class=\"series serie-0 color-0\"><g class=\"bars\"><g class=\"bar\"><rect class=\"rect reactive tooltip-trigger\" height=\"22.127872127872138\" rx=\"0\" ry=\"0\" width=\"60.24615384615384\" x=\"17.799999999999997\" y=\"412.3528971028971\" /><desc class=\"value\">4</desc><desc class=\"x centered\">47.92307692307692</desc><desc class=\"y centered\">423.41683316683316</desc><desc class=\"x_label\">mysql (73)</desc></g><g class=\"bar\"><rect class=\"rect reactive tooltip-trigger\" height=\"16.595904095904075\" rx=\"0\" ry=\"0\" width=\"60.24615384615384\" x=\"86.26153846153846\" y=\"417.88486513486515\" /><desc class=\"value\">3</desc><desc class=\"x centered\">116.38461538461539</desc><desc class=\"y centered\">426.1828171828172</desc><desc class=\"x_label\">elasticsearch (4)</desc></g><g class=\"bar\"><rect class=\"rect reactive tooltip-trigger\" height=\"22.127872127872138\" rx=\"0\" ry=\"0\" width=\"60.24615384615384\" x=\"154.72307692307692\" y=\"412.3528971028971\" /><desc class=\"value\">4</desc><desc class=\"x centered\">184.84615384615384</desc><desc class=\"y centered\">423.41683316683316</desc><desc class=\"x_label\">mongodb (5)</desc></g><g class=\"bar\"><rect class=\"rect reactive tooltip-trigger\" height=\"16.595904095904075\" rx=\"0\" ry=\"0\" width=\"60.24615384615384\" x=\"223.18461538461537\" y=\"417.88486513486515\" /><desc class=\"value\">3</desc><desc class=\"x centered\">253.3076923076923</desc><desc class=\"y centered\">426.1828171828172</desc><desc class=\"x_label\">tomcat (4)</desc></g><g class=\"bar\"><rect class=\"rect reactive tooltip-trigger\" height=\"0.0\" rx=\"0\" ry=\"0\" width=\"60.24615384615384\" x=\"291.6461538461539\" y=\"434.4807692307692\" /><desc class=\"value\">0</desc><desc class=\"x centered\">321.7692307692308</desc><desc class=\"y centered\">434.4807692307692</desc><desc class=\"x_label\">jetty (1)</desc></g><g class=\"bar\"><rect class=\"rect reactive tooltip-trigger\" height=\"16.595904095904075\" rx=\"0\" ry=\"0\" width=\"60.24615384615384\" x=\"360.10769230769233\" y=\"417.88486513486515\" /><desc class=\"value\">3</desc><desc class=\"x centered\">390.2307692307692</desc><desc class=\"y centered\">426.1828171828172</desc><desc class=\"x_label\">postgresql (3)</desc></g><g class=\"bar\"><rect class=\"rect reactive tooltip-trigger\" height=\"5.531968031968006\" rx=\"0\" ry=\"0\" width=\"60.24615384615384\" x=\"428.5692307692308\" y=\"428.9488011988012\" /><desc class=\"value\">1</desc><desc class=\"x centered\">458.6923076923077</desc><desc class=\"y centered\">431.71478521478525</desc><desc class=\"x_label\">netty (1)</desc></g><g class=\"bar\"><rect class=\"rect reactive tooltip-trigger\" height=\"16.595904095904075\" rx=\"0\" ry=\"0\" width=\"60.24615384615384\" x=\"497.03076923076924\" y=\"417.88486513486515\" /><desc class=\"value\">3</desc><desc class=\"x centered\">527.1538461538462</desc><desc class=\"y centered\">426.1828171828172</desc><desc class=\"x_label\">solr (3)</desc></g><g class=\"bar\"><rect class=\"rect reactive tooltip-trigger\" height=\"5.531968031968006\" rx=\"0\" ry=\"0\" width=\"60.24615384615384\" x=\"565.4923076923077\" y=\"428.9488011988012\" /><desc class=\"value\">1</desc><desc class=\"x centered\">595.6153846153846</desc><desc class=\"y centered\">431.71478521478525</desc><desc class=\"x_label\">jackson-databind (1)</desc></g><g class=\"bar\"><rect class=\"rect reactive tooltip-trigger\" height=\"0.0\" rx=\"0\" ry=\"0\" width=\"60.24615384615384\" x=\"633.9538461538463\" y=\"434.4807692307692\" /><desc class=\"value\">0</desc><desc class=\"x centered\">664.0769230769232</desc><desc class=\"y centered\">434.4807692307692</desc><desc class=\"x_label\">undertow (0)</desc></g></g></g><g class=\"series serie-1 color-1\"><g class=\"bars\"><g class=\"bar\"><rect class=\"rect reactive tooltip-trigger\" height=\"11.063936063936069\" rx=\"0\" ry=\"0\" width=\"60.24615384615384\" x=\"17.799999999999997\" y=\"401.288961038961\" /><desc class=\"value\">2</desc><desc class=\"x centered\">47.92307692307692</desc><desc class=\"y centered\">406.8209290709291</desc><desc class=\"x_label\">mysql (73)</desc></g><g class=\"bar\"><rect class=\"rect reactive tooltip-trigger\" height=\"5.531968031968063\" rx=\"0\" ry=\"0\" width=\"60.24615384615384\" x=\"86.26153846153846\" y=\"412.3528971028971\" /><desc class=\"value\">1</desc><desc class=\"x centered\">116.38461538461539</desc><desc class=\"y centered\">415.1188811188811</desc><desc class=\"x_label\">elasticsearch (4)</desc></g><g class=\"bar\"><rect class=\"rect reactive tooltip-trigger\" height=\"16.595904095904075\" rx=\"0\" ry=\"0\" width=\"60.24615384615384\" x=\"154.72307692307692\" y=\"395.756993006993\" /><desc class=\"value\">3</desc><desc class=\"x centered\">184.84615384615384</desc><desc class=\"y centered\">404.05494505494505</desc><desc class=\"x_label\">mongodb (5)</desc></g><g class=\"bar\"><rect class=\"rect reactive tooltip-trigger\" height=\"11.063936063936069\" rx=\"0\" ry=\"0\" width=\"60.24615384615384\" x=\"223.18461538461537\" y=\"406.8209290709291\" /><desc class=\"value\">2</desc><desc class=\"x centered\">253.3076923076923</desc><desc class=\"y centered\">412.35289710289715</desc><desc class=\"x_label\">tomcat (4)</desc></g><g class=\"bar\"><rect class=\"rect reactive tooltip-trigger\" height=\"0.0\" rx=\"0\" ry=\"0\" width=\"60.24615384615384\" x=\"291.6461538461539\" y=\"434.4807692307692\" /><desc class=\"value\">0</desc><desc class=\"x centered\">321.7692307692308</desc><desc class=\"y centered\">434.4807692307692</desc><desc class=\"x_label\">jetty (1)</desc></g><g class=\"bar\"><rect class=\"rect reactive tooltip-trigger\" height=\"16.59590409590413\" rx=\"0\" ry=\"0\" width=\"60.24615384615384\" x=\"360.10769230769233\" y=\"401.288961038961\" /><desc class=\"value\">3</desc><desc class=\"x centered\">390.2307692307692</desc><desc class=\"y centered\">409.5869130869131</desc><desc class=\"x_label\">postgresql (3)</desc></g><g class=\"bar\"><rect class=\"rect reactive tooltip-trigger\" height=\"11.063936063936069\" rx=\"0\" ry=\"0\" width=\"60.24615384615384\" x=\"428.5692307692308\" y=\"417.88486513486515\" /><desc class=\"value\">2</desc><desc class=\"x centered\">458.6923076923077</desc><desc class=\"y centered\">423.41683316683316</desc><desc class=\"x_label\">netty (1)</desc></g><g class=\"bar\"><rect class=\"rect reactive tooltip-trigger\" height=\"11.063936063936069\" rx=\"0\" ry=\"0\" width=\"60.24615384615384\" x=\"497.03076923076924\" y=\"406.8209290709291\" /><desc class=\"value\">2</desc><desc class=\"x centered\">527.1538461538462</desc><desc class=\"y centered\">412.35289710289715</desc><desc class=\"x_label\">solr (3)</desc></g><g class=\"bar\"><rect class=\"rect reactive tooltip-trigger\" height=\"5.531968031968063\" rx=\"0\" ry=\"0\" width=\"60.24615384615384\" x=\"565.4923076923077\" y=\"423.41683316683316\" /><desc class=\"value\">1</desc><desc class=\"x centered\">595.6153846153846</desc><desc class=\"y centered\">426.1828171828172</desc><desc class=\"x_label\">jackson-databind (1)</desc></g><g class=\"bar\"><rect class=\"rect reactive tooltip-trigger\" height=\"0.0\" rx=\"0\" ry=\"0\" width=\"60.24615384615384\" x=\"633.9538461538463\" y=\"434.4807692307692\" /><desc class=\"value\">0</desc><desc class=\"x centered\">664.0769230769232</desc><desc class=\"y centered\">434.4807692307692</desc><desc class=\"x_label\">undertow (0)</desc></g></g></g><g class=\"series serie-2 color-2\"><g class=\"bars\"><g class=\"bar\"><rect class=\"rect reactive tooltip-trigger\" height=\"392.7697302697302\" rx=\"0\" ry=\"0\" width=\"60.24615384615384\" x=\"17.799999999999997\" y=\"8.51923076923083\" /><desc class=\"value\">71</desc><desc class=\"x centered\">47.92307692307692</desc><desc class=\"y centered\">204.90409590409593</desc><desc class=\"x_label\">mysql (73)</desc></g><g class=\"bar\"><rect class=\"rect reactive tooltip-trigger\" height=\"5.531968031968006\" rx=\"0\" ry=\"0\" width=\"60.24615384615384\" x=\"86.26153846153846\" y=\"406.8209290709291\" /><desc class=\"value\">1</desc><desc class=\"x centered\">116.38461538461539</desc><desc class=\"y centered\">409.5869130869131</desc><desc class=\"x_label\">elasticsearch (4)</desc></g><g class=\"bar\"><rect class=\"rect reactive tooltip-trigger\" height=\"5.531968031968006\" rx=\"0\" ry=\"0\" width=\"60.24615384615384\" x=\"154.72307692307692\" y=\"390.225024975025\" /><desc class=\"value\">1</desc><desc class=\"x centered\">184.84615384615384</desc><desc class=\"y centered\">392.99100899100904</desc><desc class=\"x_label\">mongodb (5)</desc></g><g class=\"bar\"><rect class=\"rect reactive tooltip-trigger\" height=\"11.063936063936069\" rx=\"0\" ry=\"0\" width=\"60.24615384615384\" x=\"223.18461538461537\" y=\"395.756993006993\" /><desc class=\"value\">2</desc><desc class=\"x centered\">253.3076923076923</desc><desc class=\"y centered\">401.288961038961</desc><desc class=\"x_label\">tomcat (4)</desc></g><g class=\"bar\"><rect class=\"rect reactive tooltip-trigger\" height=\"5.531968031968006\" rx=\"0\" ry=\"0\" width=\"60.24615384615384\" x=\"291.6461538461539\" y=\"428.9488011988012\" /><desc class=\"value\">1</desc><desc class=\"x centered\">321.7692307692308</desc><desc class=\"y centered\">431.71478521478525</desc><desc class=\"x_label\">jetty (1)</desc></g><g class=\"bar\"><rect class=\"rect reactive tooltip-trigger\" height=\"16.595904095904075\" rx=\"0\" ry=\"0\" width=\"60.24615384615384\" x=\"360.10769230769233\" y=\"384.69305694305694\" /><desc class=\"value\">3</desc><desc class=\"x centered\">390.2307692307692</desc><desc class=\"y centered\">392.991008991009</desc><desc class=\"x_label\">postgresql (3)</desc></g><g class=\"bar\"><rect class=\"rect reactive tooltip-trigger\" height=\"0.0\" rx=\"0\" ry=\"0\" width=\"60.24615384615384\" x=\"428.5692307692308\" y=\"417.88486513486515\" /><desc class=\"value\">0</desc><desc class=\"x centered\">458.6923076923077</desc><desc class=\"y centered\">417.88486513486515</desc><desc class=\"x_label\">netty (1)</desc></g><g class=\"bar\"><rect class=\"rect reactive tooltip-trigger\" height=\"5.531968031968063\" rx=\"0\" ry=\"0\" width=\"60.24615384615384\" x=\"497.03076923076924\" y=\"401.288961038961\" /><desc class=\"value\">1</desc><desc class=\"x centered\">527.1538461538462</desc><desc class=\"y centered\">404.05494505494505</desc><desc class=\"x_label\">solr (3)</desc></g><g class=\"bar\"><rect class=\"rect reactive tooltip-trigger\" height=\"5.531968031968006\" rx=\"0\" ry=\"0\" width=\"60.24615384615384\" x=\"565.4923076923077\" y=\"417.88486513486515\" /><desc class=\"value\">1</desc><desc class=\"x centered\">595.6153846153846</desc><desc class=\"y centered\">420.6508491508491</desc><desc class=\"x_label\">jackson-databind (1)</desc></g><g class=\"bar\"><rect class=\"rect reactive tooltip-trigger\" height=\"0.0\" rx=\"0\" ry=\"0\" width=\"60.24615384615384\" x=\"633.9538461538463\" y=\"434.4807692307692\" /><desc class=\"value\">0</desc><desc class=\"x centered\">664.0769230769232</desc><desc class=\"y centered\">434.4807692307692</desc><desc class=\"x_label\">undertow (0)</desc></g></g></g></g><g class=\"titles\"><text class=\"title plot_title\" x=\"400.0\" y=\"26\">Verteilung der hohen Impacts unter den Top 10</text><text class=\"title\" x=\"424.0\" y=\"535.0\">betroffene Artefakte</text><text class=\"title\" transform=\"rotate(-90 0.000000 267.500000)\" x=\"0\" y=\"293.5\">Anzahl der Impact-Treffer</text></g><g class=\"plot overlay\" transform=\"translate(68, 46)\"><g class=\"series serie-0 color-0\" /><g class=\"series serie-1 color-1\" /><g class=\"series serie-2 color-2\" /></g><g class=\"plot text-overlay\" transform=\"translate(68, 46)\"><g class=\"series serie-0 color-0\"><text class=\"value\" text-anchor=\"middle\" x=\"47.92307692307692\" y=\"427.41683316683316\">4</text><text class=\"value\" text-anchor=\"middle\" x=\"116.38461538461539\" y=\"430.1828171828172\">3</text><text class=\"value\" text-anchor=\"middle\" x=\"184.84615384615384\" y=\"427.41683316683316\">4</text><text class=\"value\" text-anchor=\"middle\" x=\"253.3076923076923\" y=\"430.1828171828172\">3</text><text class=\"value\" text-anchor=\"middle\" x=\"321.7692307692308\" y=\"438.4807692307692\">0</text><text class=\"value\" text-anchor=\"middle\" x=\"390.2307692307692\" y=\"430.1828171828172\">3</text><text class=\"value\" text-anchor=\"middle\" x=\"458.6923076923077\" y=\"435.71478521478525\">1</text><text class=\"value\" text-anchor=\"middle\" x=\"527.1538461538462\" y=\"430.1828171828172\">3</text><text class=\"value\" text-anchor=\"middle\" x=\"595.6153846153846\" y=\"435.71478521478525\">1</text><text class=\"value\" text-anchor=\"middle\" x=\"664.0769230769232\" y=\"438.4807692307692\">0</text></g><g class=\"series serie-1 color-1\"><text class=\"value\" text-anchor=\"middle\" x=\"47.92307692307692\" y=\"410.8209290709291\">2</text><text class=\"value\" text-anchor=\"middle\" x=\"116.38461538461539\" y=\"419.1188811188811\">1</text><text class=\"value\" text-anchor=\"middle\" x=\"184.84615384615384\" y=\"408.05494505494505\">3</text><text class=\"value\" text-anchor=\"middle\" x=\"253.3076923076923\" y=\"416.35289710289715\">2</text><text class=\"value\" text-anchor=\"middle\" x=\"321.7692307692308\" y=\"438.4807692307692\">0</text><text class=\"value\" text-anchor=\"middle\" x=\"390.2307692307692\" y=\"413.5869130869131\">3</text><text class=\"value\" text-anchor=\"middle\" x=\"458.6923076923077\" y=\"427.41683316683316\">2</text><text class=\"value\" text-anchor=\"middle\" x=\"527.1538461538462\" y=\"416.35289710289715\">2</text><text class=\"value\" text-anchor=\"middle\" x=\"595.6153846153846\" y=\"430.1828171828172\">1</text><text class=\"value\" text-anchor=\"middle\" x=\"664.0769230769232\" y=\"438.4807692307692\">0</text></g><g class=\"series serie-2 color-2\"><text class=\"value\" text-anchor=\"middle\" x=\"47.92307692307692\" y=\"208.90409590409593\">71</text><text class=\"value\" text-anchor=\"middle\" x=\"116.38461538461539\" y=\"413.5869130869131\">1</text><text class=\"value\" text-anchor=\"middle\" x=\"184.84615384615384\" y=\"396.99100899100904\">1</text><text class=\"value\" text-anchor=\"middle\" x=\"253.3076923076923\" y=\"405.288961038961\">2</text><text class=\"value\" text-anchor=\"middle\" x=\"321.7692307692308\" y=\"435.71478521478525\">1</text><text class=\"value\" text-anchor=\"middle\" x=\"390.2307692307692\" y=\"396.991008991009\">3</text><text class=\"value\" text-anchor=\"middle\" x=\"458.6923076923077\" y=\"421.88486513486515\">0</text><text class=\"value\" text-anchor=\"middle\" x=\"527.1538461538462\" y=\"408.05494505494505\">1</text><text class=\"value\" text-anchor=\"middle\" x=\"595.6153846153846\" y=\"424.6508491508491\">1</text><text class=\"value\" text-anchor=\"middle\" x=\"664.0769230769232\" y=\"438.4807692307692\">0</text></g></g><g class=\"plot tooltip-overlay\" transform=\"translate(68, 46)\"><g class=\"tooltip\" style=\"opacity: 0\" transform=\"translate(0 0)\"><rect class=\"tooltip-box\" height=\"0\" rx=\"0\" ry=\"0\" width=\"0\" /><g class=\"text\" /></g></g><g class=\"legends\" transform=\"translate(78, 555)\"><g class=\"legend reactive activate-serie\" id=\"activate-serie-0\"><rect class=\"color-0 reactive\" height=\"12\" width=\"12\" x=\"0.0\" y=\"1.0\" /><text x=\"17.0\" y=\"11.2\">Confidentially Impact</text></g><g class=\"legend reactive activate-serie\" id=\"activate-serie-1\"><rect class=\"color-1 reactive\" height=\"12\" width=\"12\" x=\"356.0\" y=\"1.0\" /><text x=\"373.0\" y=\"11.2\">Integrity Impact</text></g><g class=\"legend reactive activate-serie\" id=\"activate-serie-2\"><rect class=\"color-2 reactive\" height=\"12\" width=\"12\" x=\"0.0\" y=\"22.0\" /><text x=\"17.0\" y=\"32.2\">Availability Impact</text></g></g></g></svg>\n",
       "    </figure>\n",
       "  </body>\n",
       "</html>\n"
      ],
      "text/plain": [
       "<IPython.core.display.HTML object>"
      ]
     },
     "metadata": {},
     "output_type": "display_data"
    }
   ],
   "source": [
    "from pygal.style import DefaultStyle\n",
    "top5 = df_count.head(10)\n",
    "labels = []\n",
    "impactTypes = ['Confidentially Impact', 'Integrity Impact', 'Availability Impact']\n",
    "count_ci = []\n",
    "count_ii = []\n",
    "count_ai = []\n",
    "\n",
    "line_chart = pygal.StackedBar(show_legend=True, human_readable=True, fill=True, legend_at_bottom=True, print_values=True, style=DefaultStyle(value_font_size=12))\n",
    "\n",
    "line_chart.title = 'Verteilung der hohen Impacts unter den Top 10'\n",
    "line_chart.x_title= 'betroffene Artefakte'\n",
    "line_chart.y_title='Anzahl der Impact-Treffer'\n",
    "\n",
    "for j in top5.index:\n",
    "    artefakt = top5['Artefakt'][j]\n",
    "    \n",
    "    \n",
    "    df_interimResult = df_compact.loc[df_compact['verwendetes Artefakt'].str.contains(artefakt, case=False)]\n",
    "    \n",
    "    count_hi = len(df_interimResult[(df_interimResult[impactTypes[0]] == 'HIGH') | (df_interimResult[impactTypes[0]] == 'HIGH') | (df_interimResult[impactTypes[2]] == 'HIGH')])\n",
    "    \n",
    "    count_ci.append(len(df_interimResult[df_interimResult[impactTypes[0]] == 'HIGH']))\n",
    "    count_ii.append(len(df_interimResult[df_interimResult[impactTypes[1]] == 'HIGH']))\n",
    "    count_ai.append(len(df_interimResult[df_interimResult[impactTypes[2]] == 'HIGH']))\n",
    "    labels.append(artefakt+' ('+ str(count_hi)+')')\n",
    "\n",
    "line_chart.add(impactTypes[0], count_ci)\n",
    "line_chart.add(impactTypes[1], count_ii)\n",
    "line_chart.add(impactTypes[2], count_ai)\n",
    "\n",
    "line_chart.x_labels = labels\n",
    "    \n",
    "\n",
    "display(HTML(base_html.format(rendered_chart=line_chart.render(is_unicode=True))))\n"
   ]
  },
  {
   "cell_type": "code",
   "execution_count": 14,
   "metadata": {},
   "outputs": [
    {
     "data": {
      "text/html": [
       "\n",
       "<!DOCTYPE html>\n",
       "<html>\n",
       "  <head>\n",
       "  <script type=\"text/javascript\" src=\"http://kozea.github.com/pygal.js/javascripts/svg.jquery.js\"></script>\n",
       "  <script type=\"text/javascript\" src=\"https://kozea.github.io/pygal.js/2.0.x/pygal-tooltips.min.js\"\"></script>\n",
       "  </head>\n",
       "  <body>\n",
       "    <figure>\n",
       "      <?xml version='1.0' encoding='utf-8'?>\n",
       "<svg xmlns:xlink=\"http://www.w3.org/1999/xlink\" class=\"pygal-chart\" id=\"chart-ec6f3f50-8f67-4a74-a84f-36dce55dbef3\" viewBox=\"0 0 800 600\" xmlns=\"http://www.w3.org/2000/svg\"><!--Generated with pygal 2.4.0 (etree) ©Kozea 2012-2016 on 2021-08-30--><!--http://pygal.org--><!--http://github.com/Kozea/pygal--><defs><style type=\"text/css\">#chart-ec6f3f50-8f67-4a74-a84f-36dce55dbef3{-webkit-user-select:none;-webkit-font-smoothing:antialiased;font-family:Consolas,\"Liberation Mono\",Menlo,Courier,monospace}#chart-ec6f3f50-8f67-4a74-a84f-36dce55dbef3 .title{font-family:Consolas,\"Liberation Mono\",Menlo,Courier,monospace;font-size:16px}#chart-ec6f3f50-8f67-4a74-a84f-36dce55dbef3 .legends .legend text{font-family:Consolas,\"Liberation Mono\",Menlo,Courier,monospace;font-size:14px}#chart-ec6f3f50-8f67-4a74-a84f-36dce55dbef3 .axis text{font-family:Consolas,\"Liberation Mono\",Menlo,Courier,monospace;font-size:10px}#chart-ec6f3f50-8f67-4a74-a84f-36dce55dbef3 .axis text.major{font-family:Consolas,\"Liberation Mono\",Menlo,Courier,monospace;font-size:10px}#chart-ec6f3f50-8f67-4a74-a84f-36dce55dbef3 .text-overlay text.value{font-family:Consolas,\"Liberation Mono\",Menlo,Courier,monospace;font-size:16px}#chart-ec6f3f50-8f67-4a74-a84f-36dce55dbef3 .text-overlay text.label{font-family:Consolas,\"Liberation Mono\",Menlo,Courier,monospace;font-size:10px}#chart-ec6f3f50-8f67-4a74-a84f-36dce55dbef3 .tooltip{font-family:Consolas,\"Liberation Mono\",Menlo,Courier,monospace;font-size:14px}#chart-ec6f3f50-8f67-4a74-a84f-36dce55dbef3 text.no_data{font-family:Consolas,\"Liberation Mono\",Menlo,Courier,monospace;font-size:64px}\n",
       "#chart-ec6f3f50-8f67-4a74-a84f-36dce55dbef3{background-color:rgba(249,249,249,1)}#chart-ec6f3f50-8f67-4a74-a84f-36dce55dbef3 path,#chart-ec6f3f50-8f67-4a74-a84f-36dce55dbef3 line,#chart-ec6f3f50-8f67-4a74-a84f-36dce55dbef3 rect,#chart-ec6f3f50-8f67-4a74-a84f-36dce55dbef3 circle{-webkit-transition:150ms;-moz-transition:150ms;transition:150ms}#chart-ec6f3f50-8f67-4a74-a84f-36dce55dbef3 .graph &gt; .background{fill:rgba(249,249,249,1)}#chart-ec6f3f50-8f67-4a74-a84f-36dce55dbef3 .plot &gt; .background{fill:rgba(255,255,255,1)}#chart-ec6f3f50-8f67-4a74-a84f-36dce55dbef3 .graph{fill:rgba(0,0,0,.87)}#chart-ec6f3f50-8f67-4a74-a84f-36dce55dbef3 text.no_data{fill:rgba(0,0,0,1)}#chart-ec6f3f50-8f67-4a74-a84f-36dce55dbef3 .title{fill:rgba(0,0,0,1)}#chart-ec6f3f50-8f67-4a74-a84f-36dce55dbef3 .legends .legend text{fill:rgba(0,0,0,.87)}#chart-ec6f3f50-8f67-4a74-a84f-36dce55dbef3 .legends .legend:hover text{fill:rgba(0,0,0,1)}#chart-ec6f3f50-8f67-4a74-a84f-36dce55dbef3 .axis .line{stroke:rgba(0,0,0,1)}#chart-ec6f3f50-8f67-4a74-a84f-36dce55dbef3 .axis .guide.line{stroke:rgba(0,0,0,.54)}#chart-ec6f3f50-8f67-4a74-a84f-36dce55dbef3 .axis .major.line{stroke:rgba(0,0,0,.87)}#chart-ec6f3f50-8f67-4a74-a84f-36dce55dbef3 .axis text.major{fill:rgba(0,0,0,1)}#chart-ec6f3f50-8f67-4a74-a84f-36dce55dbef3 .axis.y .guides:hover .guide.line,#chart-ec6f3f50-8f67-4a74-a84f-36dce55dbef3 .line-graph .axis.x .guides:hover .guide.line,#chart-ec6f3f50-8f67-4a74-a84f-36dce55dbef3 .stackedline-graph .axis.x .guides:hover .guide.line,#chart-ec6f3f50-8f67-4a74-a84f-36dce55dbef3 .xy-graph .axis.x .guides:hover .guide.line{stroke:rgba(0,0,0,1)}#chart-ec6f3f50-8f67-4a74-a84f-36dce55dbef3 .axis .guides:hover text{fill:rgba(0,0,0,1)}#chart-ec6f3f50-8f67-4a74-a84f-36dce55dbef3 .reactive{fill-opacity:.7;stroke-opacity:.8}#chart-ec6f3f50-8f67-4a74-a84f-36dce55dbef3 .ci{stroke:rgba(0,0,0,.87)}#chart-ec6f3f50-8f67-4a74-a84f-36dce55dbef3 .reactive.active,#chart-ec6f3f50-8f67-4a74-a84f-36dce55dbef3 .active .reactive{fill-opacity:.8;stroke-opacity:.9;stroke-width:4}#chart-ec6f3f50-8f67-4a74-a84f-36dce55dbef3 .ci .reactive.active{stroke-width:1.5}#chart-ec6f3f50-8f67-4a74-a84f-36dce55dbef3 .series text{fill:rgba(0,0,0,1)}#chart-ec6f3f50-8f67-4a74-a84f-36dce55dbef3 .tooltip rect{fill:rgba(255,255,255,1);stroke:rgba(0,0,0,1);-webkit-transition:opacity 150ms;-moz-transition:opacity 150ms;transition:opacity 150ms}#chart-ec6f3f50-8f67-4a74-a84f-36dce55dbef3 .tooltip .label{fill:rgba(0,0,0,.87)}#chart-ec6f3f50-8f67-4a74-a84f-36dce55dbef3 .tooltip .label{fill:rgba(0,0,0,.87)}#chart-ec6f3f50-8f67-4a74-a84f-36dce55dbef3 .tooltip .legend{font-size:.8em;fill:rgba(0,0,0,.54)}#chart-ec6f3f50-8f67-4a74-a84f-36dce55dbef3 .tooltip .x_label{font-size:.6em;fill:rgba(0,0,0,1)}#chart-ec6f3f50-8f67-4a74-a84f-36dce55dbef3 .tooltip .xlink{font-size:.5em;text-decoration:underline}#chart-ec6f3f50-8f67-4a74-a84f-36dce55dbef3 .tooltip .value{font-size:1.5em}#chart-ec6f3f50-8f67-4a74-a84f-36dce55dbef3 .bound{font-size:.5em}#chart-ec6f3f50-8f67-4a74-a84f-36dce55dbef3 .max-value{font-size:.75em;fill:rgba(0,0,0,.54)}#chart-ec6f3f50-8f67-4a74-a84f-36dce55dbef3 .map-element{fill:rgba(255,255,255,1);stroke:rgba(0,0,0,.54) !important}#chart-ec6f3f50-8f67-4a74-a84f-36dce55dbef3 .map-element .reactive{fill-opacity:inherit;stroke-opacity:inherit}#chart-ec6f3f50-8f67-4a74-a84f-36dce55dbef3 .color-0,#chart-ec6f3f50-8f67-4a74-a84f-36dce55dbef3 .color-0 a:visited{stroke:#F44336;fill:#F44336}#chart-ec6f3f50-8f67-4a74-a84f-36dce55dbef3 .color-1,#chart-ec6f3f50-8f67-4a74-a84f-36dce55dbef3 .color-1 a:visited{stroke:#3F51B5;fill:#3F51B5}#chart-ec6f3f50-8f67-4a74-a84f-36dce55dbef3 .color-2,#chart-ec6f3f50-8f67-4a74-a84f-36dce55dbef3 .color-2 a:visited{stroke:#009688;fill:#009688}#chart-ec6f3f50-8f67-4a74-a84f-36dce55dbef3 .color-3,#chart-ec6f3f50-8f67-4a74-a84f-36dce55dbef3 .color-3 a:visited{stroke:#FFC107;fill:#FFC107}#chart-ec6f3f50-8f67-4a74-a84f-36dce55dbef3 .color-4,#chart-ec6f3f50-8f67-4a74-a84f-36dce55dbef3 .color-4 a:visited{stroke:#FF5722;fill:#FF5722}#chart-ec6f3f50-8f67-4a74-a84f-36dce55dbef3 .text-overlay .color-0 text{fill:black}#chart-ec6f3f50-8f67-4a74-a84f-36dce55dbef3 .text-overlay .color-1 text{fill:black}#chart-ec6f3f50-8f67-4a74-a84f-36dce55dbef3 .text-overlay .color-2 text{fill:black}#chart-ec6f3f50-8f67-4a74-a84f-36dce55dbef3 .text-overlay .color-3 text{fill:black}#chart-ec6f3f50-8f67-4a74-a84f-36dce55dbef3 .text-overlay .color-4 text{fill:black}\n",
       "#chart-ec6f3f50-8f67-4a74-a84f-36dce55dbef3 text.no_data{text-anchor:middle}#chart-ec6f3f50-8f67-4a74-a84f-36dce55dbef3 .guide.line{fill:none}#chart-ec6f3f50-8f67-4a74-a84f-36dce55dbef3 .centered{text-anchor:middle}#chart-ec6f3f50-8f67-4a74-a84f-36dce55dbef3 .title{text-anchor:middle}#chart-ec6f3f50-8f67-4a74-a84f-36dce55dbef3 .legends .legend text{fill-opacity:1}#chart-ec6f3f50-8f67-4a74-a84f-36dce55dbef3 .axis.x text{text-anchor:middle}#chart-ec6f3f50-8f67-4a74-a84f-36dce55dbef3 .axis.x:not(.web) text[transform]{text-anchor:start}#chart-ec6f3f50-8f67-4a74-a84f-36dce55dbef3 .axis.x:not(.web) text[transform].backwards{text-anchor:end}#chart-ec6f3f50-8f67-4a74-a84f-36dce55dbef3 .axis.y text{text-anchor:end}#chart-ec6f3f50-8f67-4a74-a84f-36dce55dbef3 .axis.y text[transform].backwards{text-anchor:start}#chart-ec6f3f50-8f67-4a74-a84f-36dce55dbef3 .axis.y2 text{text-anchor:start}#chart-ec6f3f50-8f67-4a74-a84f-36dce55dbef3 .axis.y2 text[transform].backwards{text-anchor:end}#chart-ec6f3f50-8f67-4a74-a84f-36dce55dbef3 .axis .guide.line{stroke-dasharray:4,4}#chart-ec6f3f50-8f67-4a74-a84f-36dce55dbef3 .axis .major.guide.line{stroke-dasharray:6,6}#chart-ec6f3f50-8f67-4a74-a84f-36dce55dbef3 .horizontal .axis.y .guide.line,#chart-ec6f3f50-8f67-4a74-a84f-36dce55dbef3 .horizontal .axis.y2 .guide.line,#chart-ec6f3f50-8f67-4a74-a84f-36dce55dbef3 .vertical .axis.x .guide.line{opacity:0}#chart-ec6f3f50-8f67-4a74-a84f-36dce55dbef3 .horizontal .axis.always_show .guide.line,#chart-ec6f3f50-8f67-4a74-a84f-36dce55dbef3 .vertical .axis.always_show .guide.line{opacity:1 !important}#chart-ec6f3f50-8f67-4a74-a84f-36dce55dbef3 .axis.y .guides:hover .guide.line,#chart-ec6f3f50-8f67-4a74-a84f-36dce55dbef3 .axis.y2 .guides:hover .guide.line,#chart-ec6f3f50-8f67-4a74-a84f-36dce55dbef3 .axis.x .guides:hover .guide.line{opacity:1}#chart-ec6f3f50-8f67-4a74-a84f-36dce55dbef3 .axis .guides:hover text{opacity:1}#chart-ec6f3f50-8f67-4a74-a84f-36dce55dbef3 .nofill{fill:none}#chart-ec6f3f50-8f67-4a74-a84f-36dce55dbef3 .subtle-fill{fill-opacity:.2}#chart-ec6f3f50-8f67-4a74-a84f-36dce55dbef3 .dot{stroke-width:1px;fill-opacity:1}#chart-ec6f3f50-8f67-4a74-a84f-36dce55dbef3 .dot.active{stroke-width:5px}#chart-ec6f3f50-8f67-4a74-a84f-36dce55dbef3 .dot.negative{fill:transparent}#chart-ec6f3f50-8f67-4a74-a84f-36dce55dbef3 text,#chart-ec6f3f50-8f67-4a74-a84f-36dce55dbef3 tspan{stroke:none !important}#chart-ec6f3f50-8f67-4a74-a84f-36dce55dbef3 .series text.active{opacity:1}#chart-ec6f3f50-8f67-4a74-a84f-36dce55dbef3 .tooltip rect{fill-opacity:.95;stroke-width:.5}#chart-ec6f3f50-8f67-4a74-a84f-36dce55dbef3 .tooltip text{fill-opacity:1}#chart-ec6f3f50-8f67-4a74-a84f-36dce55dbef3 .showable{visibility:hidden}#chart-ec6f3f50-8f67-4a74-a84f-36dce55dbef3 .showable.shown{visibility:visible}#chart-ec6f3f50-8f67-4a74-a84f-36dce55dbef3 .gauge-background{fill:rgba(229,229,229,1);stroke:none}#chart-ec6f3f50-8f67-4a74-a84f-36dce55dbef3 .bg-lines{stroke:rgba(249,249,249,1);stroke-width:2px}</style><script type=\"text/javascript\">window.pygal = window.pygal || {};window.pygal.config = window.pygal.config || {};window.pygal.config['ec6f3f50-8f67-4a74-a84f-36dce55dbef3'] = {\"allow_interruptions\": false, \"box_mode\": \"extremes\", \"classes\": [\"pygal-chart\"], \"css\": [\"file://style.css\", \"file://graph.css\"], \"defs\": [], \"disable_xml_declaration\": false, \"dots_size\": 2.5, \"dynamic_print_values\": false, \"explicit_size\": false, \"fill\": false, \"force_uri_protocol\": \"https\", \"formatter\": null, \"half_pie\": false, \"height\": 600, \"include_x_axis\": false, \"inner_radius\": 0, \"interpolate\": null, \"interpolation_parameters\": {}, \"interpolation_precision\": 250, \"inverse_y_axis\": false, \"js\": [\"//kozea.github.io/pygal.js/2.0.x/pygal-tooltips.min.js\"], \"legend_at_bottom\": false, \"legend_at_bottom_columns\": null, \"legend_box_size\": 12, \"logarithmic\": false, \"margin\": 20, \"margin_bottom\": null, \"margin_left\": null, \"margin_right\": null, \"margin_top\": null, \"max_scale\": 16, \"min_scale\": 4, \"missing_value_fill_truncation\": \"x\", \"no_data_text\": \"No data\", \"no_prefix\": false, \"order_min\": null, \"pretty_print\": false, \"print_labels\": false, \"print_values\": false, \"print_values_position\": \"center\", \"print_zeroes\": true, \"range\": null, \"rounded_bars\": null, \"secondary_range\": null, \"show_dots\": true, \"show_legend\": true, \"show_minor_x_labels\": true, \"show_minor_y_labels\": true, \"show_only_major_dots\": false, \"show_x_guides\": false, \"show_x_labels\": true, \"show_y_guides\": true, \"show_y_labels\": true, \"spacing\": 10, \"stack_from_top\": false, \"strict\": false, \"stroke\": true, \"stroke_style\": null, \"style\": {\"background\": \"rgba(249, 249, 249, 1)\", \"ci_colors\": [], \"colors\": [\"#F44336\", \"#3F51B5\", \"#009688\", \"#FFC107\", \"#FF5722\", \"#9C27B0\", \"#03A9F4\", \"#8BC34A\", \"#FF9800\", \"#E91E63\", \"#2196F3\", \"#4CAF50\", \"#FFEB3B\", \"#673AB7\", \"#00BCD4\", \"#CDDC39\", \"#9E9E9E\", \"#607D8B\"], \"font_family\": \"Consolas, \\\"Liberation Mono\\\", Menlo, Courier, monospace\", \"foreground\": \"rgba(0, 0, 0, .87)\", \"foreground_strong\": \"rgba(0, 0, 0, 1)\", \"foreground_subtle\": \"rgba(0, 0, 0, .54)\", \"guide_stroke_dasharray\": \"4,4\", \"label_font_family\": \"Consolas, \\\"Liberation Mono\\\", Menlo, Courier, monospace\", \"label_font_size\": 10, \"legend_font_family\": \"Consolas, \\\"Liberation Mono\\\", Menlo, Courier, monospace\", \"legend_font_size\": 14, \"major_guide_stroke_dasharray\": \"6,6\", \"major_label_font_family\": \"Consolas, \\\"Liberation Mono\\\", Menlo, Courier, monospace\", \"major_label_font_size\": 10, \"no_data_font_family\": \"Consolas, \\\"Liberation Mono\\\", Menlo, Courier, monospace\", \"no_data_font_size\": 64, \"opacity\": \".7\", \"opacity_hover\": \".8\", \"plot_background\": \"rgba(255, 255, 255, 1)\", \"stroke_opacity\": \".8\", \"stroke_opacity_hover\": \".9\", \"title_font_family\": \"Consolas, \\\"Liberation Mono\\\", Menlo, Courier, monospace\", \"title_font_size\": 16, \"tooltip_font_family\": \"Consolas, \\\"Liberation Mono\\\", Menlo, Courier, monospace\", \"tooltip_font_size\": 14, \"transition\": \"150ms\", \"value_background\": \"rgba(229, 229, 229, 1)\", \"value_colors\": [], \"value_font_family\": \"Consolas, \\\"Liberation Mono\\\", Menlo, Courier, monospace\", \"value_font_size\": 16, \"value_label_font_family\": \"Consolas, \\\"Liberation Mono\\\", Menlo, Courier, monospace\", \"value_label_font_size\": 10}, \"title\": \"Schweregrad der jeweiligen Schwachstelle (CVE) anhand des Base Score\", \"tooltip_border_radius\": 0, \"tooltip_fancy_mode\": true, \"truncate_label\": null, \"truncate_legend\": null, \"width\": 800, \"x_label_rotation\": 0, \"x_labels\": null, \"x_labels_major\": null, \"x_labels_major_count\": null, \"x_labels_major_every\": null, \"x_title\": null, \"xrange\": null, \"y_label_rotation\": 0, \"y_labels\": null, \"y_labels_major\": null, \"y_labels_major_count\": null, \"y_labels_major_every\": null, \"y_title\": null, \"zero\": 0, \"legends\": [\"Critical\", \"High\", \"Medium\", \"Low\", \"None\"]}</script><script type=\"text/javascript\" xlink:href=\"https://kozea.github.io/pygal.js/2.0.x/pygal-tooltips.min.js\" /></defs><title>Schweregrad der jeweiligen Schwachstelle (CVE) anhand des Base Score</title><g class=\"graph treemap-graph vertical\"><rect class=\"background\" height=\"600\" width=\"800\" x=\"0\" y=\"0\" /><g class=\"plot\" transform=\"translate(109, 46)\"><rect class=\"background\" height=\"534\" width=\"670.8\" x=\"0\" y=\"0\" /><g class=\"series serie-0 color-0\"><g class=\"rects\"><g class=\"rect\"><desc class=\"label\">CVE-2021-33204: postgresql</desc><rect class=\"rect reactive tooltip-trigger\" height=\"130.6993006993008\" width=\"35.74050086355787\" x=\"12.899999999999999\" y=\"393.0314685314685\" /><desc class=\"value\">9.8</desc><desc class=\"x centered\">30.770250431778933</desc><desc class=\"y centered\">458.3811188811189</desc></g><g class=\"rect\"><desc class=\"label\">CVE-2021-38140: postgresql</desc><rect class=\"rect reactive tooltip-trigger\" height=\"130.69930069930075\" width=\"35.74050086355787\" x=\"12.899999999999999\" y=\"262.3321678321677\" /><desc class=\"value\">9.8</desc><desc class=\"x centered\">30.770250431778933</desc><desc class=\"y centered\">327.68181818181813</desc></g><g class=\"rect\"><desc class=\"label\">CVE-2021-27905: solr</desc><rect class=\"rect reactive tooltip-trigger\" height=\"130.69930069930064\" width=\"35.74050086355787\" x=\"12.899999999999999\" y=\"131.6328671328671\" /><desc class=\"value\">9.8</desc><desc class=\"x centered\">30.770250431778933</desc><desc class=\"y centered\">196.9825174825174</desc></g><g class=\"rect\"><desc class=\"label\">CVE-2021-29943: solr</desc><rect class=\"rect reactive tooltip-trigger\" height=\"121.36363636363637\" width=\"35.74050086355787\" x=\"12.899999999999999\" y=\"10.269230769230717\" /><desc class=\"value\">9.1</desc><desc class=\"x centered\">30.770250431778933</desc><desc class=\"y centered\">70.9510489510489</desc></g></g></g><g class=\"series serie-1 color-1\"><g class=\"rects\"><g class=\"rect\"><desc class=\"label\">CVE-2021-2144: mysql</desc><rect class=\"rect reactive tooltip-trigger\" height=\"75.29374902083669\" width=\"45.58074265975821\" x=\"48.64050086355787\" y=\"448.4370202099326\" /><desc class=\"value\">7.2</desc><desc class=\"x centered\">71.43087219343697</desc><desc class=\"y centered\">486.08389472035094</desc></g><g class=\"rect\"><desc class=\"label\">CVE-2021-27928: mysql</desc><rect class=\"rect reactive tooltip-trigger\" height=\"75.29374902083669\" width=\"45.580742659758215\" x=\"94.22124352331608\" y=\"448.4370202099326\" /><desc class=\"value\">7.2</desc><desc class=\"x centered\">117.01161485319518</desc><desc class=\"y centered\">486.08389472035094</desc></g><g class=\"rect\"><desc class=\"label\">CVE-2021-22146: elasticsearch</desc><rect class=\"rect reactive tooltip-trigger\" height=\"39.215494281685665\" width=\"91.16148531951643\" x=\"48.64050086355787\" y=\"409.22152592824693\" /><desc class=\"value\">7.5</desc><desc class=\"x centered\">94.22124352331608</desc><desc class=\"y centered\">428.82927306908977</desc></g><g class=\"rect\"><desc class=\"label\">CVE-2021-31828: elasticsearch</desc><rect class=\"rect reactive tooltip-trigger\" height=\"37.1240012533292\" width=\"91.16148531951643\" x=\"48.64050086355787\" y=\"372.09752467491774\" /><desc class=\"value\">7.1</desc><desc class=\"x centered\">94.22124352331608</desc><desc class=\"y centered\">390.65952530158233</desc></g><g class=\"rect\"><desc class=\"label\">CVE-2021-25122: tomcat</desc><rect class=\"rect reactive tooltip-trigger\" height=\"75.81662227792572\" width=\"47.15249240664644\" x=\"48.64050086355787\" y=\"296.280902396992\" /><desc class=\"value\">7.5</desc><desc class=\"x centered\">72.21674706688108</desc><desc class=\"y centered\">334.1892135359549</desc></g><g class=\"rect\"><desc class=\"label\">CVE-2021-25329: tomcat</desc><rect class=\"rect reactive tooltip-trigger\" height=\"75.81662227792572\" width=\"44.008992912869985\" x=\"95.7929932702043\" y=\"296.280902396992\" /><desc class=\"value\">7</desc><desc class=\"x centered\">117.7974897266393</desc><desc class=\"y centered\">334.1892135359549</desc></g><g class=\"rect\"><desc class=\"label\">CVE-2021-30639: tomcat</desc><rect class=\"rect reactive tooltip-trigger\" height=\"39.215494281685835\" width=\"91.16148531951643\" x=\"48.64050086355787\" y=\"257.0654081153062\" /><desc class=\"value\">7.5</desc><desc class=\"x centered\">94.22124352331608</desc><desc class=\"y centered\">276.67315525614913</desc></g><g class=\"rect\"><desc class=\"label\">CVE-2021-28165: jetty</desc><rect class=\"rect reactive tooltip-trigger\" height=\"85.22834090553033\" width=\"41.94546870529896\" x=\"48.64050086355787\" y=\"171.83706720977585\" /><desc class=\"value\">7.5</desc><desc class=\"x centered\">69.61323521620734</desc><desc class=\"y centered\">214.45123766254102</desc></g><g class=\"rect\"><desc class=\"label\">CVE-2021-32027: postgresql</desc><rect class=\"rect reactive tooltip-trigger\" height=\"85.22834090553033\" width=\"49.216016614217466\" x=\"90.58596956885683\" y=\"171.83706720977585\" /><desc class=\"value\">8.8</desc><desc class=\"x centered\">115.19397787596556</desc><desc class=\"y centered\">214.45123766254102</desc></g><g class=\"rect\"><desc class=\"label\">CVE-2021-29262: solr</desc><rect class=\"rect reactive tooltip-trigger\" height=\"39.215494281685665\" width=\"91.16148531951643\" x=\"48.64050086355787\" y=\"132.6215729280902\" /><desc class=\"value\">7.5</desc><desc class=\"x centered\">94.22124352331608</desc><desc class=\"y centered\">152.22932006893302</desc></g><g class=\"rect\"><desc class=\"label\">CVE-2021-20190: jackson-databind</desc><rect class=\"rect reactive tooltip-trigger\" height=\"81.56822810590631\" width=\"47.333848146672004\" x=\"48.64050086355787\" y=\"51.053344822183874\" /><desc class=\"value\">8.1</desc><desc class=\"x centered\">72.30742493689387</desc><desc class=\"y centered\">91.83745887513703</desc></g><g class=\"rect\"><desc class=\"label\">CVE-2021-26117: activemq</desc><rect class=\"rect reactive tooltip-trigger\" height=\"81.56822810590631\" width=\"43.82763717284442\" x=\"95.97434901022987\" y=\"51.053344822183874\" /><desc class=\"value\">7.5</desc><desc class=\"x centered\">117.88816759665208</desc><desc class=\"y centered\">91.83745887513703</desc></g><g class=\"rect\"><desc class=\"label\">CVE-2021-27084: java</desc><rect class=\"rect reactive tooltip-trigger\" height=\"40.78411405295316\" width=\"91.16148531951643\" x=\"48.64050086355787\" y=\"10.269230769230717\" /><desc class=\"value\">7.8</desc><desc class=\"x centered\">94.22124352331608</desc><desc class=\"y centered\">30.661287795707295</desc></g></g></g><g class=\"series serie-2 color-2\"><g class=\"rects\"><g class=\"rect\"><desc class=\"label\">CVE-2021-2001: mysql</desc><rect class=\"rect reactive tooltip-trigger\" height=\"66.92161104071744\" width=\"34.90097142661145\" x=\"139.8019861830743\" y=\"456.80915819005185\" /><desc class=\"value\">4.9</desc><desc class=\"x centered\">157.25247189638003</desc><desc class=\"y centered\">490.2699637104106</desc></g><g class=\"rect\"><desc class=\"label\">CVE-2021-2002: mysql</desc><rect class=\"rect reactive tooltip-trigger\" height=\"66.92161104071744\" width=\"34.90097142661145\" x=\"174.70295760968574\" y=\"456.80915819005185\" /><desc class=\"value\">4.9</desc><desc class=\"x centered\">192.15344332299145</desc><desc class=\"y centered\">490.2699637104106</desc></g><g class=\"rect\"><desc class=\"label\">CVE-2021-2006: mysql</desc><rect class=\"rect reactive tooltip-trigger\" height=\"36.192299848551215\" width=\"69.8019428532229\" x=\"139.8019861830743\" y=\"420.61685834150063\" /><desc class=\"value\">5.3</desc><desc class=\"x centered\">174.70295760968574</desc><desc class=\"y centered\">438.71300826577624</desc></g><g class=\"rect\"><desc class=\"label\">CVE-2021-2009: mysql</desc><rect class=\"rect reactive tooltip-trigger\" height=\"33.46080552035869\" width=\"69.8019428532229\" x=\"139.8019861830743\" y=\"387.15605282114194\" /><desc class=\"value\">4.9</desc><desc class=\"x centered\">174.70295760968574</desc><desc class=\"y centered\">403.8864555813213</desc></g><g class=\"rect\"><desc class=\"label\">CVE-2021-2010: mysql</desc><rect class=\"rect reactive tooltip-trigger\" height=\"69.31681586619277\" width=\"28.881417740952344\" x=\"209.6039290362972\" y=\"454.4139533645765\" /><desc class=\"value\">4.2</desc><desc class=\"x centered\">224.04463790677335</desc><desc class=\"y centered\">489.0723612976729</desc></g><g class=\"rect\"><desc class=\"label\">CVE-2021-2011: mysql</desc><rect class=\"rect reactive tooltip-trigger\" height=\"69.31681586619277\" width=\"40.57151539800449\" x=\"238.48534677724953\" y=\"454.4139533645765\" /><desc class=\"value\">5.9</desc><desc class=\"x centered\">258.77110447625176</desc><desc class=\"y centered\">489.0723612976729</desc></g><g class=\"rect\"><desc class=\"label\">CVE-2021-2012: mysql</desc><rect class=\"rect reactive tooltip-trigger\" height=\"67.25790054343457\" width=\"34.72646656947842\" x=\"209.6039290362972\" y=\"387.15605282114194\" /><desc class=\"value\">4.9</desc><desc class=\"x centered\">226.9671623210364</desc><desc class=\"y centered\">420.78500309285926</desc></g><g class=\"rect\"><desc class=\"label\">CVE-2021-2014: mysql</desc><rect class=\"rect reactive tooltip-trigger\" height=\"67.25790054343457\" width=\"34.72646656947842\" x=\"244.3303956057756\" y=\"387.15605282114194\" /><desc class=\"value\">4.9</desc><desc class=\"x centered\">261.6936288905148</desc><desc class=\"y centered\">420.78500309285926</desc></g><g class=\"rect\"><desc class=\"label\">CVE-2021-2016: mysql</desc><rect class=\"rect reactive tooltip-trigger\" height=\"69.35102422046498\" width=\"33.678366844734455\" x=\"279.056862175254\" y=\"454.3797450103043\" /><desc class=\"value\">4.9</desc><desc class=\"x centered\">295.89604559762125</desc><desc class=\"y centered\">489.0552571205368</desc></g><g class=\"rect\"><desc class=\"label\">CVE-2021-2020: mysql</desc><rect class=\"rect reactive tooltip-trigger\" height=\"69.35102422046498\" width=\"44.67538458995392\" x=\"312.7352290199885\" y=\"454.3797450103043\" /><desc class=\"value\">6.5</desc><desc class=\"x centered\">335.07292131496547</desc><desc class=\"y centered\">489.0552571205368</desc></g><g class=\"rect\"><desc class=\"label\">CVE-2021-2021: mysql</desc><rect class=\"rect reactive tooltip-trigger\" height=\"69.35102422046498\" width=\"33.6783668447344\" x=\"357.4106136099424\" y=\"454.3797450103043\" /><desc class=\"value\">4.9</desc><desc class=\"x centered\">374.24979703230963</desc><desc class=\"y centered\">489.0552571205368</desc></g><g class=\"rect\"><desc class=\"label\">CVE-2021-2022: mysql</desc><rect class=\"rect reactive tooltip-trigger\" height=\"67.22369218916236\" width=\"31.19881774869998\" x=\"279.056862175254\" y=\"387.15605282114194\" /><desc class=\"value\">4.4</desc><desc class=\"x centered\">294.656271049604</desc><desc class=\"y centered\">420.7678989157231</desc></g><g class=\"rect\"><desc class=\"label\">CVE-2021-2024: mysql</desc><rect class=\"rect reactive tooltip-trigger\" height=\"67.22369218916236\" width=\"46.089162583306916\" x=\"310.255679923954\" y=\"387.15605282114194\" /><desc class=\"value\">6.5</desc><desc class=\"x centered\">333.30026121560746</desc><desc class=\"y centered\">420.7678989157231</desc></g><g class=\"rect\"><desc class=\"label\">CVE-2021-2028: mysql</desc><rect class=\"rect reactive tooltip-trigger\" height=\"67.22369218916236\" width=\"34.74413794741588\" x=\"356.3448425072609\" y=\"387.15605282114194\" /><desc class=\"value\">4.9</desc><desc class=\"x centered\">373.71691148096886</desc><desc class=\"y centered\">420.7678989157231</desc></g><g class=\"rect\"><desc class=\"label\">CVE-2021-2030: mysql</desc><rect class=\"rect reactive tooltip-trigger\" height=\"62.225357634351326\" width=\"37.53500700597834\" x=\"139.8019861830743\" y=\"324.9306951867906\" /><desc class=\"value\">4.9</desc><desc class=\"x centered\">158.56948968606346</desc><desc class=\"y centered\">356.0433740039663</desc></g><g class=\"rect\"><desc class=\"label\">CVE-2021-2031: mysql</desc><rect class=\"rect reactive tooltip-trigger\" height=\"62.225357634351326\" width=\"37.53500700597837\" x=\"177.33699318905263\" y=\"324.9306951867906\" /><desc class=\"value\">4.9</desc><desc class=\"x centered\">196.10449669204183</desc><desc class=\"y centered\">356.0433740039663</desc></g><g class=\"rect\"><desc class=\"label\">CVE-2021-2032: mysql</desc><rect class=\"rect reactive tooltip-trigger\" height=\"58.41564186081956\" width=\"35.087071766457996\" x=\"139.8019861830743\" y=\"266.51505332597105\" /><desc class=\"value\">4.3</desc><desc class=\"x centered\">157.3455220663033</desc><desc class=\"y centered\">295.7228742563808</desc></g><g class=\"rect\"><desc class=\"label\">CVE-2021-2036: mysql</desc><rect class=\"rect reactive tooltip-trigger\" height=\"58.41564186081956\" width=\"39.98294224549872\" x=\"174.8890579495323\" y=\"266.51505332597105\" /><desc class=\"value\">4.9</desc><desc class=\"x centered\">194.88052907228166</desc><desc class=\"y centered\">295.7228742563808</desc></g><g class=\"rect\"><desc class=\"label\">CVE-2021-2038: mysql</desc><rect class=\"rect reactive tooltip-trigger\" height=\"32.766691220910616\" width=\"64.00706457861574\" x=\"214.872000195031\" y=\"354.3893616002313\" /><desc class=\"value\">4.4</desc><desc class=\"x centered\">246.87553248433886</desc><desc class=\"y centered\">370.77270721068663</desc></g><g class=\"rect\"><desc class=\"label\">CVE-2021-2046: mysql</desc><rect class=\"rect reactive tooltip-trigger\" height=\"50.639431886861814\" width=\"64.00706457861574\" x=\"214.872000195031\" y=\"303.7499297133695\" /><desc class=\"value\">6.8</desc><desc class=\"x centered\">246.87553248433886</desc><desc class=\"y centered\">329.0696456568004</desc></g><g class=\"rect\"><desc class=\"label\">CVE-2021-2048: mysql</desc><rect class=\"rect reactive tooltip-trigger\" height=\"37.23487638739846\" width=\"64.00706457861574\" x=\"214.872000195031\" y=\"266.51505332597105\" /><desc class=\"value\">5</desc><desc class=\"x centered\">246.87553248433886</desc><desc class=\"y centered\">285.1324915196703</desc></g><g class=\"rect\"><desc class=\"label\">CVE-2021-2055: mysql</desc><rect class=\"rect reactive tooltip-trigger\" height=\"60.320499747585416\" width=\"38.72032301669344\" x=\"278.87906477364675\" y=\"326.8355530735565\" /><desc class=\"value\">4.9</desc><desc class=\"x centered\">298.23922628199347</desc><desc class=\"y centered\">356.99580294734926</desc></g><g class=\"rect\"><desc class=\"label\">CVE-2021-2056: mysql</desc><rect class=\"rect reactive tooltip-trigger\" height=\"60.320499747585416\" width=\"34.769269647643114\" x=\"317.5993877903402\" y=\"326.8355530735565\" /><desc class=\"value\">4.4</desc><desc class=\"x centered\">334.98402261416174</desc><desc class=\"y centered\">356.99580294734926</desc></g><g class=\"rect\"><desc class=\"label\">CVE-2021-2058: mysql</desc><rect class=\"rect reactive tooltip-trigger\" height=\"60.320499747585416\" width=\"38.7203230166935\" x=\"352.3686574379833\" y=\"326.8355530735565\" /><desc class=\"value\">4.9</desc><desc class=\"x centered\">371.7288189463301</desc><desc class=\"y centered\">356.99580294734926</desc></g><g class=\"rect\"><desc class=\"label\">CVE-2021-2060: mysql</desc><rect class=\"rect reactive tooltip-trigger\" height=\"60.32049974758547\" width=\"38.72032301669344\" x=\"278.87906477364675\" y=\"266.51505332597105\" /><desc class=\"value\">4.9</desc><desc class=\"x centered\">298.23922628199347</desc><desc class=\"y centered\">296.6753031997638</desc></g><g class=\"rect\"><desc class=\"label\">CVE-2021-2061: mysql</desc><rect class=\"rect reactive tooltip-trigger\" height=\"60.32049974758547\" width=\"34.769269647643114\" x=\"317.5993877903402\" y=\"266.51505332597105\" /><desc class=\"value\">4.4</desc><desc class=\"x centered\">334.98402261416174</desc><desc class=\"y centered\">296.6753031997638</desc></g><g class=\"rect\"><desc class=\"label\">CVE-2021-2065: mysql</desc><rect class=\"rect reactive tooltip-trigger\" height=\"60.32049974758547\" width=\"38.7203230166935\" x=\"352.3686574379833\" y=\"266.51505332597105\" /><desc class=\"value\">4.9</desc><desc class=\"x centered\">371.7288189463301</desc><desc class=\"y centered\">296.6753031997638</desc></g><g class=\"rect\"><desc class=\"label\">CVE-2021-2070: mysql</desc><rect class=\"rect reactive tooltip-trigger\" height=\"66.48708705872485\" width=\"35.12906547841294\" x=\"391.0889804546768\" y=\"457.24368217204443\" /><desc class=\"value\">4.9</desc><desc class=\"x centered\">408.65351319388327</desc><desc class=\"y centered\">490.4872257014068</desc></g><g class=\"rect\"><desc class=\"label\">CVE-2021-2072: mysql</desc><rect class=\"rect reactive tooltip-trigger\" height=\"66.48708705872485\" width=\"35.12906547841294\" x=\"426.21804593308974\" y=\"457.24368217204443\" /><desc class=\"value\">4.9</desc><desc class=\"x centered\">443.7825786722962</desc><desc class=\"y centered\">490.4872257014068</desc></g><g class=\"rect\"><desc class=\"label\">CVE-2021-2076: mysql</desc><rect class=\"rect reactive tooltip-trigger\" height=\"66.48708705872485\" width=\"35.12906547841294\" x=\"391.0889804546768\" y=\"390.7565951133196\" /><desc class=\"value\">4.9</desc><desc class=\"x centered\">408.65351319388327</desc><desc class=\"y centered\">424.00013864268203</desc></g><g class=\"rect\"><desc class=\"label\">CVE-2021-2081: mysql</desc><rect class=\"rect reactive tooltip-trigger\" height=\"66.48708705872485\" width=\"35.12906547841294\" x=\"426.21804593308974\" y=\"390.7565951133196\" /><desc class=\"value\">4.9</desc><desc class=\"x centered\">443.7825786722962</desc><desc class=\"y centered\">424.00013864268203</desc></g><g class=\"rect\"><desc class=\"label\">CVE-2021-2087: mysql</desc><rect class=\"rect reactive tooltip-trigger\" height=\"62.912512485675165\" width=\"33.33676621931022\" x=\"461.3471114115026\" y=\"460.8182567450941\" /><desc class=\"value\">4.4</desc><desc class=\"x centered\">478.01549452115773</desc><desc class=\"y centered\">492.2745129879317</desc></g><g class=\"rect\"><desc class=\"label\">CVE-2021-2088: mysql</desc><rect class=\"rect reactive tooltip-trigger\" height=\"62.912512485675165\" width=\"33.33676621931022\" x=\"494.68387763081284\" y=\"460.8182567450941\" /><desc class=\"value\">4.4</desc><desc class=\"x centered\">511.35226074046795</desc><desc class=\"y centered\">492.2745129879317</desc></g><g class=\"rect\"><desc class=\"label\">CVE-2021-2122: mysql</desc><rect class=\"rect reactive tooltip-trigger\" height=\"35.03083081588727\" width=\"66.67353243862044\" x=\"461.3471114115026\" y=\"425.78742592920685\" /><desc class=\"value\">4.9</desc><desc class=\"x centered\">494.68387763081284</desc><desc class=\"y centered\">443.3028413371505</desc></g><g class=\"rect\"><desc class=\"label\">CVE-2021-2146: mysql</desc><rect class=\"rect reactive tooltip-trigger\" height=\"35.03083081588727\" width=\"66.67353243862044\" x=\"461.3471114115026\" y=\"390.7565951133196\" /><desc class=\"value\">4.9</desc><desc class=\"x centered\">494.68387763081284</desc><desc class=\"y centered\">408.2720105212632</desc></g><g class=\"rect\"><desc class=\"label\">CVE-2021-2154: mysql</desc><rect class=\"rect reactive tooltip-trigger\" height=\"43.86300882346433\" width=\"53.248267672541715\" x=\"528.0206438501231\" y=\"479.86776040730496\" /><desc class=\"value\">4.9</desc><desc class=\"x centered\">554.6447776863939</desc><desc class=\"y centered\">501.79926481903715</desc></g><g class=\"rect\"><desc class=\"label\">CVE-2021-2160: mysql</desc><rect class=\"rect reactive tooltip-trigger\" height=\"43.86300882346433\" width=\"53.248267672541715\" x=\"528.0206438501231\" y=\"436.00475158384063\" /><desc class=\"value\">4.9</desc><desc class=\"x centered\">554.6447776863939</desc><desc class=\"y centered\">457.93625599557276</desc></g><g class=\"rect\"><desc class=\"label\">CVE-2021-2162: mysql</desc><rect class=\"rect reactive tooltip-trigger\" height=\"41.00237781323841\" width=\"49.98816965177389\" x=\"581.2689115226648\" y=\"482.7283914175309\" /><desc class=\"value\">4.3</desc><desc class=\"x centered\">606.2629963485517</desc><desc class=\"y centered\">503.2295803241501</desc></g><g class=\"rect\"><desc class=\"label\">CVE-2021-2164: mysql</desc><rect class=\"rect reactive tooltip-trigger\" height=\"46.72363983369024\" width=\"49.98816965177389\" x=\"581.2689115226648\" y=\"436.00475158384063\" /><desc class=\"value\">4.9</desc><desc class=\"x centered\">606.2629963485517</desc><desc class=\"y centered\">459.3665715006857</desc></g><g class=\"rect\"><desc class=\"label\">CVE-2021-2166: mysql</desc><rect class=\"rect reactive tooltip-trigger\" height=\"45.24815647052105\" width=\"51.6182186621578\" x=\"528.0206438501231\" y=\"390.7565951133196\" /><desc class=\"value\">4.9</desc><desc class=\"x centered\">553.829753181202</desc><desc class=\"y centered\">413.3806733485801</desc></g><g class=\"rect\"><desc class=\"label\">CVE-2021-2169: mysql</desc><rect class=\"rect reactive tooltip-trigger\" height=\"45.24815647052105\" width=\"51.6182186621578\" x=\"579.6388625122809\" y=\"390.7565951133196\" /><desc class=\"value\">4.9</desc><desc class=\"x centered\">605.4479718433597</desc><desc class=\"y centered\">413.3806733485801</desc></g><g class=\"rect\"><desc class=\"label\">CVE-2021-2170: mysql</desc><rect class=\"rect reactive tooltip-trigger\" height=\"62.12077089367426\" width=\"37.598201071144786\" x=\"391.0889804546768\" y=\"328.6358242196453\" /><desc class=\"value\">4.9</desc><desc class=\"x centered\">409.8880809902492</desc><desc class=\"y centered\">359.69620966648245</desc></g><g class=\"rect\"><desc class=\"label\">CVE-2021-2171: mysql</desc><rect class=\"rect reactive tooltip-trigger\" height=\"62.12077089367426\" width=\"33.76164994143619\" x=\"428.6871815258216\" y=\"328.6358242196453\" /><desc class=\"value\">4.4</desc><desc class=\"x centered\">445.5680064965397</desc><desc class=\"y centered\">359.69620966648245</desc></g><g class=\"rect\"><desc class=\"label\">CVE-2021-2172: mysql</desc><rect class=\"rect reactive tooltip-trigger\" height=\"62.12077089367426\" width=\"49.875164686212486\" x=\"462.4488314672578\" y=\"328.6358242196453\" /><desc class=\"value\">6.5</desc><desc class=\"x centered\">487.38641381036405</desc><desc class=\"y centered\">359.69620966648245</desc></g><g class=\"rect\"><desc class=\"label\">CVE-2021-2174: mysql</desc><rect class=\"rect reactive tooltip-trigger\" height=\"62.120770893674205\" width=\"33.761649941436076\" x=\"391.0889804546768\" y=\"266.5150533259711\" /><desc class=\"value\">4.4</desc><desc class=\"x centered\">407.96980542539484</desc><desc class=\"y centered\">297.5754387728082</desc></g><g class=\"rect\"><desc class=\"label\">CVE-2021-2178: mysql</desc><rect class=\"rect reactive tooltip-trigger\" height=\"62.120770893674205\" width=\"49.87516468621254\" x=\"424.8506303961129\" y=\"266.5150533259711\" /><desc class=\"value\">6.5</desc><desc class=\"x centered\">449.78821273921915</desc><desc class=\"y centered\">297.5754387728082</desc></g><g class=\"rect\"><desc class=\"label\">CVE-2021-2179: mysql</desc><rect class=\"rect reactive tooltip-trigger\" height=\"62.120770893674205\" width=\"37.59820107114484\" x=\"474.72579508232553\" y=\"266.5150533259711\" /><desc class=\"value\">4.9</desc><desc class=\"x centered\">493.524895617898</desc><desc class=\"y centered\">297.5754387728082</desc></g><g class=\"rect\"><desc class=\"label\">CVE-2021-2180: mysql</desc><rect class=\"rect reactive tooltip-trigger\" height=\"39.27635837148438\" width=\"59.466542510484146\" x=\"512.3239961534703\" y=\"351.4802367418352\" /><desc class=\"value\">4.9</desc><desc class=\"x centered\">542.0572674087123</desc><desc class=\"y centered\">371.1184159275774</desc></g><g class=\"rect\"><desc class=\"label\">CVE-2021-2193: mysql</desc><rect class=\"rect reactive tooltip-trigger\" height=\"39.27635837148438\" width=\"59.466542510484146\" x=\"512.3239961534703\" y=\"312.2038783703508\" /><desc class=\"value\">4.9</desc><desc class=\"x centered\">542.0572674087123</desc><desc class=\"y centered\">331.842057556093</desc></g><g class=\"rect\"><desc class=\"label\">CVE-2021-2194: mysql</desc><rect class=\"rect reactive tooltip-trigger\" height=\"39.27635837148438\" width=\"59.466542510484146\" x=\"571.7905386639544\" y=\"351.4802367418352\" /><desc class=\"value\">4.9</desc><desc class=\"x centered\">601.5238099191965</desc><desc class=\"y centered\">371.1184159275774</desc></g><g class=\"rect\"><desc class=\"label\">CVE-2021-2196: mysql</desc><rect class=\"rect reactive tooltip-trigger\" height=\"39.27635837148438\" width=\"59.466542510484146\" x=\"571.7905386639544\" y=\"312.2038783703508\" /><desc class=\"value\">4.9</desc><desc class=\"x centered\">601.5238099191965</desc><desc class=\"y centered\">331.842057556093</desc></g><g class=\"rect\"><desc class=\"label\">CVE-2021-2201: mysql</desc><rect class=\"rect reactive tooltip-trigger\" height=\"45.68882504437977\" width=\"51.120361105504\" x=\"512.3239961534703\" y=\"266.51505332597105\" /><desc class=\"value\">4.9</desc><desc class=\"x centered\">537.8841767062222</desc><desc class=\"y centered\">289.35946584816094</desc></g><g class=\"rect\"><desc class=\"label\">CVE-2021-2202: mysql</desc><rect class=\"rect reactive tooltip-trigger\" height=\"45.68882504437977\" width=\"67.8127239154644\" x=\"563.4443572589743\" y=\"266.51505332597105\" /><desc class=\"value\">6.5</desc><desc class=\"x centered\">597.3507192167065</desc><desc class=\"y centered\">289.35946584816094</desc></g><g class=\"rect\"><desc class=\"label\">CVE-2021-2203: mysql</desc><rect class=\"rect reactive tooltip-trigger\" height=\"67.9483304757199\" width=\"34.373607392597734\" x=\"139.8019861830743\" y=\"198.56672285025115\" /><desc class=\"value\">4.9</desc><desc class=\"x centered\">156.98878987937314</desc><desc class=\"y centered\">232.5408880881111</desc></g><g class=\"rect\"><desc class=\"label\">CVE-2021-2208: mysql</desc><rect class=\"rect reactive tooltip-trigger\" height=\"67.9483304757199\" width=\"34.373607392597705\" x=\"174.17559357567202\" y=\"198.56672285025115\" /><desc class=\"value\">4.9</desc><desc class=\"x centered\">191.36239727197088</desc><desc class=\"y centered\">232.5408880881111</desc></g><g class=\"rect\"><desc class=\"label\">CVE-2021-2212: mysql</desc><rect class=\"rect reactive tooltip-trigger\" height=\"67.94833047571984\" width=\"34.373607392597734\" x=\"139.8019861830743\" y=\"130.6183923745313\" /><desc class=\"value\">4.9</desc><desc class=\"x centered\">156.98878987937314</desc><desc class=\"y centered\">164.59255761239123</desc></g><g class=\"rect\"><desc class=\"label\">CVE-2021-2213: mysql</desc><rect class=\"rect reactive tooltip-trigger\" height=\"67.94833047571984\" width=\"34.373607392597705\" x=\"174.17559357567202\" y=\"130.6183923745313\" /><desc class=\"value\">4.9</desc><desc class=\"x centered\">191.36239727197088</desc><desc class=\"y centered\">164.59255761239123</desc></g><g class=\"rect\"><desc class=\"label\">CVE-2021-2215: mysql</desc><rect class=\"rect reactive tooltip-trigger\" height=\"67.9483304757199\" width=\"34.373607392597705\" x=\"208.54920096826973\" y=\"198.56672285025115\" /><desc class=\"value\">4.9</desc><desc class=\"x centered\">225.73600466456858</desc><desc class=\"y centered\">232.5408880881111</desc></g><g class=\"rect\"><desc class=\"label\">CVE-2021-2217: mysql</desc><rect class=\"rect reactive tooltip-trigger\" height=\"67.9483304757199\" width=\"34.373607392597734\" x=\"242.92280836086744\" y=\"198.56672285025115\" /><desc class=\"value\">4.9</desc><desc class=\"x centered\">260.1096120571663</desc><desc class=\"y centered\">232.5408880881111</desc></g><g class=\"rect\"><desc class=\"label\">CVE-2021-2226: mysql</desc><rect class=\"rect reactive tooltip-trigger\" height=\"67.94833047571984\" width=\"34.373607392597705\" x=\"208.54920096826973\" y=\"130.6183923745313\" /><desc class=\"value\">4.9</desc><desc class=\"x centered\">225.73600466456858</desc><desc class=\"y centered\">164.59255761239123</desc></g><g class=\"rect\"><desc class=\"label\">CVE-2021-2230: mysql</desc><rect class=\"rect reactive tooltip-trigger\" height=\"67.94833047571984\" width=\"34.373607392597734\" x=\"242.92280836086744\" y=\"130.6183923745313\" /><desc class=\"value\">4.9</desc><desc class=\"x centered\">260.1096120571663</desc><desc class=\"y centered\">164.59255761239123</desc></g><g class=\"rect\"><desc class=\"label\">CVE-2021-2278: mysql</desc><rect class=\"rect reactive tooltip-trigger\" height=\"35.04929704918459\" width=\"66.63840451571087\" x=\"277.29641575346517\" y=\"231.46575627678646\" /><desc class=\"value\">4.9</desc><desc class=\"x centered\">310.61561801132063</desc><desc class=\"y centered\">248.99040480137876</desc></g><g class=\"rect\"><desc class=\"label\">CVE-2021-2293: mysql</desc><rect class=\"rect reactive tooltip-trigger\" height=\"35.049297049184645\" width=\"66.63840451571087\" x=\"277.29641575346517\" y=\"196.41645922760182\" /><desc class=\"value\">4.9</desc><desc class=\"x centered\">310.61561801132063</desc><desc class=\"y centered\">213.94110775219414</desc></g><g class=\"rect\"><desc class=\"label\">CVE-2021-2298: mysql</desc><rect class=\"rect reactive tooltip-trigger\" height=\"70.09859409836923\" width=\"44.19894177062457\" x=\"343.93482026917604\" y=\"196.41645922760182\" /><desc class=\"value\">6.5</desc><desc class=\"x centered\">366.0342911544883</desc><desc class=\"y centered\">231.46575627678644</desc></g><g class=\"rect\"><desc class=\"label\">CVE-2021-2299: mysql</desc><rect class=\"rect reactive tooltip-trigger\" height=\"65.79806685307051\" width=\"35.496927895623685\" x=\"277.29641575346517\" y=\"130.6183923745313\" /><desc class=\"value\">4.9</desc><desc class=\"x centered\">295.044879701277</desc><desc class=\"y centered\">163.51742580106657</desc></g><g class=\"rect\"><desc class=\"label\">CVE-2021-2300: mysql</desc><rect class=\"rect reactive tooltip-trigger\" height=\"65.79806685307051\" width=\"35.4969278956238\" x=\"312.79334364908885\" y=\"130.6183923745313\" /><desc class=\"value\">4.9</desc><desc class=\"x centered\">330.54180759690075</desc><desc class=\"y centered\">163.51742580106657</desc></g><g class=\"rect\"><desc class=\"label\">CVE-2021-2304: mysql</desc><rect class=\"rect reactive tooltip-trigger\" height=\"65.79806685307051\" width=\"39.84349049508796\" x=\"348.29027154471265\" y=\"130.6183923745313\" /><desc class=\"value\">5.5</desc><desc class=\"x centered\">368.21201679225663</desc><desc class=\"y centered\">163.51742580106657</desc></g><g class=\"rect\"><desc class=\"label\">CVE-2021-2305: mysql</desc><rect class=\"rect reactive tooltip-trigger\" height=\"37.08873533748255\" width=\"62.97408670050953\" x=\"139.8019861830743\" y=\"93.52965703704876\" /><desc class=\"value\">4.9</desc><desc class=\"x centered\">171.28902953332906</desc><desc class=\"y centered\">112.07402470579004</desc></g><g class=\"rect\"><desc class=\"label\">CVE-2021-2307: mysql</desc><rect class=\"rect reactive tooltip-trigger\" height=\"46.17169093033539\" width=\"62.97408670050953\" x=\"139.8019861830743\" y=\"47.35796610671338\" /><desc class=\"value\">6.1</desc><desc class=\"x centered\">171.28902953332906</desc><desc class=\"y centered\">70.44381157188107</desc></g><g class=\"rect\"><desc class=\"label\">CVE-2021-2339: mysql</desc><rect class=\"rect reactive tooltip-trigger\" height=\"37.08873533748255\" width=\"62.97408670050953\" x=\"139.8019861830743\" y=\"10.26923076923083\" /><desc class=\"value\">4.9</desc><desc class=\"x centered\">171.28902953332906</desc><desc class=\"y centered\">28.813598437972104</desc></g><g class=\"rect\"><desc class=\"label\">CVE-2021-2352: mysql</desc><rect class=\"rect reactive tooltip-trigger\" height=\"37.56120330356515\" width=\"62.18195982377358\" x=\"202.77607288358382\" y=\"93.05718907096616\" /><desc class=\"value\">4.9</desc><desc class=\"x centered\">233.8670527954706</desc><desc class=\"y centered\">111.83779072274874</desc></g><g class=\"rect\"><desc class=\"label\">CVE-2021-2354: mysql</desc><rect class=\"rect reactive tooltip-trigger\" height=\"37.56120330356521\" width=\"62.18195982377358\" x=\"202.77607288358382\" y=\"55.49598576740095\" /><desc class=\"value\">4.9</desc><desc class=\"x centered\">233.8670527954706</desc><desc class=\"y centered\">74.27658741918356</desc></g><g class=\"rect\"><desc class=\"label\">CVE-2021-2356: mysql</desc><rect class=\"rect reactive tooltip-trigger\" height=\"45.226754998170236\" width=\"62.18195982377358\" x=\"202.77607288358382\" y=\"10.26923076923083\" /><desc class=\"value\">5.9</desc><desc class=\"x centered\">233.8670527954706</desc><desc class=\"y centered\">32.88260826831595</desc></g><g class=\"rect\"><desc class=\"label\">CVE-2021-2357: mysql</desc><rect class=\"rect reactive tooltip-trigger\" height=\"60.486366195410085\" width=\"38.61414367676315\" x=\"264.9580327073574\" y=\"70.13202617912123\" /><desc class=\"value\">4.9</desc><desc class=\"x centered\">284.26510454573895</desc><desc class=\"y centered\">100.37520927682627</desc></g><g class=\"rect\"><desc class=\"label\">CVE-2021-22132: elasticsearch</desc><rect class=\"rect reactive tooltip-trigger\" height=\"60.486366195410085\" width=\"37.82609992825786\" x=\"303.57217638412055\" y=\"70.13202617912123\" /><desc class=\"value\">4.8</desc><desc class=\"x centered\">322.4852263482495</desc><desc class=\"y centered\">100.37520927682627</desc></g><g class=\"rect\"><desc class=\"label\">CVE-2021-22134: elasticsearch</desc><rect class=\"rect reactive tooltip-trigger\" height=\"59.86279540989051\" width=\"34.238859114749005\" x=\"264.9580327073574\" y=\"10.269230769230717\" /><desc class=\"value\">4.3</desc><desc class=\"x centered\">282.07746226473193</desc><desc class=\"y centered\">40.20062847417597</desc></g><g class=\"rect\"><desc class=\"label\">CVE-2021-22135: elasticsearch</desc><rect class=\"rect reactive tooltip-trigger\" height=\"59.86279540989051\" width=\"42.201384490272005\" x=\"299.1968918221064\" y=\"10.269230769230717\" /><desc class=\"value\">5.3</desc><desc class=\"x centered\">320.2975840672424</desc><desc class=\"y centered\">40.20062847417597</desc></g><g class=\"rect\"><desc class=\"label\">CVE-2021-22137: elasticsearch</desc><rect class=\"rect reactive tooltip-trigger\" height=\"54.05513190746552\" width=\"46.73548572742226\" x=\"341.3982763123784\" y=\"76.56326046706579\" /><desc class=\"value\">5.3</desc><desc class=\"x centered\">364.76601917608957</desc><desc class=\"y centered\">103.59082642079855</desc></g><g class=\"rect\"><desc class=\"label\">CVE-2021-22144: elasticsearch</desc><rect class=\"rect reactive tooltip-trigger\" height=\"66.29402969783507\" width=\"46.73548572742226\" x=\"341.3982763123784\" y=\"10.269230769230717\" /><desc class=\"value\">6.5</desc><desc class=\"x centered\">364.76601917608957</desc><desc class=\"y centered\">43.41624561814825</desc></g><g class=\"rect\"><desc class=\"label\">CVE-2021-22145: elasticsearch</desc><rect class=\"rect reactive tooltip-trigger\" height=\"52.464475893368615\" width=\"59.05488668282089\" x=\"388.1337620398006\" y=\"214.05057743260244\" /><desc class=\"value\">6.5</desc><desc class=\"x centered\">417.66120538121106</desc><desc class=\"y centered\">240.28281537928675</desc></g><g class=\"rect\"><desc class=\"label\">CVE-2021-28938: elasticsearch</desc><rect class=\"rect reactive tooltip-trigger\" height=\"34.70726866792069\" width=\"59.05488668282089\" x=\"388.1337620398006\" y=\"179.34330876468175\" /><desc class=\"value\">4.3</desc><desc class=\"x centered\">417.66120538121106</desc><desc class=\"y centered\">196.6969430986421</desc></g><g class=\"rect\"><desc class=\"label\">CVE-2021-20326: mongodb</desc><rect class=\"rect reactive tooltip-trigger\" height=\"87.1717445612893\" width=\"35.542292910957144\" x=\"447.1886487226215\" y=\"179.34330876468175\" /><desc class=\"value\">6.5</desc><desc class=\"x centered\">464.9597951781001</desc><desc class=\"y centered\">222.9291810453264</desc></g><g class=\"rect\"><desc class=\"label\">CVE-2021-20327: mongodb</desc><rect class=\"rect reactive tooltip-trigger\" height=\"87.1717445612893\" width=\"37.18270642992428\" x=\"482.73094163357865\" y=\"179.34330876468175\" /><desc class=\"value\">6.8</desc><desc class=\"x centered\">501.32229484854076</desc><desc class=\"y centered\">222.9291810453264</desc></g><g class=\"rect\"><desc class=\"label\">CVE-2021-20328: mongodb</desc><rect class=\"rect reactive tooltip-trigger\" height=\"48.1072283263548\" width=\"67.37618232790788\" x=\"388.1337620398006\" y=\"131.23608043832695\" /><desc class=\"value\">6.8</desc><desc class=\"x centered\">421.8218532037546</desc><desc class=\"y centered\">155.28969460150435</desc></g><g class=\"rect\"><desc class=\"label\">CVE-2021-20329: mongodb</desc><rect class=\"rect reactive tooltip-trigger\" height=\"48.1072283263548\" width=\"64.40370369579443\" x=\"455.5099443677085\" y=\"131.23608043832695\" /><desc class=\"value\">6.5</desc><desc class=\"x centered\">487.7117962156057</desc><desc class=\"y centered\">155.28969460150435</desc></g><g class=\"rect\"><desc class=\"label\">CVE-2021-20331: mongodb</desc><rect class=\"rect reactive tooltip-trigger\" height=\"43.30694762920092\" width=\"53.9319754131094\" x=\"519.9136480635029\" y=\"223.20810569677013\" /><desc class=\"value\">4.9</desc><desc class=\"x centered\">546.8796357700576</desc><desc class=\"y centered\">244.8615795113706</desc></g><g class=\"rect\"><desc class=\"label\">CVE-2021-20332: mongodb</desc><rect class=\"rect reactive tooltip-trigger\" height=\"38.88787134050688\" width=\"53.9319754131094\" x=\"519.9136480635029\" y=\"184.32023435626326\" /><desc class=\"value\">4.4</desc><desc class=\"x centered\">546.8796357700576</desc><desc class=\"y centered\">203.7641700265167</desc></g><g class=\"rect\"><desc class=\"label\">CVE-2021-20333: mongodb</desc><rect class=\"rect reactive tooltip-trigger\" height=\"82.1948189697078\" width=\"30.735426848331144\" x=\"573.8456234766123\" y=\"184.32023435626326\" /><desc class=\"value\">5.3</desc><desc class=\"x centered\">589.2133369007779</desc><desc class=\"y centered\">225.41764384111715</desc></g><g class=\"rect\"><desc class=\"label\">CVE-2021-20335: mongodb</desc><rect class=\"rect reactive tooltip-trigger\" height=\"82.1948189697078\" width=\"26.676030849495078\" x=\"604.5810503249436\" y=\"184.32023435626326\" /><desc class=\"value\">4.6</desc><desc class=\"x centered\">617.9190657496911</desc><desc class=\"y centered\">225.41764384111715</desc></g><g class=\"rect\"><desc class=\"label\">CVE-2021-24122: tomcat</desc><rect class=\"rect reactive tooltip-trigger\" height=\"53.084153917936305\" width=\"52.97792381891293\" x=\"519.9136480635029\" y=\"131.23608043832695\" /><desc class=\"value\">5.9</desc><desc class=\"x centered\">546.4026099729595</desc><desc class=\"y centered\">157.7781573972951</desc></g><g class=\"rect\"><desc class=\"label\">CVE-2021-30640: tomcat</desc><rect class=\"rect reactive tooltip-trigger\" height=\"53.084153917936305\" width=\"58.36550929202269\" x=\"572.8915718824159\" y=\"131.23608043832695\" /><desc class=\"value\">6.5</desc><desc class=\"x centered\">602.0743265284273</desc><desc class=\"y centered\">157.7781573972951</desc></g><g class=\"rect\"><desc class=\"label\">CVE-2021-33037: tomcat</desc><rect class=\"rect reactive tooltip-trigger\" height=\"60.483424834548146\" width=\"41.76834980270928\" x=\"388.1337620398006\" y=\"70.7526556037788\" /><desc class=\"value\">5.3</desc><desc class=\"x centered\">409.01793694115526</desc><desc class=\"y centered\">100.99436802105288</desc></g><g class=\"rect\"><desc class=\"label\">CVE-2021-28164: jetty</desc><rect class=\"rect reactive tooltip-trigger\" height=\"60.483424834548146\" width=\"41.76834980270934\" x=\"429.9021118425099\" y=\"70.7526556037788\" /><desc class=\"value\">5.3</desc><desc class=\"x centered\">450.7862867438646</desc><desc class=\"y centered\">100.99436802105288</desc></g><g class=\"rect\"><desc class=\"label\">CVE-2021-28169: jetty</desc><rect class=\"rect reactive tooltip-trigger\" height=\"60.48342483454809\" width=\"41.76834980270928\" x=\"388.1337620398006\" y=\"10.269230769230717\" /><desc class=\"value\">5.3</desc><desc class=\"x centered\">409.01793694115526</desc><desc class=\"y centered\">40.51094318650476</desc></g><g class=\"rect\"><desc class=\"label\">CVE-2021-34429: jetty</desc><rect class=\"rect reactive tooltip-trigger\" height=\"60.48342483454809\" width=\"41.76834980270934\" x=\"429.9021118425099\" y=\"10.269230769230717\" /><desc class=\"value\">5.3</desc><desc class=\"x centered\">450.7862867438646</desc><desc class=\"y centered\">40.51094318650476</desc></g><g class=\"rect\"><desc class=\"label\">CVE-2021-20229: postgresql</desc><rect class=\"rect reactive tooltip-trigger\" height=\"36.89059954447612\" width=\"55.55978605832081\" x=\"471.6704616452191\" y=\"94.34548089385083\" /><desc class=\"value\">4.3</desc><desc class=\"x centered\">499.4503546743795</desc><desc class=\"y centered\">112.79078066608889</desc></g><g class=\"rect\"><desc class=\"label\">CVE-2021-3393: postgresql</desc><rect class=\"rect reactive tooltip-trigger\" height=\"36.890599544476174\" width=\"55.55978605832081\" x=\"471.6704616452191\" y=\"57.45488134937466\" /><desc class=\"value\">4.3</desc><desc class=\"x centered\">499.4503546743795</desc><desc class=\"y centered\">75.90018112161275</desc></g><g class=\"rect\"><desc class=\"label\">CVE-2021-21290: netty</desc><rect class=\"rect reactive tooltip-trigger\" height=\"47.18565058014394\" width=\"55.55978605832081\" x=\"471.6704616452191\" y=\"10.269230769230717\" /><desc class=\"value\">5.5</desc><desc class=\"x centered\">499.4503546743795</desc><desc class=\"y centered\">33.86205605930269</desc></g><g class=\"rect\"><desc class=\"label\">CVE-2021-21295: netty</desc><rect class=\"rect reactive tooltip-trigger\" height=\"38.03124440354162\" width=\"73.94678523834955\" x=\"527.23024770354\" y=\"93.20483603478533\" /><desc class=\"value\">5.9</desc><desc class=\"x centered\">564.2036403227148</desc><desc class=\"y centered\">112.22045823655614</desc></g><g class=\"rect\"><desc class=\"label\">CVE-2021-21409: netty</desc><rect class=\"rect reactive tooltip-trigger\" height=\"38.031244403541564\" width=\"73.94678523834955\" x=\"527.23024770354\" y=\"55.17359163124377\" /><desc class=\"value\">5.9</desc><desc class=\"x centered\">564.2036403227148</desc><desc class=\"y centered\">74.18921383301455</desc></g><g class=\"rect\"><desc class=\"label\">CVE-2021-20220: undertow</desc><rect class=\"rect reactive tooltip-trigger\" height=\"76.06248880708318\" width=\"30.080048232549075\" x=\"601.1770329418896\" y=\"55.17359163124377\" /><desc class=\"value\">4.8</desc><desc class=\"x centered\">616.2170570581641</desc><desc class=\"y centered\">93.20483603478536</desc></g><g class=\"rect\"><desc class=\"label\">CVE-2021-28168: jersey</desc><rect class=\"rect reactive tooltip-trigger\" height=\"44.90436086201305\" width=\"58.38240653978994\" x=\"527.23024770354\" y=\"10.269230769230717\" /><desc class=\"value\">5.5</desc><desc class=\"x centered\">556.421450973435</desc><desc class=\"y centered\">32.72141120023724</desc></g><g class=\"rect\"><desc class=\"label\">CVE-2021-34629: sendgrid</desc><rect class=\"rect reactive tooltip-trigger\" height=\"44.90436086201305\" width=\"45.64442693110868\" x=\"585.61265424333\" y=\"10.269230769230717\" /><desc class=\"value\">4.3</desc><desc class=\"x centered\">608.4348677088843</desc><desc class=\"y centered\">32.72141120023724</desc></g></g></g><g class=\"series serie-3 color-3\"><g class=\"rects\"><g class=\"rect\"><desc class=\"label\">CVE-2021-1998: mysql</desc><rect class=\"rect reactive tooltip-trigger\" height=\"67.98445456982051\" width=\"26.64291882556131\" x=\"631.2570811744387\" y=\"455.74631466094877\" /><desc class=\"value\">3.8</desc><desc class=\"x centered\">644.5785405872193</desc><desc class=\"y centered\">489.738541945859</desc></g><g class=\"rect\"><desc class=\"label\">CVE-2021-2007: mysql</desc><rect class=\"rect reactive tooltip-trigger\" height=\"66.19538997587779\" width=\"26.64291882556131\" x=\"631.2570811744387\" y=\"389.550924685071\" /><desc class=\"value\">3.7</desc><desc class=\"x centered\">644.5785405872193</desc><desc class=\"y centered\">422.6486196730099</desc></g><g class=\"rect\"><desc class=\"label\">CVE-2021-2019: mysql</desc><rect class=\"rect reactive tooltip-trigger\" height=\"48.304744036451325\" width=\"26.64291882556131\" x=\"631.2570811744387\" y=\"341.24618064861966\" /><desc class=\"value\">2.7</desc><desc class=\"x centered\">644.5785405872193</desc><desc class=\"y centered\">365.3985526668453</desc></g><g class=\"rect\"><desc class=\"label\">CVE-2021-2042: mysql</desc><rect class=\"rect reactive tooltip-trigger\" height=\"41.14848566068076\" width=\"26.64291882556131\" x=\"631.2570811744387\" y=\"300.0976949879389\" /><desc class=\"value\">2.3</desc><desc class=\"x centered\">644.5785405872193</desc><desc class=\"y centered\">320.6719378182793</desc></g><g class=\"rect\"><desc class=\"label\">CVE-2021-2232: mysql</desc><rect class=\"rect reactive tooltip-trigger\" height=\"33.99222728491026\" width=\"26.64291882556131\" x=\"631.2570811744387\" y=\"266.10546770302864\" /><desc class=\"value\">1.9</desc><desc class=\"x centered\">644.5785405872193</desc><desc class=\"y centered\">283.10158134548374</desc></g><g class=\"rect\"><desc class=\"label\">CVE-2021-2301: mysql</desc><rect class=\"rect reactive tooltip-trigger\" height=\"48.304744036451325\" width=\"26.64291882556131\" x=\"631.2570811744387\" y=\"217.8007236665773\" /><desc class=\"value\">2.7</desc><desc class=\"x centered\">644.5785405872193</desc><desc class=\"y centered\">241.95309568480297</desc></g><g class=\"rect\"><desc class=\"label\">CVE-2021-2308: mysql</desc><rect class=\"rect reactive tooltip-trigger\" height=\"48.304744036451325\" width=\"26.64291882556131\" x=\"631.2570811744387\" y=\"169.495979630126\" /><desc class=\"value\">2.7</desc><desc class=\"x centered\">644.5785405872193</desc><desc class=\"y centered\">193.64835164835165</desc></g><g class=\"rect\"><desc class=\"label\">CVE-2021-2340: mysql</desc><rect class=\"rect reactive tooltip-trigger\" height=\"48.30474403645138\" width=\"26.64291882556131\" x=\"631.2570811744387\" y=\"121.1912355936746\" /><desc class=\"value\">2.7</desc><desc class=\"x centered\">644.5785405872193</desc><desc class=\"y centered\">145.3436076119003</desc></g><g class=\"rect\"><desc class=\"label\">CVE-2021-28163: jetty</desc><rect class=\"rect reactive tooltip-trigger\" height=\"48.304744036451325\" width=\"26.64291882556131\" x=\"631.2570811744387\" y=\"72.88649155722328\" /><desc class=\"value\">2.7</desc><desc class=\"x centered\">644.5785405872193</desc><desc class=\"y centered\">97.03886357544894</desc></g><g class=\"rect\"><desc class=\"label\">CVE-2021-34428: jetty</desc><rect class=\"rect reactive tooltip-trigger\" height=\"62.617260787992564\" width=\"26.64291882556131\" x=\"631.2570811744387\" y=\"10.269230769230717\" /><desc class=\"value\">3.5</desc><desc class=\"x centered\">644.5785405872193</desc><desc class=\"y centered\">41.577861163227</desc></g></g></g></g><g class=\"titles\"><text class=\"title plot_title\" x=\"400.0\" y=\"26\">Schweregrad der jeweiligen Schwachstelle (CVE) anhand des Base Score</text></g><g class=\"plot overlay\" transform=\"translate(109, 46)\"><g class=\"series serie-0 color-0\" /><g class=\"series serie-1 color-1\" /><g class=\"series serie-2 color-2\" /><g class=\"series serie-3 color-3\" /></g><g class=\"plot text-overlay\" transform=\"translate(109, 46)\"><g class=\"series serie-0 color-0\" /><g class=\"series serie-1 color-1\" /><g class=\"series serie-2 color-2\" /><g class=\"series serie-3 color-3\" /></g><g class=\"plot tooltip-overlay\" transform=\"translate(109, 46)\"><g class=\"tooltip\" style=\"opacity: 0\" transform=\"translate(0 0)\"><rect class=\"tooltip-box\" height=\"0\" rx=\"0\" ry=\"0\" width=\"0\" /><g class=\"text\" /></g></g><g class=\"legends\" transform=\"translate(10, 56)\"><g class=\"legend reactive activate-serie\" id=\"activate-serie-0\"><rect class=\"color-0 reactive\" height=\"12\" width=\"12\" x=\"0.0\" y=\"1.0\" /><text x=\"17.0\" y=\"11.2\">Critical</text></g><g class=\"legend reactive activate-serie\" id=\"activate-serie-1\"><rect class=\"color-1 reactive\" height=\"12\" width=\"12\" x=\"0.0\" y=\"22.0\" /><text x=\"17.0\" y=\"32.2\">High</text></g><g class=\"legend reactive activate-serie\" id=\"activate-serie-2\"><rect class=\"color-2 reactive\" height=\"12\" width=\"12\" x=\"0.0\" y=\"43.0\" /><text x=\"17.0\" y=\"53.2\">Medium</text></g><g class=\"legend reactive activate-serie\" id=\"activate-serie-3\"><rect class=\"color-3 reactive\" height=\"12\" width=\"12\" x=\"0.0\" y=\"64.0\" /><text x=\"17.0\" y=\"74.2\">Low</text></g><g class=\"legend reactive activate-serie\" id=\"activate-serie-4\"><rect class=\"color-4 reactive\" height=\"12\" width=\"12\" x=\"0.0\" y=\"85.0\" /><text x=\"17.0\" y=\"95.2\">None</text></g></g><g class=\"legends\" transform=\"translate(790, 56)\" /></g></svg>\n",
       "    </figure>\n",
       "  </body>\n",
       "</html>\n"
      ],
      "text/plain": [
       "<IPython.core.display.HTML object>"
      ]
     },
     "metadata": {},
     "output_type": "display_data"
    }
   ],
   "source": [
    "df_interimResult = df_compact[0:0]\n",
    "cveListC = []\n",
    "cveListH = []\n",
    "cveListM = []\n",
    "cveListL = []\n",
    "cveListN = []\n",
    "\n",
    "\n",
    "treemap_BaseS = pygal.Treemap()\n",
    "treemap_BaseS.title = 'Schweregrad der jeweiligen Schwachstelle (CVE) anhand des Base Score'\n",
    "\n",
    "for j in df_count.index:\n",
    "    artefakt = df_count['Artefakt'][j]\n",
    "    df_interimResult = df_compact.loc[df_compact['verwendetes Artefakt'].str.contains(artefakt, case=False)]\n",
    "    \n",
    "    for i in df_interimResult.index:\n",
    "        baseScore = df_interimResult['Base Score'][i]\n",
    "        if baseScore >= 9:\n",
    "            cveListC.append({'value': df_interimResult['Base Score'][i], 'label': (df_interimResult['CVE-ID'][i]+': ' + artefakt)})\n",
    "        elif baseScore >= 7 and baseScore < 9:\n",
    "            cveListH.append({'value': df_interimResult['Base Score'][i], 'label': (df_interimResult['CVE-ID'][i]+': ' + artefakt)})\n",
    "        elif baseScore >= 4 and baseScore < 7:\n",
    "            cveListM.append({'value': df_interimResult['Base Score'][i], 'label': (df_interimResult['CVE-ID'][i]+': ' + artefakt)})\n",
    "        elif baseScore < 4:\n",
    "            cveListL.append({'value': df_interimResult['Base Score'][i], 'label': (df_interimResult['CVE-ID'][i]+': ' + artefakt)})\n",
    "        elif baseScore == 0:\n",
    "            cveListN.append({'value': df_interimResult['Base Score'][i], 'label': (df_interimResult['CVE-ID'][i]+': ' + artefakt)})\n",
    "    \n",
    "treemap_BaseS.add('Critical', cveListC)\n",
    "treemap_BaseS.add('High', cveListH)\n",
    "treemap_BaseS.add('Medium', cveListM)\n",
    "treemap_BaseS.add('Low', cveListL)\n",
    "treemap_BaseS.add('None', cveListN)\n",
    "    \n",
    " \n",
    "\n",
    "display(HTML(base_html.format(rendered_chart=treemap_BaseS.render(is_unicode=True))))"
   ]
  },
  {
   "cell_type": "markdown",
   "metadata": {
    "slideshow": {
     "slide_type": "subslide"
    }
   },
   "source": [
    "CVE mit den höchsten Werten sollten zuerst gegen geprüft werden. &rarr; mögliche Priorisierung"
   ]
  },
  {
   "cell_type": "markdown",
   "metadata": {
    "slideshow": {
     "slide_type": "slide"
    }
   },
   "source": [
    "## Ergebnisse"
   ]
  },
  {
   "cell_type": "markdown",
   "metadata": {
    "slideshow": {
     "slide_type": "subslide"
    }
   },
   "source": [
    "### Softwareanalyse\n",
    "* Die häufigsten CVE bzgl. Petclinic treten aufgrund von der Verwendung von mysql. (2020 unteranderem auch FasterXML jackson-databind)\n",
    "* Besonders häufig werden Schwachstellen bzgl. der Verfügbarkeit ausgenutzt.\n",
    "* Anhand des Base Scores konnten 2 Artefakte (postgresql & solr) mit je 2 CVE identifiziert werden, deren Schwachstellen möglichst zeitnah kritisch analysiert werden sollten."
   ]
  },
  {
   "cell_type": "markdown",
   "metadata": {
    "slideshow": {
     "slide_type": "subslide"
    }
   },
   "source": [
    "### Hindernisse/Verbesserungspotentiale\n",
    "* betroffene Artefaktversionen innerhalb der JSON-Datei/Response werden in vier statt zwei Spalten gepflegt <br>\n",
    "&rarr; Verhinderung von weiterer Eingrenzung der Liste<br>\n",
    "&rarr; zusätzliche manuelle Einkürzung notwendig\n",
    "* fehlende Versionsnummern an einigen Artefakten\n",
    "* Verbesserung der Schnittstelle zur API\n",
    "* Verbesserung der Regex-Ausdrücke\n",
    "* Interessante Idee: Relation zwischen betroffene Artefakte, Klassen und Codezeilen"
   ]
  },
  {
   "cell_type": "markdown",
   "metadata": {
    "slideshow": {
     "slide_type": "slide"
    }
   },
   "source": [
    "## Nächste Schritte\n",
    "* Präsentation der Ergebnisse und Diskussion mit den Domainexperten und dem Projekt (womöglich einem Teil der Stakeholder)\n",
    "* Sichtung der Ergebnistabelle und weitere Kürzung der CVE-Liste\n",
    "* Planung & Aufwandsschätzung von möglichen Updates & Bugfixes\n",
    "* Regelmäßige CVE-Scans planen"
   ]
  },
  {
   "cell_type": "markdown",
   "metadata": {
    "slideshow": {
     "slide_type": "slide"
    }
   },
   "source": [
    "## Quellen\n",
    "\n",
    "- Harrer, M., Software Analytics Canvas, URL: https://www.feststelltaste.de/software-analytics-canvas/, gelesen am 24.07.2021\n",
    "- o.V., NVD Data Feeds, URL: https://nvd.nist.gov/vuln/data-feeds, gelesen am 31.07.2021\n",
    "- o.V., Vulnerability Metrics, URL: https://nvd.nist.gov/vuln-metrics/cvss, gelesen am 26.08.2021\n",
    "- o.V., Common Vulnerability Scoring System version 3.1: Specification Document, URL: https://www.first.org/cvss/specification-document, gelesen am 26.08.2021"
   ]
  }
 ],
 "metadata": {
  "celltoolbar": "Slideshow",
  "extensions": {
   "jupyter_dashboards": {
    "activeView": "grid_default",
    "version": 1,
    "views": {
     "grid_default": {
      "cellMargin": 10,
      "defaultCellHeight": 20,
      "maxColumns": 12,
      "name": "grid",
      "type": "grid"
     },
     "report_default": {
      "name": "report",
      "type": "report"
     }
    }
   }
  },
  "kernelspec": {
   "display_name": "Python 3",
   "language": "python",
   "name": "python3"
  },
  "language_info": {
   "codemirror_mode": {
    "name": "ipython",
    "version": 3
   },
   "file_extension": ".py",
   "mimetype": "text/x-python",
   "name": "python",
   "nbconvert_exporter": "python",
   "pygments_lexer": "ipython3",
   "version": "3.7.8"
  }
 },
 "nbformat": 4,
 "nbformat_minor": 4
}
